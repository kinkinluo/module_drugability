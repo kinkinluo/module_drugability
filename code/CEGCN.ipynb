{
 "cells": [
  {
   "cell_type": "code",
   "execution_count": 56,
   "metadata": {},
   "outputs": [],
   "source": [
    "import torch\n",
    "from torch_geometric.data import Data\n",
    "import pandas as pd\n",
    "\n",
    "def load_custom_data(nodes_path: str, edges_path: str) -> Data:\n",
    "    \"\"\"\n",
    "    加载自定义的图数据集。\n",
    "    \n",
    "    参数:\n",
    "        nodes_path (str): 节点数据的CSV文件路径。\n",
    "        edges_path (str): 边数据的CSV文件路径。\n",
    "    \n",
    "    返回:\n",
    "        Data: PyTorch Geometric 的数据对象。\n",
    "        dict: 节点名称到ID的映射。\n",
    "        dict: ID到节点名称的映射。\n",
    "    \"\"\"\n",
    "    # 读取节点数据\n",
    "    nodes_df = pd.read_csv(nodes_path)\n",
    "    num_nodes = nodes_df.shape[0]\n",
    "    \n",
    "    # 创建节点名称到ID的映射\n",
    "    node_names = nodes_df['filename'].tolist()\n",
    "    name_to_id = {name: idx for idx, name in enumerate(node_names)}\n",
    "    id_to_name = {idx: name for name, idx in name_to_id.items()}\n",
    "    \n",
    "    # 节点特征\n",
    "    feature_cols = [col for col in nodes_df.columns if col.startswith('feature_')]\n",
    "    x = torch.tensor(nodes_df[feature_cols].values, dtype=torch.float)\n",
    "    \n",
    "    # 读取边数据\n",
    "    edges_df = pd.read_csv(edges_path)\n",
    "    \n",
    "    # 将边的节点名称转换为ID\n",
    "    edge_index = edges_df[['node1', 'node2']].applymap(lambda name: name_to_id.get(name, -1))\n",
    "    \n",
    "    # 检查是否有未映射的节点\n",
    "    if (edge_index == -1).any().any():\n",
    "        raise ValueError(\"存在未在nodes.csv中定义的节点名称。请检查edges.csv中的节点名称是否与nodes.csv一致。\")\n",
    "    \n",
    "    edge_index = torch.tensor(edge_index.values, dtype=torch.long).t().contiguous()\n",
    "    \n",
    "    # 边属性（权重）\n",
    "    edge_attr = torch.tensor(edges_df['combined_score'].values, dtype=torch.float).unsqueeze(1)\n",
    "    \n",
    "    # 创建Data对象\n",
    "    data = Data(x=x, edge_index=edge_index, edge_attr=edge_attr)\n",
    "    \n",
    "    return data, name_to_id, id_to_name\n",
    "\n",
    "# 示例用法\n",
    "# data, name_to_id, id_to_name = load_custom_data('nodes.csv', 'edges.csv')\n",
    "# print(data)\n"
   ]
  },
  {
   "cell_type": "code",
   "execution_count": 57,
   "metadata": {},
   "outputs": [],
   "source": [
    "import torch.nn as nn\n",
    "import torch.nn.functional as F\n",
    "import torch\n",
    "import numpy as np\n",
    "from typing import Optional\n",
    "from torch_geometric.typing import OptTensor\n",
    "from torch.nn import Parameter\n",
    "from torch_geometric.nn.conv import MessagePassing\n",
    "from torch_geometric.utils import remove_self_loops, add_self_loops\n",
    "from torch_geometric.utils import get_laplacian\n",
    "from torch_geometric.nn.inits import glorot, zeros\n",
    "\n",
    "\n",
    "def get_filter(edge_index, edge_weight, k_taylor, k_filter):\n",
    "    edge_weight = edge_weight\n",
    "    num_nodes = maybe_num_nodes(edge_index)\n",
    "    cos_list = list()\n",
    "    sin_list = list()\n",
    "    cos = get_cos(edge_index, edge_weight, k_taylor=k_taylor)\n",
    "    sin = get_sin(edge_index, edge_weight, k_taylor=k_taylor)\n",
    "\n",
    "    cos_list.append(torch.eye(n=num_nodes))\n",
    "    sin_list.append(torch.zeros(size=(num_nodes, num_nodes)))\n",
    "\n",
    "    for i in range(1, k_filter):\n",
    "        if i == 1:\n",
    "            cos_list.append(cos)\n",
    "            sin_list.append(sin)\n",
    "        else:\n",
    "            cos_list.append(cos_list[-1] @ cos - sin_list[-1] @ sin)\n",
    "            sin_list.append(cos_list[-1] @ sin + sin_list[-1] @ cos)\n",
    "\n",
    "    return cos_list, sin_list\n",
    "class CEConv(MessagePassing):\n",
    "    def __init__(self, in_channels, out_channels, K, normalization='sym', bias=True,\n",
    "                 cos_list=None, sin_list=None, **kwargs):\n",
    "        kwargs.setdefault('aggr', 'add')\n",
    "        super(CEConv, self).__init__(**kwargs)\n",
    "\n",
    "        assert K > 0\n",
    "        assert normalization in [None, 'sym', 'rw'], 'Invalid normalization'\n",
    "\n",
    "        self.k_filter = K\n",
    "        self.in_channels = in_channels\n",
    "        self.out_channels = out_channels\n",
    "        self.normalization = normalization\n",
    "        self.cos_list = cos_list\n",
    "        self.sin_list = sin_list\n",
    "\n",
    "        self.weight = Parameter(torch.Tensor(K, in_channels, out_channels))\n",
    "        self.a = Parameter(torch.Tensor(K))\n",
    "        self.b = Parameter(torch.Tensor(K))\n",
    "\n",
    "        if bias:\n",
    "            self.bias = Parameter(torch.Tensor(out_channels))\n",
    "        else:\n",
    "            self.register_parameter('bias', None)\n",
    "\n",
    "        self.reset_parameters()\n",
    "\n",
    "    def reset_parameters(self):\n",
    "        \"\"\"Reinitialize learnable parameters.\"\"\"\n",
    "        torch.nn.init.uniform_(self.a, a=0.5, b=0.51)\n",
    "        torch.nn.init.uniform_(self.b, a=0.5, b=0.51)\n",
    "        glorot(self.weight)\n",
    "        zeros(self.bias)\n",
    "\n",
    "\n",
    "\n",
    "    # CEGCN without high-pass filter\n",
    "    def forward(self, edge_index, edge_weight, x, batch: OptTensor = None):\n",
    "\n",
    "        Filter = (self.a[0] * self.cos_list[0].to(edge_index.device))  # aI-0b = I\n",
    "        Tx_0 = x\n",
    "        out = torch.matmul(torch.matmul(Filter, Tx_0), self.weight[0])\n",
    "        # out = torch.matmul(x, self.weight[0])\n",
    "\n",
    "        for k in range(1, self.weight.size(0)):\n",
    "            Tx_1 = self.propagate(edge_index, edge_weight=edge_weight, x=Tx_0, size=None)\n",
    "            Tx_0 = Tx_1\n",
    "            out = out + torch.matmul(Tx_1, self.weight[k])\n",
    "\n",
    "        if self.bias is not None:\n",
    "            out += self.bias\n",
    "\n",
    "        return out\n",
    "\n",
    "\n",
    "    '''\n",
    "    def forward(self, edge_index, edge_weight, x, batch: OptTensor = None):\n",
    "\n",
    "        Filter = (self.a[0] * self.cos_list[0].to(edge_index.device))  # aI-0b = I\n",
    "        Tx_0 = x\n",
    "        out = torch.matmul(torch.matmul(Filter, Tx_0), self.weight[0])\n",
    "        # out = torch.matmul(x, self.weight[0])\n",
    "\n",
    "        # FL^kX\n",
    "        for k in range(1, self.weight.size(0)):\n",
    "            Filter = (self.a[k] * self.cos_list[k].to(edge_index.device) -\n",
    "                      self.b[k] * self.sin_list[k].to(edge_index.device))\n",
    "            Tx_1 = self.propagate(edge_index, edge_weight=edge_weight, x=Tx_0, size=None)\n",
    "            Tx_0 = Tx_1\n",
    "            Tx_2 = torch.matmul(Filter, Tx_1)\n",
    "            out = out + torch.matmul(Tx_2, self.weight[k])\n",
    "\n",
    "        if self.bias is not None:\n",
    "            out += self.bias\n",
    "\n",
    "        return out\n",
    "    '''\n",
    "\n",
    "    def message(self, x_j, edge_weight):\n",
    "        # x_j has shape [E, out_channels], edge_weight has shape [1, E]\n",
    "        return edge_weight.view(-1, 1) * x_j\n",
    "\n",
    "    def __repr__(self):\n",
    "        return '{}({}, {}, K={}, normalization={})'.format(\n",
    "            self.__class__.__name__, self.in_channels, self.out_channels,\n",
    "            self.weight.size(0), self.normalization)\n",
    "\n",
    "class CEGCN(nn.Module):\n",
    "    def __init__(self, num_features: int, hidden_channels: int, embedding_dim: int, K: int, cos_list, sin_list):\n",
    "        super(CEGCN, self).__init__()\n",
    "        self.conv1 = CEConv(\n",
    "            in_channels=num_features, \n",
    "            out_channels=hidden_channels, \n",
    "            K=K, \n",
    "            normalization='sym',\n",
    "            cos_list=cos_list,\n",
    "            sin_list=sin_list\n",
    "        )\n",
    "        self.conv2 = CEConv(\n",
    "            in_channels=hidden_channels, \n",
    "            out_channels=embedding_dim,  # 输出嵌入维度\n",
    "            K=K, \n",
    "            normalization='sym',\n",
    "            cos_list=cos_list,\n",
    "            sin_list=sin_list\n",
    "        )\n",
    "\n",
    "    def forward(self, edge_index, edge_weight, x):\n",
    "        x = self.conv1(edge_index, edge_weight, x)\n",
    "        x = F.relu(x)\n",
    "        x = F.dropout(x, training=self.training)\n",
    "        x = self.conv2(edge_index, edge_weight, x)\n",
    "        return x  # 返回节点嵌入\n",
    "def compute_filter_lists(data: Data, K: int, k_taylor: int):\n",
    "    \"\"\"\n",
    "    计算余弦和正弦滤波器列表。\n",
    "    \"\"\"\n",
    "    edge_index, edge_weight = get_laplacian(data.edge_index, edge_weight=data.edge_attr, normalization='sym')\n",
    "    cos_list, sin_list = get_filter(edge_index, edge_weight, k_taylor=k_taylor, k_filter=K)\n",
    "    return cos_list, sin_list\n"
   ]
  },
  {
   "cell_type": "code",
   "execution_count": 58,
   "metadata": {},
   "outputs": [],
   "source": [
    "class Decoder(nn.Module):\n",
    "    def __init__(self, embedding_dim):\n",
    "        super(Decoder, self).__init__()\n",
    "        self.embedding_dim = embedding_dim\n",
    "\n",
    "    def forward(self, z):\n",
    "        # 使用点积作为解码器，重构邻接矩阵\n",
    "        adj_reconstructed = torch.sigmoid(torch.matmul(z, z.t()))\n",
    "        return adj_reconstructed\n"
   ]
  },
  {
   "cell_type": "code",
   "execution_count": 59,
   "metadata": {},
   "outputs": [],
   "source": [
    "class Autoencoder(nn.Module):\n",
    "    def __init__(self, encoder: nn.Module, decoder: nn.Module):\n",
    "        super(Autoencoder, self).__init__()\n",
    "        self.encoder = encoder\n",
    "        self.decoder = decoder\n",
    "\n",
    "    def forward(self, edge_index, edge_weight, x):\n",
    "        z = self.encoder(edge_index, edge_weight, x)\n",
    "        adj_reconstructed = self.decoder(z)\n",
    "        return adj_reconstructed, z\n"
   ]
  },
  {
   "cell_type": "code",
   "execution_count": 60,
   "metadata": {},
   "outputs": [],
   "source": [
    "from torch_geometric.utils import to_dense_adj\n",
    "\n",
    "def train(model: nn.Module, data: Data, optimizer: torch.optim.Optimizer, criterion) -> float:\n",
    "    model.train()\n",
    "    optimizer.zero_grad()\n",
    "    adj_reconstructed, embeddings = model(data.edge_index, data.edge_attr, data.x)\n",
    "    \n",
    "    # 将 adj_true 的形状从 [166, 166, 1] 转换为 [166, 166]\n",
    "    adj_true = to_dense_adj(data.edge_index, edge_attr=data.edge_attr)[0].squeeze(-1)\n",
    "    \n",
    "    loss = criterion(adj_reconstructed, adj_true)\n",
    "    loss.backward()\n",
    "    optimizer.step()\n",
    "    return loss.item()\n"
   ]
  },
  {
   "cell_type": "code",
   "execution_count": null,
   "metadata": {},
   "outputs": [],
   "source": []
  },
  {
   "cell_type": "code",
   "execution_count": 61,
   "metadata": {},
   "outputs": [],
   "source": [
    "from sklearn.cluster import KMeans\n",
    "from networkx.algorithms.community import modularity\n",
    "import networkx as nx\n",
    "\n",
    "def evaluate(model: nn.Module, data: Data, embeddings: torch.Tensor, num_communities: int = 2) -> list:\n",
    "    \"\"\"\n",
    "    使用K-Means对节点嵌入进行聚类，并计算模块度。\n",
    "    \n",
    "    参数:\n",
    "        model (nn.Module): 训练好的自编码器模型。\n",
    "        data (Data): 图数据对象。\n",
    "        embeddings (torch.Tensor): 节点嵌入。\n",
    "        num_communities (int): 期望的社区数量。\n",
    "    \n",
    "    返回:\n",
    "        list: [模块度值, 预测的社区划分]\n",
    "    \"\"\"\n",
    "    embeddings = embeddings.detach().cpu().numpy()\n",
    "\n",
    "    # 使用 K-Means 聚类\n",
    "    kmeans = KMeans(n_clusters=num_communities, random_state=42)\n",
    "    predicted_communities = kmeans.fit_predict(embeddings)\n",
    "\n",
    "    # 创建 NetworkX 图\n",
    "    G = nx.Graph()\n",
    "    edge_index_np = data.edge_index.cpu().numpy()\n",
    "    G.add_weighted_edges_from([(src, tgt, weight) for src, tgt, weight in zip(edge_index_np[0], edge_index_np[1], data.edge_attr.cpu().numpy().flatten())])\n",
    "\n",
    "    # 创建社区列表\n",
    "    communities = []\n",
    "    for i in range(num_communities):\n",
    "        communities.append([node for node, comm in enumerate(predicted_communities) if comm == i])\n",
    "\n",
    "    # 计算模块度\n",
    "    mod = modularity(G, communities)\n",
    "\n",
    "    print(f'Modularity: {mod:.4f}')\n",
    "\n",
    "    return [mod, predicted_communities]\n"
   ]
  },
  {
   "cell_type": "code",
   "execution_count": 62,
   "metadata": {},
   "outputs": [],
   "source": [
    "def visualize_embeddings(embeddings, predicted_communities):\n",
    "    \"\"\"\n",
    "    使用 t-SNE 对节点嵌入进行降维，并绘制散点图。\n",
    "    \"\"\"\n",
    "    tsne = TSNE(n_components=2, random_state=42)\n",
    "    embeddings_2d = tsne.fit_transform(embeddings)\n",
    "\n",
    "    plt.figure(figsize=(12, 6))\n",
    "\n",
    "    # 绘制预测社区\n",
    "    scatter = plt.scatter(embeddings_2d[:, 0], embeddings_2d[:, 1], c=predicted_communities, cmap='viridis', s=50)\n",
    "    plt.title('Node Embeddings with Predicted Communities')\n",
    "    plt.xlabel('TSNE Dimension 1')\n",
    "    plt.ylabel('TSNE Dimension 2')\n",
    "    plt.colorbar(scatter)\n",
    "    plt.show()\n",
    "\n",
    "\n",
    "def visualize_graph(data: Data, predicted_communities):\n",
    "    \"\"\"\n",
    "    使用 NetworkX 可视化图结构，并根据预测社区对节点着色。\n",
    "    \"\"\"\n",
    "    # 创建 NetworkX 图\n",
    "    G = nx.Graph()\n",
    "    edge_index_np = data.edge_index.cpu().numpy()\n",
    "    G.add_weighted_edges_from([(src, tgt, weight) for src, tgt, weight in zip(edge_index_np[0], edge_index_np[1], data.edge_attr.cpu().numpy().flatten())])\n",
    "\n",
    "    # 获取节点颜色\n",
    "    colors = predicted_communities\n",
    "\n",
    "    # 使用spring_layout布局\n",
    "    pos = nx.spring_layout(G, seed=42)\n",
    "\n",
    "    plt.figure(figsize=(12, 10))\n",
    "    nx.draw_networkx_nodes(G, pos, node_color=colors, cmap='viridis', node_size=300)\n",
    "    nx.draw_networkx_edges(G, pos, alpha=0.5)\n",
    "    plt.title('Graph with Predicted Community Detection Results')\n",
    "    plt.axis('off')\n",
    "    plt.show()"
   ]
  },
  {
   "cell_type": "code",
   "execution_count": 63,
   "metadata": {},
   "outputs": [],
   "source": [
    "def get_cos(edge_index, edge_weight, k_taylor):\n",
    "    L = to_dense_adj(edge_index, edge_attr=edge_weight)[0]\n",
    "    print(f'[get_cos] L shape before squeeze: {L.shape}')\n",
    "    \n",
    "    # 检查并去除最后一个维度\n",
    "    if L.dim() == 4 and L.size(0) == 1 and L.size(-1) == 1:\n",
    "        L = L.squeeze(0).squeeze(-1)\n",
    "        print(f'[get_cos] L shape after squeeze: {L.shape}')\n",
    "    elif L.dim() == 3 and L.size(-1) == 1:\n",
    "        L = L.squeeze(-1)\n",
    "        print(f'[get_cos] L shape after squeeze: {L.shape}')\n",
    "    elif L.dim() == 2:\n",
    "        print(f'[get_cos] L shape is already 2D: {L.shape}')\n",
    "    else:\n",
    "        raise ValueError(f'[get_cos] Unexpected L shape: {L.shape}')\n",
    "    \n",
    "    L2 = torch.matmul(L, L)\n",
    "    print(f'[get_cos] L2 shape: {L2.shape}')\n",
    "    \n",
    "    # 实现余弦滤波器的具体逻辑\n",
    "    cos = torch.eye(L2.shape[0], device=L2.device)  # 示例：使用单位矩阵\n",
    "    return cos\n",
    "\n",
    "def get_sin(edge_index, edge_weight, k_taylor):\n",
    "    L = to_dense_adj(edge_index, edge_attr=edge_weight)[0]\n",
    "    print(f'[get_sin] L shape before squeeze: {L.shape}')\n",
    "    \n",
    "    # 检查并去除最后一个维度\n",
    "    if L.dim() == 4 and L.size(0) == 1 and L.size(-1) == 1:\n",
    "        L = L.squeeze(0).squeeze(-1)\n",
    "        print(f'[get_sin] L shape after squeeze: {L.shape}')\n",
    "    elif L.dim() == 3 and L.size(-1) == 1:\n",
    "        L = L.squeeze(-1)\n",
    "        print(f'[get_sin] L shape after squeeze: {L.shape}')\n",
    "    elif L.dim() == 2:\n",
    "        print(f'[get_sin] L shape is already 2D: {L.shape}')\n",
    "    else:\n",
    "        raise ValueError(f'[get_sin] Unexpected L shape: {L.shape}')\n",
    "    \n",
    "    L2 = torch.matmul(L, L)\n",
    "    print(f'[get_sin] L2 shape: {L2.shape}')\n",
    "    \n",
    "    # 实现正弦滤波器的具体逻辑\n",
    "    sin = torch.zeros_like(L2)  # 示例：初始化为零\n",
    "    return sin\n",
    "\n",
    "def get_filter(edge_index, edge_weight, k_taylor, k_filter):\n",
    "    \"\"\"\n",
    "    根据拉普拉斯矩阵计算余弦和正弦滤波器列表。\n",
    "    \"\"\"\n",
    "    cos_list = []\n",
    "    sin_list = []\n",
    "    cos = get_cos(edge_index, edge_weight, k_taylor=k_taylor)\n",
    "    sin = get_sin(edge_index, edge_weight, k_taylor=k_taylor)\n",
    "    \n",
    "    # 示例：添加单位矩阵作为 cos(0) = I\n",
    "    cos_list.append(torch.eye(cos.shape[0], device=cos.device))\n",
    "    sin_list.append(torch.zeros_like(sin))\n",
    "    \n",
    "    for k in range(1, k_filter + 1):\n",
    "        # 示例：按比例缩放 cos 和 sin\n",
    "        cos_scaled = cos * k\n",
    "        sin_scaled = sin * k\n",
    "        cos_list.append(cos_scaled)\n",
    "        sin_list.append(sin_scaled)\n",
    "    \n",
    "    print(f'[get_filter] cos_list length: {len(cos_list)}, sin_list length: {len(sin_list)}')\n",
    "    return cos_list, sin_list\n",
    "def compute_filter_lists(data: Data, K: int, k_taylor: int):\n",
    "    \"\"\"\n",
    "    计算余弦和正弦滤波器列表。\n",
    "    \"\"\"\n",
    "    edge_index, edge_weight = get_laplacian(data.edge_index, edge_weight=data.edge_attr, normalization='sym')\n",
    "    # 如果 edge_weight 维度过高，进行适当的调整\n",
    "    if edge_weight.dim() > 1 and edge_weight.size(-1) == 1:\n",
    "        edge_weight = edge_weight.squeeze(-1)\n",
    "    cos_list, sin_list = get_filter(edge_index, edge_weight, k_taylor=k_taylor, k_filter=K)\n",
    "    print(f'[compute_filter_lists] cos_list size: {[c.shape for c in cos_list]}, sin_list size: {[s.shape for s in sin_list]}')\n",
    "    return cos_list, sin_list\n"
   ]
  },
  {
   "cell_type": "code",
   "execution_count": 64,
   "metadata": {},
   "outputs": [],
   "source": [
    "def apply_complex_filter(data: Data) -> Data:\n",
    "    \"\"\"\n",
    "    对图数据应用复杂过滤操作，例如移除自环并重新添加。\n",
    "    \"\"\"\n",
    "    edge_index, edge_attr = data.edge_index, data.edge_attr\n",
    "\n",
    "    # 1. 移除自环\n",
    "    edge_index, edge_attr = remove_self_loops(edge_index, edge_attr)\n",
    "\n",
    "    # 2. 添加自环，填充值为1\n",
    "    edge_index, edge_attr = add_self_loops(edge_index, edge_attr, fill_value=1.0)\n",
    "\n",
    "    # 更新数据对象\n",
    "    data.edge_index = edge_index.to(device)\n",
    "    data.edge_attr = edge_attr.to(device)\n",
    "\n",
    "    return data"
   ]
  },
  {
   "cell_type": "code",
   "execution_count": 65,
   "metadata": {},
   "outputs": [],
   "source": [
    "#损失函数定义\n",
    "def reconstruction_loss(edge_index, edge_attr, embeddings):\n",
    "    # 取出边的两端\n",
    "    src, dst = edge_index\n",
    "    # 计算嵌入的相似性（内积）\n",
    "    similarity = (embeddings[src] * embeddings[dst]).sum(dim=1)\n",
    "    # 将内积通过 Sigmoid 转换为概率\n",
    "    similarity = torch.sigmoid(similarity)\n",
    "    # 计算实际边与预测边的重构误差\n",
    "    loss = torch.mean((edge_attr.squeeze() - similarity) ** 2)\n",
    "    return loss\n",
    "\n",
    "def clustering_loss(embeddings, centroids, Q):\n",
    "    # Q 是嵌入到社区的软分配概率\n",
    "    P = Q ** 2 / Q.sum(dim=0)  # 目标分布\n",
    "    P = P / P.sum(dim=1, keepdim=True)\n",
    "    loss = torch.sum(P * torch.log(P / Q))\n",
    "    return loss\n",
    "def total_loss(edge_index, edge_attr, embeddings, centroids, Q, alpha=0.1):\n",
    "    recon_loss = reconstruction_loss(edge_index, edge_attr, embeddings)\n",
    "    Q = calculate_Q(embeddings, centroids)\n",
    "    cluster_loss = clustering_loss(embeddings, centroids, Q)\n",
    "    return recon_loss + alpha * cluster_loss\n",
    "def calculate_Q(embeddings, centroids):\n",
    "    distances = torch.cdist(embeddings, centroids, p=2)  # 计算欧氏距离\n",
    "    Q = torch.softmax(-distances, dim=1)  # 转换为分布\n",
    "    return Q\n",
    "\n",
    "def train(autoencoder, data, optimizer, centroids, alpha=0.1):\n",
    "    autoencoder.train()\n",
    "    optimizer.zero_grad()\n",
    "    \n",
    "    # 前向传播\n",
    "    adj_reconstructed, embeddings = autoencoder(data.edge_index, data.edge_attr, data.x)\n",
    "    \n",
    "    # 计算总损失\n",
    "    loss = total_loss(data.edge_index, data.edge_attr, embeddings, centroids,alpha)\n",
    "    loss.backward()\n",
    "    \n",
    "    # 更新模型参数\n",
    "    optimizer.step()\n",
    "    \n",
    "    # 更新社区中心\n",
    "    with torch.no_grad():\n",
    "        centroids -= 0.01 * centroids.grad  # 手动更新社区中心\n",
    "        centroids.grad.zero_()\n",
    "    \n",
    "    return loss.item()\n"
   ]
  },
  {
   "cell_type": "code",
   "execution_count": 66,
   "metadata": {},
   "outputs": [],
   "source": [
    "device = torch.device('cuda' if torch.cuda.is_available() else 'cpu')"
   ]
  },
  {
   "cell_type": "code",
   "execution_count": 118,
   "metadata": {},
   "outputs": [
    {
     "name": "stderr",
     "output_type": "stream",
     "text": [
      "/var/folders/mf/j8hsww414zqdvq9b2tzt2b2h0000gn/T/ipykernel_5731/4179737846.py:35: FutureWarning:\n",
      "\n",
      "DataFrame.applymap has been deprecated. Use DataFrame.map instead.\n",
      "\n"
     ]
    }
   ],
   "source": [
    "nodes_path = \"/users/lfluo/downloads/nodes3.csv\"  # 替换为您的nodes.csv路径\n",
    "edges_path = \"/users/lfluo/downloads/edges2.csv\"  # 替换为您的edges.csv路径\n",
    "data, name_to_id, id_to_name = load_custom_data(nodes_path, edges_path)\n",
    "data = apply_complex_filter(data)\n",
    "device = torch.device('cuda' if torch.cuda.is_available() else 'cpu')\n"
   ]
  },
  {
   "cell_type": "code",
   "execution_count": 68,
   "metadata": {},
   "outputs": [
    {
     "name": "stdout",
     "output_type": "stream",
     "text": [
      "Data(x=[776, 128], edge_index=[2, 6073], edge_attr=[6073, 1])\n"
     ]
    }
   ],
   "source": [
    "print(data)"
   ]
  },
  {
   "cell_type": "code",
   "execution_count": null,
   "metadata": {},
   "outputs": [],
   "source": [
    "    L = to_dense_adj(edge_index, edge_attr=edge_weight)[0]\n",
    "    print(f'L shape: {L.shape}')  # 添加调试语句\n",
    "    L2 = torch.matmul(L, L)"
   ]
  },
  {
   "cell_type": "code",
   "execution_count": 116,
   "metadata": {},
   "outputs": [
    {
     "name": "stdout",
     "output_type": "stream",
     "text": [
      "[get_cos] L shape before squeeze: torch.Size([776, 776])\n",
      "[get_cos] L shape is already 2D: torch.Size([776, 776])\n",
      "[get_cos] L2 shape: torch.Size([776, 776])\n",
      "[get_sin] L shape before squeeze: torch.Size([776, 776])\n",
      "[get_sin] L shape is already 2D: torch.Size([776, 776])\n",
      "[get_sin] L2 shape: torch.Size([776, 776])\n",
      "[get_filter] cos_list length: 3, sin_list length: 3\n",
      "[compute_filter_lists] cos_list size: [torch.Size([776, 776]), torch.Size([776, 776]), torch.Size([776, 776])], sin_list size: [torch.Size([776, 776]), torch.Size([776, 776]), torch.Size([776, 776])]\n"
     ]
    }
   ],
   "source": [
    "device = torch.device('cuda' if torch.cuda.is_available() else 'cpu')\n",
    "# 计算滤波器列表\n",
    "K = 2          # 设置滤波器阶数为 2\n",
    "k_taylor = 10  # 设置泰勒级数展开的阶数\n",
    "cos_list, sin_list = compute_filter_lists(data, K=K, k_taylor=k_taylor)"
   ]
  },
  {
   "cell_type": "code",
   "execution_count": 119,
   "metadata": {},
   "outputs": [
    {
     "name": "stdout",
     "output_type": "stream",
     "text": [
      "Epoch: 010, Loss: 0.4388\n",
      "Layer: encoder.conv1.weight, Grad Mean: 0.007738, Grad Min: -0.256101, Grad Max: 0.321307\n",
      "Layer: encoder.conv1.a, Grad Mean: 0.000472, Grad Min: -0.001416, Grad Max: 0.000000\n",
      "Layer: encoder.conv1.bias, Grad Mean: 0.164246, Grad Min: -0.448222, Grad Max: 0.569783\n",
      "Layer: encoder.conv2.weight, Grad Mean: 0.013843, Grad Min: -0.398913, Grad Max: 0.395302\n",
      "Layer: encoder.conv2.a, Grad Mean: 0.003274, Grad Min: 0.000000, Grad Max: 0.009821\n",
      "Layer: encoder.conv2.bias, Grad Mean: 0.130194, Grad Min: -0.275807, Grad Max: 0.305280\n",
      "Epoch: 020, Loss: 0.2509\n",
      "Layer: encoder.conv1.weight, Grad Mean: 0.003228, Grad Min: -0.093502, Grad Max: 0.173530\n",
      "Layer: encoder.conv1.a, Grad Mean: 0.000053, Grad Min: 0.000000, Grad Max: 0.000158\n",
      "Layer: encoder.conv1.bias, Grad Mean: 0.040609, Grad Min: -0.097468, Grad Max: 0.191482\n",
      "Layer: encoder.conv2.weight, Grad Mean: 0.005896, Grad Min: -0.157813, Grad Max: 0.155209\n",
      "Layer: encoder.conv2.a, Grad Mean: 0.001535, Grad Min: 0.000000, Grad Max: 0.004605\n",
      "Layer: encoder.conv2.bias, Grad Mean: 0.055164, Grad Min: -0.126594, Grad Max: 0.128968\n",
      "Epoch: 030, Loss: 0.2103\n",
      "Layer: encoder.conv1.weight, Grad Mean: 0.001176, Grad Min: -0.031209, Grad Max: 0.062584\n",
      "Layer: encoder.conv1.a, Grad Mean: 0.000373, Grad Min: 0.000000, Grad Max: 0.001120\n",
      "Layer: encoder.conv1.bias, Grad Mean: 0.032595, Grad Min: -0.093640, Grad Max: 0.118046\n",
      "Layer: encoder.conv2.weight, Grad Mean: 0.003156, Grad Min: -0.066509, Grad Max: 0.064338\n",
      "Layer: encoder.conv2.a, Grad Mean: 0.000892, Grad Min: 0.000000, Grad Max: 0.002677\n",
      "Layer: encoder.conv2.bias, Grad Mean: 0.028688, Grad Min: -0.043983, Grad Max: 0.061970\n",
      "Epoch: 040, Loss: 0.2030\n",
      "Layer: encoder.conv1.weight, Grad Mean: 0.000790, Grad Min: -0.017645, Grad Max: 0.035411\n",
      "Layer: encoder.conv1.a, Grad Mean: 0.000251, Grad Min: 0.000000, Grad Max: 0.000754\n",
      "Layer: encoder.conv1.bias, Grad Mean: 0.021395, Grad Min: -0.041471, Grad Max: 0.143205\n",
      "Layer: encoder.conv2.weight, Grad Mean: 0.001593, Grad Min: -0.028816, Grad Max: 0.047068\n",
      "Layer: encoder.conv2.a, Grad Mean: 0.000481, Grad Min: 0.000000, Grad Max: 0.001442\n",
      "Layer: encoder.conv2.bias, Grad Mean: 0.014585, Grad Min: -0.030098, Grad Max: 0.031914\n",
      "Epoch: 050, Loss: 0.2096\n",
      "Layer: encoder.conv1.weight, Grad Mean: 0.000814, Grad Min: -0.021553, Grad Max: 0.044038\n",
      "Layer: encoder.conv1.a, Grad Mean: 0.000206, Grad Min: 0.000000, Grad Max: 0.000617\n",
      "Layer: encoder.conv1.bias, Grad Mean: 0.020380, Grad Min: -0.026271, Grad Max: 0.076708\n",
      "Layer: encoder.conv2.weight, Grad Mean: 0.001756, Grad Min: -0.043611, Grad Max: 0.076214\n",
      "Layer: encoder.conv2.a, Grad Mean: 0.000689, Grad Min: 0.000000, Grad Max: 0.002068\n",
      "Layer: encoder.conv2.bias, Grad Mean: 0.015835, Grad Min: -0.031782, Grad Max: 0.030699\n",
      "Epoch: 060, Loss: 0.1905\n",
      "Layer: encoder.conv1.weight, Grad Mean: 0.000401, Grad Min: -0.005373, Grad Max: 0.034491\n",
      "Layer: encoder.conv1.a, Grad Mean: 0.000487, Grad Min: 0.000000, Grad Max: 0.001461\n",
      "Layer: encoder.conv1.bias, Grad Mean: 0.020764, Grad Min: -0.025307, Grad Max: 0.113829\n",
      "Layer: encoder.conv2.weight, Grad Mean: 0.001152, Grad Min: -0.015744, Grad Max: 0.018096\n",
      "Layer: encoder.conv2.a, Grad Mean: 0.000302, Grad Min: 0.000000, Grad Max: 0.000907\n",
      "Layer: encoder.conv2.bias, Grad Mean: 0.004782, Grad Min: -0.010432, Grad Max: 0.011536\n",
      "Epoch: 070, Loss: 0.1895\n",
      "Layer: encoder.conv1.weight, Grad Mean: 0.000637, Grad Min: -0.011683, Grad Max: 0.055452\n",
      "Layer: encoder.conv1.a, Grad Mean: 0.000507, Grad Min: 0.000000, Grad Max: 0.001522\n",
      "Layer: encoder.conv1.bias, Grad Mean: 0.026885, Grad Min: -0.038366, Grad Max: 0.153150\n",
      "Layer: encoder.conv2.weight, Grad Mean: 0.001019, Grad Min: -0.027880, Grad Max: 0.024918\n",
      "Layer: encoder.conv2.a, Grad Mean: 0.000138, Grad Min: 0.000000, Grad Max: 0.000415\n",
      "Layer: encoder.conv2.bias, Grad Mean: 0.010205, Grad Min: -0.030730, Grad Max: 0.030607\n",
      "Epoch: 080, Loss: 0.1929\n",
      "Layer: encoder.conv1.weight, Grad Mean: 0.000325, Grad Min: -0.004013, Grad Max: 0.026448\n",
      "Layer: encoder.conv1.a, Grad Mean: 0.000479, Grad Min: 0.000000, Grad Max: 0.001436\n",
      "Layer: encoder.conv1.bias, Grad Mean: 0.021039, Grad Min: -0.032851, Grad Max: 0.129160\n",
      "Layer: encoder.conv2.weight, Grad Mean: 0.001177, Grad Min: -0.017869, Grad Max: 0.027050\n",
      "Layer: encoder.conv2.a, Grad Mean: 0.000213, Grad Min: 0.000000, Grad Max: 0.000638\n",
      "Layer: encoder.conv2.bias, Grad Mean: 0.009290, Grad Min: -0.025234, Grad Max: 0.021181\n",
      "Epoch: 090, Loss: 0.1942\n",
      "Layer: encoder.conv1.weight, Grad Mean: 0.000670, Grad Min: -0.010009, Grad Max: 0.046914\n",
      "Layer: encoder.conv1.a, Grad Mean: 0.000344, Grad Min: 0.000000, Grad Max: 0.001031\n",
      "Layer: encoder.conv1.bias, Grad Mean: 0.028383, Grad Min: -0.052403, Grad Max: 0.119088\n",
      "Layer: encoder.conv2.weight, Grad Mean: 0.001239, Grad Min: -0.027200, Grad Max: 0.041525\n",
      "Layer: encoder.conv2.a, Grad Mean: 0.000274, Grad Min: 0.000000, Grad Max: 0.000822\n",
      "Layer: encoder.conv2.bias, Grad Mean: 0.010208, Grad Min: -0.024847, Grad Max: 0.024824\n",
      "Epoch: 100, Loss: 0.1874\n",
      "Layer: encoder.conv1.weight, Grad Mean: 0.000510, Grad Min: -0.008166, Grad Max: 0.038125\n",
      "Layer: encoder.conv1.a, Grad Mean: 0.000539, Grad Min: 0.000000, Grad Max: 0.001618\n",
      "Layer: encoder.conv1.bias, Grad Mean: 0.027723, Grad Min: -0.039300, Grad Max: 0.139848\n",
      "Layer: encoder.conv2.weight, Grad Mean: 0.001318, Grad Min: -0.028018, Grad Max: 0.029740\n",
      "Layer: encoder.conv2.a, Grad Mean: 0.000136, Grad Min: 0.000000, Grad Max: 0.000409\n",
      "Layer: encoder.conv2.bias, Grad Mean: 0.010317, Grad Min: -0.033533, Grad Max: 0.034554\n",
      "Epoch: 110, Loss: 0.1819\n",
      "Layer: encoder.conv1.weight, Grad Mean: 0.000360, Grad Min: -0.003835, Grad Max: 0.018139\n",
      "Layer: encoder.conv1.a, Grad Mean: 0.000363, Grad Min: 0.000000, Grad Max: 0.001089\n",
      "Layer: encoder.conv1.bias, Grad Mean: 0.028599, Grad Min: -0.095825, Grad Max: 0.142972\n",
      "Layer: encoder.conv2.weight, Grad Mean: 0.000973, Grad Min: -0.013416, Grad Max: 0.017783\n",
      "Layer: encoder.conv2.a, Grad Mean: 0.000656, Grad Min: 0.000000, Grad Max: 0.001969\n",
      "Layer: encoder.conv2.bias, Grad Mean: 0.016717, Grad Min: -0.035260, Grad Max: 0.044391\n",
      "Epoch: 120, Loss: 0.1848\n",
      "Layer: encoder.conv1.weight, Grad Mean: 0.000452, Grad Min: -0.014400, Grad Max: 0.029017\n",
      "Layer: encoder.conv1.a, Grad Mean: 0.000488, Grad Min: 0.000000, Grad Max: 0.001463\n",
      "Layer: encoder.conv1.bias, Grad Mean: 0.029237, Grad Min: -0.045512, Grad Max: 0.123923\n",
      "Layer: encoder.conv2.weight, Grad Mean: 0.001043, Grad Min: -0.020360, Grad Max: 0.025644\n",
      "Layer: encoder.conv2.a, Grad Mean: 0.000132, Grad Min: -0.000395, Grad Max: 0.000000\n",
      "Layer: encoder.conv2.bias, Grad Mean: 0.012894, Grad Min: -0.031875, Grad Max: 0.023930\n",
      "Epoch: 130, Loss: 0.1783\n",
      "Layer: encoder.conv1.weight, Grad Mean: 0.000625, Grad Min: -0.008209, Grad Max: 0.023320\n",
      "Layer: encoder.conv1.a, Grad Mean: 0.000431, Grad Min: 0.000000, Grad Max: 0.001294\n",
      "Layer: encoder.conv1.bias, Grad Mean: 0.030382, Grad Min: 0.000000, Grad Max: 0.130174\n",
      "Layer: encoder.conv2.weight, Grad Mean: 0.001035, Grad Min: -0.020606, Grad Max: 0.019810\n",
      "Layer: encoder.conv2.a, Grad Mean: 0.000652, Grad Min: 0.000000, Grad Max: 0.001957\n",
      "Layer: encoder.conv2.bias, Grad Mean: 0.008408, Grad Min: -0.015739, Grad Max: 0.020920\n",
      "Epoch: 140, Loss: 0.1837\n",
      "Layer: encoder.conv1.weight, Grad Mean: 0.000400, Grad Min: -0.005503, Grad Max: 0.021861\n",
      "Layer: encoder.conv1.a, Grad Mean: 0.000443, Grad Min: 0.000000, Grad Max: 0.001329\n",
      "Layer: encoder.conv1.bias, Grad Mean: 0.025525, Grad Min: -0.016500, Grad Max: 0.126628\n",
      "Layer: encoder.conv2.weight, Grad Mean: 0.000888, Grad Min: -0.016500, Grad Max: 0.023930\n",
      "Layer: encoder.conv2.a, Grad Mean: 0.000125, Grad Min: 0.000000, Grad Max: 0.000374\n",
      "Layer: encoder.conv2.bias, Grad Mean: 0.011189, Grad Min: -0.030128, Grad Max: 0.027546\n",
      "Epoch: 150, Loss: 0.1836\n",
      "Layer: encoder.conv1.weight, Grad Mean: 0.000441, Grad Min: -0.010040, Grad Max: 0.016067\n",
      "Layer: encoder.conv1.a, Grad Mean: 0.000197, Grad Min: 0.000000, Grad Max: 0.000592\n",
      "Layer: encoder.conv1.bias, Grad Mean: 0.025609, Grad Min: -0.073559, Grad Max: 0.114120\n",
      "Layer: encoder.conv2.weight, Grad Mean: 0.001119, Grad Min: -0.018966, Grad Max: 0.028491\n",
      "Layer: encoder.conv2.a, Grad Mean: 0.000513, Grad Min: 0.000000, Grad Max: 0.001540\n",
      "Layer: encoder.conv2.bias, Grad Mean: 0.004695, Grad Min: -0.010599, Grad Max: 0.011530\n",
      "Epoch: 160, Loss: 0.1772\n",
      "Layer: encoder.conv1.weight, Grad Mean: 0.000267, Grad Min: -0.005820, Grad Max: 0.015697\n",
      "Layer: encoder.conv1.a, Grad Mean: 0.000455, Grad Min: 0.000000, Grad Max: 0.001365\n",
      "Layer: encoder.conv1.bias, Grad Mean: 0.028946, Grad Min: -0.057472, Grad Max: 0.148455\n",
      "Layer: encoder.conv2.weight, Grad Mean: 0.000800, Grad Min: -0.009605, Grad Max: 0.016575\n",
      "Layer: encoder.conv2.a, Grad Mean: 0.000117, Grad Min: 0.000000, Grad Max: 0.000351\n",
      "Layer: encoder.conv2.bias, Grad Mean: 0.011185, Grad Min: -0.023685, Grad Max: 0.022694\n",
      "Epoch: 170, Loss: 0.1721\n",
      "Layer: encoder.conv1.weight, Grad Mean: 0.000281, Grad Min: -0.002715, Grad Max: 0.013237\n",
      "Layer: encoder.conv1.a, Grad Mean: 0.000343, Grad Min: 0.000000, Grad Max: 0.001030\n",
      "Layer: encoder.conv1.bias, Grad Mean: 0.023376, Grad Min: -0.020243, Grad Max: 0.105418\n",
      "Layer: encoder.conv2.weight, Grad Mean: 0.000522, Grad Min: -0.009227, Grad Max: 0.014701\n",
      "Layer: encoder.conv2.a, Grad Mean: 0.000089, Grad Min: 0.000000, Grad Max: 0.000267\n",
      "Layer: encoder.conv2.bias, Grad Mean: 0.001370, Grad Min: -0.002886, Grad Max: 0.004028\n",
      "Epoch: 180, Loss: 0.1770\n",
      "Layer: encoder.conv1.weight, Grad Mean: 0.000520, Grad Min: -0.006685, Grad Max: 0.035112\n",
      "Layer: encoder.conv1.a, Grad Mean: 0.000354, Grad Min: 0.000000, Grad Max: 0.001063\n",
      "Layer: encoder.conv1.bias, Grad Mean: 0.025073, Grad Min: -0.030141, Grad Max: 0.112222\n",
      "Layer: encoder.conv2.weight, Grad Mean: 0.000861, Grad Min: -0.019378, Grad Max: 0.030054\n",
      "Layer: encoder.conv2.a, Grad Mean: 0.000239, Grad Min: 0.000000, Grad Max: 0.000718\n",
      "Layer: encoder.conv2.bias, Grad Mean: 0.018656, Grad Min: -0.044577, Grad Max: 0.037752\n",
      "Epoch: 190, Loss: 0.1730\n",
      "Layer: encoder.conv1.weight, Grad Mean: 0.000326, Grad Min: -0.004794, Grad Max: 0.011260\n",
      "Layer: encoder.conv1.a, Grad Mean: 0.000401, Grad Min: 0.000000, Grad Max: 0.001202\n",
      "Layer: encoder.conv1.bias, Grad Mean: 0.029066, Grad Min: -0.020195, Grad Max: 0.142143\n",
      "Layer: encoder.conv2.weight, Grad Mean: 0.000756, Grad Min: -0.016610, Grad Max: 0.018797\n",
      "Layer: encoder.conv2.a, Grad Mean: 0.000139, Grad Min: 0.000000, Grad Max: 0.000416\n",
      "Layer: encoder.conv2.bias, Grad Mean: 0.009570, Grad Min: -0.012597, Grad Max: 0.025056\n",
      "Epoch: 200, Loss: 0.1755\n",
      "Layer: encoder.conv1.weight, Grad Mean: 0.000429, Grad Min: -0.004293, Grad Max: 0.026582\n",
      "Layer: encoder.conv1.a, Grad Mean: 0.000272, Grad Min: 0.000000, Grad Max: 0.000816\n",
      "Layer: encoder.conv1.bias, Grad Mean: 0.026414, Grad Min: -0.010464, Grad Max: 0.139178\n",
      "Layer: encoder.conv2.weight, Grad Mean: 0.001017, Grad Min: -0.035624, Grad Max: 0.036731\n",
      "Layer: encoder.conv2.a, Grad Mean: 0.000047, Grad Min: 0.000000, Grad Max: 0.000140\n",
      "Layer: encoder.conv2.bias, Grad Mean: 0.007626, Grad Min: -0.015800, Grad Max: 0.016494\n",
      "Epoch: 210, Loss: 0.1755\n",
      "Layer: encoder.conv1.weight, Grad Mean: 0.000421, Grad Min: -0.002842, Grad Max: 0.022244\n",
      "Layer: encoder.conv1.a, Grad Mean: 0.000186, Grad Min: 0.000000, Grad Max: 0.000558\n",
      "Layer: encoder.conv1.bias, Grad Mean: 0.021248, Grad Min: -0.061977, Grad Max: 0.120175\n",
      "Layer: encoder.conv2.weight, Grad Mean: 0.000808, Grad Min: -0.017276, Grad Max: 0.013333\n",
      "Layer: encoder.conv2.a, Grad Mean: 0.000055, Grad Min: -0.000166, Grad Max: 0.000000\n",
      "Layer: encoder.conv2.bias, Grad Mean: 0.034167, Grad Min: -0.089873, Grad Max: 0.064379\n",
      "Epoch: 220, Loss: 0.1726\n",
      "Layer: encoder.conv1.weight, Grad Mean: 0.000416, Grad Min: -0.003393, Grad Max: 0.021563\n",
      "Layer: encoder.conv1.a, Grad Mean: 0.000536, Grad Min: 0.000000, Grad Max: 0.001609\n",
      "Layer: encoder.conv1.bias, Grad Mean: 0.036312, Grad Min: -0.039623, Grad Max: 0.200327\n",
      "Layer: encoder.conv2.weight, Grad Mean: 0.000766, Grad Min: -0.013074, Grad Max: 0.024301\n",
      "Layer: encoder.conv2.a, Grad Mean: 0.000479, Grad Min: 0.000000, Grad Max: 0.001436\n",
      "Layer: encoder.conv2.bias, Grad Mean: 0.010039, Grad Min: -0.013334, Grad Max: 0.027623\n",
      "Epoch: 230, Loss: 0.1722\n",
      "Layer: encoder.conv1.weight, Grad Mean: 0.000337, Grad Min: -0.000848, Grad Max: 0.020826\n",
      "Layer: encoder.conv1.a, Grad Mean: 0.000732, Grad Min: 0.000000, Grad Max: 0.002195\n",
      "Layer: encoder.conv1.bias, Grad Mean: 0.037211, Grad Min: -0.004682, Grad Max: 0.297756\n",
      "Layer: encoder.conv2.weight, Grad Mean: 0.000584, Grad Min: -0.006628, Grad Max: 0.008802\n",
      "Layer: encoder.conv2.a, Grad Mean: 0.000219, Grad Min: 0.000000, Grad Max: 0.000656\n",
      "Layer: encoder.conv2.bias, Grad Mean: 0.010802, Grad Min: -0.028273, Grad Max: 0.021043\n",
      "Epoch: 240, Loss: 0.1701\n",
      "Layer: encoder.conv1.weight, Grad Mean: 0.000485, Grad Min: -0.005321, Grad Max: 0.034669\n",
      "Layer: encoder.conv1.a, Grad Mean: 0.000333, Grad Min: 0.000000, Grad Max: 0.001000\n",
      "Layer: encoder.conv1.bias, Grad Mean: 0.029057, Grad Min: -0.017853, Grad Max: 0.143729\n",
      "Layer: encoder.conv2.weight, Grad Mean: 0.000822, Grad Min: -0.016395, Grad Max: 0.017615\n",
      "Layer: encoder.conv2.a, Grad Mean: 0.000286, Grad Min: 0.000000, Grad Max: 0.000857\n",
      "Layer: encoder.conv2.bias, Grad Mean: 0.006017, Grad Min: -0.008579, Grad Max: 0.016843\n",
      "Epoch: 250, Loss: 0.1741\n",
      "Layer: encoder.conv1.weight, Grad Mean: 0.001188, Grad Min: -0.053879, Grad Max: 0.067448\n",
      "Layer: encoder.conv1.a, Grad Mean: 0.000457, Grad Min: 0.000000, Grad Max: 0.001370\n",
      "Layer: encoder.conv1.bias, Grad Mean: 0.032855, Grad Min: -0.071574, Grad Max: 0.211034\n",
      "Layer: encoder.conv2.weight, Grad Mean: 0.001493, Grad Min: -0.037106, Grad Max: 0.029093\n",
      "Layer: encoder.conv2.a, Grad Mean: 0.000186, Grad Min: -0.000559, Grad Max: 0.000000\n",
      "Layer: encoder.conv2.bias, Grad Mean: 0.015963, Grad Min: -0.034949, Grad Max: 0.045686\n",
      "Epoch: 260, Loss: 0.1702\n",
      "Layer: encoder.conv1.weight, Grad Mean: 0.000354, Grad Min: -0.003724, Grad Max: 0.025591\n",
      "Layer: encoder.conv1.a, Grad Mean: 0.000250, Grad Min: 0.000000, Grad Max: 0.000749\n",
      "Layer: encoder.conv1.bias, Grad Mean: 0.021320, Grad Min: -0.063099, Grad Max: 0.141926\n",
      "Layer: encoder.conv2.weight, Grad Mean: 0.000779, Grad Min: -0.015603, Grad Max: 0.012604\n",
      "Layer: encoder.conv2.a, Grad Mean: 0.000152, Grad Min: -0.000456, Grad Max: 0.000000\n",
      "Layer: encoder.conv2.bias, Grad Mean: 0.021638, Grad Min: -0.062061, Grad Max: 0.035415\n",
      "Epoch: 270, Loss: 0.1686\n",
      "Layer: encoder.conv1.weight, Grad Mean: 0.000407, Grad Min: -0.003950, Grad Max: 0.023364\n",
      "Layer: encoder.conv1.a, Grad Mean: 0.000073, Grad Min: 0.000000, Grad Max: 0.000219\n",
      "Layer: encoder.conv1.bias, Grad Mean: 0.018814, Grad Min: -0.039895, Grad Max: 0.062810\n",
      "Layer: encoder.conv2.weight, Grad Mean: 0.000788, Grad Min: -0.020747, Grad Max: 0.029133\n",
      "Layer: encoder.conv2.a, Grad Mean: 0.000014, Grad Min: -0.000043, Grad Max: 0.000000\n",
      "Layer: encoder.conv2.bias, Grad Mean: 0.025719, Grad Min: -0.064252, Grad Max: 0.061626\n",
      "Epoch: 280, Loss: 0.1679\n",
      "Layer: encoder.conv1.weight, Grad Mean: 0.000269, Grad Min: -0.004617, Grad Max: 0.015318\n",
      "Layer: encoder.conv1.a, Grad Mean: 0.000203, Grad Min: 0.000000, Grad Max: 0.000609\n",
      "Layer: encoder.conv1.bias, Grad Mean: 0.020537, Grad Min: -0.008223, Grad Max: 0.122528\n",
      "Layer: encoder.conv2.weight, Grad Mean: 0.000508, Grad Min: -0.008468, Grad Max: 0.009396\n",
      "Layer: encoder.conv2.a, Grad Mean: 0.000188, Grad Min: -0.000565, Grad Max: 0.000000\n",
      "Layer: encoder.conv2.bias, Grad Mean: 0.013015, Grad Min: -0.028279, Grad Max: 0.024879\n",
      "Epoch: 290, Loss: 0.1659\n",
      "Layer: encoder.conv1.weight, Grad Mean: 0.000303, Grad Min: -0.007282, Grad Max: 0.013328\n",
      "Layer: encoder.conv1.a, Grad Mean: 0.000203, Grad Min: 0.000000, Grad Max: 0.000609\n",
      "Layer: encoder.conv1.bias, Grad Mean: 0.026891, Grad Min: -0.018514, Grad Max: 0.203585\n",
      "Layer: encoder.conv2.weight, Grad Mean: 0.000397, Grad Min: -0.004647, Grad Max: 0.007331\n",
      "Layer: encoder.conv2.a, Grad Mean: 0.000043, Grad Min: 0.000000, Grad Max: 0.000129\n",
      "Layer: encoder.conv2.bias, Grad Mean: 0.023147, Grad Min: -0.057183, Grad Max: 0.048732\n",
      "Epoch: 300, Loss: 0.1661\n",
      "Layer: encoder.conv1.weight, Grad Mean: 0.000265, Grad Min: -0.004468, Grad Max: 0.012305\n",
      "Layer: encoder.conv1.a, Grad Mean: 0.000215, Grad Min: -0.000646, Grad Max: 0.000000\n",
      "Layer: encoder.conv1.bias, Grad Mean: 0.013267, Grad Min: -0.039208, Grad Max: 0.069600\n",
      "Layer: encoder.conv2.weight, Grad Mean: 0.000490, Grad Min: -0.008660, Grad Max: 0.016921\n",
      "Layer: encoder.conv2.a, Grad Mean: 0.000243, Grad Min: 0.000000, Grad Max: 0.000730\n",
      "Layer: encoder.conv2.bias, Grad Mean: 0.020172, Grad Min: -0.046198, Grad Max: 0.051403\n",
      "Epoch: 310, Loss: 0.1645\n",
      "Layer: encoder.conv1.weight, Grad Mean: 0.000390, Grad Min: -0.004695, Grad Max: 0.025605\n",
      "Layer: encoder.conv1.a, Grad Mean: 0.000280, Grad Min: -0.000841, Grad Max: 0.000000\n",
      "Layer: encoder.conv1.bias, Grad Mean: 0.020161, Grad Min: -0.071439, Grad Max: 0.093854\n",
      "Layer: encoder.conv2.weight, Grad Mean: 0.000545, Grad Min: -0.013530, Grad Max: 0.015095\n",
      "Layer: encoder.conv2.a, Grad Mean: 0.000160, Grad Min: 0.000000, Grad Max: 0.000481\n",
      "Layer: encoder.conv2.bias, Grad Mean: 0.008299, Grad Min: -0.021395, Grad Max: 0.015210\n",
      "Epoch: 320, Loss: 0.1649\n",
      "Layer: encoder.conv1.weight, Grad Mean: 0.000205, Grad Min: -0.000038, Grad Max: 0.008113\n",
      "Layer: encoder.conv1.a, Grad Mean: 0.000002, Grad Min: -0.000005, Grad Max: 0.000000\n",
      "Layer: encoder.conv1.bias, Grad Mean: 0.012594, Grad Min: -0.007076, Grad Max: 0.071023\n",
      "Layer: encoder.conv2.weight, Grad Mean: 0.000537, Grad Min: -0.014806, Grad Max: 0.016485\n",
      "Layer: encoder.conv2.a, Grad Mean: 0.000222, Grad Min: 0.000000, Grad Max: 0.000665\n",
      "Layer: encoder.conv2.bias, Grad Mean: 0.004967, Grad Min: -0.015188, Grad Max: 0.009954\n",
      "Epoch: 330, Loss: 0.1653\n",
      "Layer: encoder.conv1.weight, Grad Mean: 0.000303, Grad Min: -0.000645, Grad Max: 0.011586\n",
      "Layer: encoder.conv1.a, Grad Mean: 0.000068, Grad Min: 0.000000, Grad Max: 0.000203\n",
      "Layer: encoder.conv1.bias, Grad Mean: 0.015752, Grad Min: 0.000000, Grad Max: 0.075709\n",
      "Layer: encoder.conv2.weight, Grad Mean: 0.000536, Grad Min: -0.014085, Grad Max: 0.013851\n",
      "Layer: encoder.conv2.a, Grad Mean: 0.000231, Grad Min: 0.000000, Grad Max: 0.000694\n",
      "Layer: encoder.conv2.bias, Grad Mean: 0.003516, Grad Min: -0.010303, Grad Max: 0.010115\n",
      "Epoch: 340, Loss: 0.1626\n",
      "Layer: encoder.conv1.weight, Grad Mean: 0.000224, Grad Min: -0.000410, Grad Max: 0.012486\n",
      "Layer: encoder.conv1.a, Grad Mean: 0.000148, Grad Min: 0.000000, Grad Max: 0.000445\n",
      "Layer: encoder.conv1.bias, Grad Mean: 0.015362, Grad Min: 0.000000, Grad Max: 0.133115\n",
      "Layer: encoder.conv2.weight, Grad Mean: 0.000464, Grad Min: -0.009259, Grad Max: 0.013248\n",
      "Layer: encoder.conv2.a, Grad Mean: 0.000330, Grad Min: -0.000989, Grad Max: 0.000000\n",
      "Layer: encoder.conv2.bias, Grad Mean: 0.033517, Grad Min: -0.074706, Grad Max: 0.077908\n",
      "Epoch: 350, Loss: 0.1648\n",
      "Layer: encoder.conv1.weight, Grad Mean: 0.000326, Grad Min: -0.001534, Grad Max: 0.018149\n",
      "Layer: encoder.conv1.a, Grad Mean: 0.000098, Grad Min: 0.000000, Grad Max: 0.000294\n",
      "Layer: encoder.conv1.bias, Grad Mean: 0.013365, Grad Min: 0.000000, Grad Max: 0.083257\n",
      "Layer: encoder.conv2.weight, Grad Mean: 0.000480, Grad Min: -0.011797, Grad Max: 0.016193\n",
      "Layer: encoder.conv2.a, Grad Mean: 0.000074, Grad Min: -0.000223, Grad Max: 0.000000\n",
      "Layer: encoder.conv2.bias, Grad Mean: 0.004213, Grad Min: -0.008645, Grad Max: 0.013008\n",
      "Epoch: 360, Loss: 0.1602\n",
      "Layer: encoder.conv1.weight, Grad Mean: 0.000206, Grad Min: -0.000718, Grad Max: 0.008264\n",
      "Layer: encoder.conv1.a, Grad Mean: 0.000073, Grad Min: -0.000218, Grad Max: 0.000000\n",
      "Layer: encoder.conv1.bias, Grad Mean: 0.015237, Grad Min: -0.002859, Grad Max: 0.084653\n",
      "Layer: encoder.conv2.weight, Grad Mean: 0.000320, Grad Min: -0.004859, Grad Max: 0.009376\n",
      "Layer: encoder.conv2.a, Grad Mean: 0.000263, Grad Min: -0.000788, Grad Max: 0.000000\n",
      "Layer: encoder.conv2.bias, Grad Mean: 0.005744, Grad Min: -0.011409, Grad Max: 0.012964\n",
      "Epoch: 370, Loss: 0.1617\n",
      "Layer: encoder.conv1.weight, Grad Mean: 0.000290, Grad Min: -0.001846, Grad Max: 0.016115\n",
      "Layer: encoder.conv1.a, Grad Mean: 0.000009, Grad Min: -0.000027, Grad Max: 0.000000\n",
      "Layer: encoder.conv1.bias, Grad Mean: 0.019207, Grad Min: -0.015414, Grad Max: 0.125080\n",
      "Layer: encoder.conv2.weight, Grad Mean: 0.000450, Grad Min: -0.012887, Grad Max: 0.014845\n",
      "Layer: encoder.conv2.a, Grad Mean: 0.000077, Grad Min: -0.000230, Grad Max: 0.000000\n",
      "Layer: encoder.conv2.bias, Grad Mean: 0.004837, Grad Min: -0.013749, Grad Max: 0.010342\n",
      "Epoch: 380, Loss: 0.1610\n",
      "Layer: encoder.conv1.weight, Grad Mean: 0.000357, Grad Min: -0.011040, Grad Max: 0.015293\n",
      "Layer: encoder.conv1.a, Grad Mean: 0.000001, Grad Min: 0.000000, Grad Max: 0.000002\n",
      "Layer: encoder.conv1.bias, Grad Mean: 0.018394, Grad Min: -0.014899, Grad Max: 0.133148\n",
      "Layer: encoder.conv2.weight, Grad Mean: 0.000518, Grad Min: -0.008667, Grad Max: 0.014543\n",
      "Layer: encoder.conv2.a, Grad Mean: 0.000029, Grad Min: 0.000000, Grad Max: 0.000086\n",
      "Layer: encoder.conv2.bias, Grad Mean: 0.012989, Grad Min: -0.025275, Grad Max: 0.032283\n",
      "Epoch: 390, Loss: 0.1609\n",
      "Layer: encoder.conv1.weight, Grad Mean: 0.000336, Grad Min: -0.003175, Grad Max: 0.013241\n",
      "Layer: encoder.conv1.a, Grad Mean: 0.000126, Grad Min: -0.000379, Grad Max: 0.000000\n",
      "Layer: encoder.conv1.bias, Grad Mean: 0.021052, Grad Min: -0.019063, Grad Max: 0.144514\n",
      "Layer: encoder.conv2.weight, Grad Mean: 0.000329, Grad Min: -0.004369, Grad Max: 0.006188\n",
      "Layer: encoder.conv2.a, Grad Mean: 0.000059, Grad Min: -0.000176, Grad Max: 0.000000\n",
      "Layer: encoder.conv2.bias, Grad Mean: 0.006718, Grad Min: -0.015112, Grad Max: 0.010978\n",
      "Epoch: 400, Loss: 0.1599\n",
      "Layer: encoder.conv1.weight, Grad Mean: 0.000278, Grad Min: -0.003249, Grad Max: 0.010367\n",
      "Layer: encoder.conv1.a, Grad Mean: 0.000138, Grad Min: -0.000413, Grad Max: 0.000000\n",
      "Layer: encoder.conv1.bias, Grad Mean: 0.020245, Grad Min: -0.025157, Grad Max: 0.118047\n",
      "Layer: encoder.conv2.weight, Grad Mean: 0.000453, Grad Min: -0.008553, Grad Max: 0.007628\n",
      "Layer: encoder.conv2.a, Grad Mean: 0.000458, Grad Min: -0.001374, Grad Max: 0.000000\n",
      "Layer: encoder.conv2.bias, Grad Mean: 0.008341, Grad Min: -0.019075, Grad Max: 0.020665\n",
      "Epoch: 410, Loss: 0.1584\n",
      "Layer: encoder.conv1.weight, Grad Mean: 0.000413, Grad Min: 0.000000, Grad Max: 0.018701\n",
      "Layer: encoder.conv1.a, Grad Mean: 0.000060, Grad Min: -0.000181, Grad Max: 0.000000\n",
      "Layer: encoder.conv1.bias, Grad Mean: 0.022573, Grad Min: 0.000000, Grad Max: 0.169786\n",
      "Layer: encoder.conv2.weight, Grad Mean: 0.000358, Grad Min: -0.005225, Grad Max: 0.008908\n",
      "Layer: encoder.conv2.a, Grad Mean: 0.000355, Grad Min: 0.000000, Grad Max: 0.001065\n",
      "Layer: encoder.conv2.bias, Grad Mean: 0.015063, Grad Min: -0.036343, Grad Max: 0.039881\n",
      "Epoch: 420, Loss: 0.1579\n",
      "Layer: encoder.conv1.weight, Grad Mean: 0.000401, Grad Min: 0.000000, Grad Max: 0.017752\n",
      "Layer: encoder.conv1.a, Grad Mean: 0.000223, Grad Min: -0.000668, Grad Max: 0.000000\n",
      "Layer: encoder.conv1.bias, Grad Mean: 0.021805, Grad Min: 0.000000, Grad Max: 0.143381\n",
      "Layer: encoder.conv2.weight, Grad Mean: 0.000470, Grad Min: -0.009317, Grad Max: 0.012265\n",
      "Layer: encoder.conv2.a, Grad Mean: 0.000109, Grad Min: 0.000000, Grad Max: 0.000328\n",
      "Layer: encoder.conv2.bias, Grad Mean: 0.010794, Grad Min: -0.028593, Grad Max: 0.024238\n",
      "Epoch: 430, Loss: 0.1578\n",
      "Layer: encoder.conv1.weight, Grad Mean: 0.000367, Grad Min: -0.000778, Grad Max: 0.010979\n",
      "Layer: encoder.conv1.a, Grad Mean: 0.000191, Grad Min: -0.000573, Grad Max: 0.000000\n",
      "Layer: encoder.conv1.bias, Grad Mean: 0.021972, Grad Min: -0.006102, Grad Max: 0.157659\n",
      "Layer: encoder.conv2.weight, Grad Mean: 0.000400, Grad Min: -0.005272, Grad Max: 0.009912\n",
      "Layer: encoder.conv2.a, Grad Mean: 0.000402, Grad Min: -0.001207, Grad Max: 0.000000\n",
      "Layer: encoder.conv2.bias, Grad Mean: 0.002127, Grad Min: -0.004172, Grad Max: 0.003177\n",
      "Epoch: 440, Loss: 0.1578\n",
      "Layer: encoder.conv1.weight, Grad Mean: 0.000322, Grad Min: -0.002664, Grad Max: 0.010717\n",
      "Layer: encoder.conv1.a, Grad Mean: 0.000192, Grad Min: -0.000575, Grad Max: 0.000000\n",
      "Layer: encoder.conv1.bias, Grad Mean: 0.022200, Grad Min: -0.041027, Grad Max: 0.125028\n",
      "Layer: encoder.conv2.weight, Grad Mean: 0.000274, Grad Min: -0.004297, Grad Max: 0.008145\n",
      "Layer: encoder.conv2.a, Grad Mean: 0.000017, Grad Min: -0.000052, Grad Max: 0.000000\n",
      "Layer: encoder.conv2.bias, Grad Mean: 0.007367, Grad Min: -0.015219, Grad Max: 0.016617\n",
      "Epoch: 450, Loss: 0.1549\n",
      "Layer: encoder.conv1.weight, Grad Mean: 0.000408, Grad Min: -0.007857, Grad Max: 0.018475\n",
      "Layer: encoder.conv1.a, Grad Mean: 0.000259, Grad Min: -0.000776, Grad Max: 0.000000\n",
      "Layer: encoder.conv1.bias, Grad Mean: 0.020383, Grad Min: -0.007028, Grad Max: 0.142851\n",
      "Layer: encoder.conv2.weight, Grad Mean: 0.000580, Grad Min: -0.013492, Grad Max: 0.022095\n",
      "Layer: encoder.conv2.a, Grad Mean: 0.000289, Grad Min: -0.000866, Grad Max: 0.000000\n",
      "Layer: encoder.conv2.bias, Grad Mean: 0.008473, Grad Min: -0.018410, Grad Max: 0.020785\n",
      "Epoch: 460, Loss: 0.1564\n",
      "Layer: encoder.conv1.weight, Grad Mean: 0.000408, Grad Min: 0.000000, Grad Max: 0.015775\n",
      "Layer: encoder.conv1.a, Grad Mean: 0.000199, Grad Min: -0.000598, Grad Max: 0.000000\n",
      "Layer: encoder.conv1.bias, Grad Mean: 0.019639, Grad Min: 0.000000, Grad Max: 0.098871\n",
      "Layer: encoder.conv2.weight, Grad Mean: 0.000376, Grad Min: -0.011211, Grad Max: 0.010313\n",
      "Layer: encoder.conv2.a, Grad Mean: 0.000184, Grad Min: 0.000000, Grad Max: 0.000553\n",
      "Layer: encoder.conv2.bias, Grad Mean: 0.011027, Grad Min: -0.023971, Grad Max: 0.022523\n",
      "Epoch: 470, Loss: 0.1512\n",
      "Layer: encoder.conv1.weight, Grad Mean: 0.000544, Grad Min: -0.000000, Grad Max: 0.017478\n",
      "Layer: encoder.conv1.a, Grad Mean: 0.000461, Grad Min: -0.001384, Grad Max: 0.000000\n",
      "Layer: encoder.conv1.bias, Grad Mean: 0.028826, Grad Min: -0.000415, Grad Max: 0.143820\n",
      "Layer: encoder.conv2.weight, Grad Mean: 0.000360, Grad Min: -0.007263, Grad Max: 0.009482\n",
      "Layer: encoder.conv2.a, Grad Mean: 0.000281, Grad Min: 0.000000, Grad Max: 0.000843\n",
      "Layer: encoder.conv2.bias, Grad Mean: 0.015718, Grad Min: -0.038637, Grad Max: 0.040561\n",
      "Epoch: 480, Loss: 0.1507\n",
      "Layer: encoder.conv1.weight, Grad Mean: 0.000348, Grad Min: -0.000692, Grad Max: 0.019919\n",
      "Layer: encoder.conv1.a, Grad Mean: 0.000149, Grad Min: -0.000448, Grad Max: 0.000000\n",
      "Layer: encoder.conv1.bias, Grad Mean: 0.020173, Grad Min: -0.001155, Grad Max: 0.161958\n",
      "Layer: encoder.conv2.weight, Grad Mean: 0.000323, Grad Min: -0.004899, Grad Max: 0.005379\n",
      "Layer: encoder.conv2.a, Grad Mean: 0.000085, Grad Min: -0.000256, Grad Max: 0.000000\n",
      "Layer: encoder.conv2.bias, Grad Mean: 0.005609, Grad Min: -0.013055, Grad Max: 0.010997\n",
      "Epoch: 490, Loss: 0.1531\n",
      "Layer: encoder.conv1.weight, Grad Mean: 0.000318, Grad Min: -0.002221, Grad Max: 0.016986\n",
      "Layer: encoder.conv1.a, Grad Mean: 0.000117, Grad Min: -0.000352, Grad Max: 0.000000\n",
      "Layer: encoder.conv1.bias, Grad Mean: 0.016022, Grad Min: 0.000000, Grad Max: 0.117568\n",
      "Layer: encoder.conv2.weight, Grad Mean: 0.000377, Grad Min: -0.007861, Grad Max: 0.008334\n",
      "Layer: encoder.conv2.a, Grad Mean: 0.000349, Grad Min: -0.001046, Grad Max: 0.000000\n",
      "Layer: encoder.conv2.bias, Grad Mean: 0.023507, Grad Min: -0.058524, Grad Max: 0.053743\n",
      "Epoch: 500, Loss: 0.1484\n",
      "Layer: encoder.conv1.weight, Grad Mean: 0.000564, Grad Min: 0.000000, Grad Max: 0.024277\n",
      "Layer: encoder.conv1.a, Grad Mean: 0.000294, Grad Min: -0.000883, Grad Max: 0.000000\n",
      "Layer: encoder.conv1.bias, Grad Mean: 0.024381, Grad Min: 0.000000, Grad Max: 0.194808\n",
      "Layer: encoder.conv2.weight, Grad Mean: 0.000350, Grad Min: -0.004853, Grad Max: 0.006888\n",
      "Layer: encoder.conv2.a, Grad Mean: 0.000165, Grad Min: 0.000000, Grad Max: 0.000496\n",
      "Layer: encoder.conv2.bias, Grad Mean: 0.015213, Grad Min: -0.039639, Grad Max: 0.034097\n",
      "Epoch: 510, Loss: 0.1477\n",
      "Layer: encoder.conv1.weight, Grad Mean: 0.000455, Grad Min: -0.002542, Grad Max: 0.023751\n",
      "Layer: encoder.conv1.a, Grad Mean: 0.000346, Grad Min: -0.001038, Grad Max: 0.000000\n",
      "Layer: encoder.conv1.bias, Grad Mean: 0.023075, Grad Min: -0.000846, Grad Max: 0.105192\n",
      "Layer: encoder.conv2.weight, Grad Mean: 0.000301, Grad Min: -0.007604, Grad Max: 0.007520\n",
      "Layer: encoder.conv2.a, Grad Mean: 0.000555, Grad Min: -0.001666, Grad Max: 0.000000\n",
      "Layer: encoder.conv2.bias, Grad Mean: 0.015429, Grad Min: -0.035920, Grad Max: 0.033252\n",
      "Epoch: 520, Loss: 0.1471\n",
      "Layer: encoder.conv1.weight, Grad Mean: 0.000522, Grad Min: -0.002733, Grad Max: 0.036365\n",
      "Layer: encoder.conv1.a, Grad Mean: 0.000119, Grad Min: -0.000358, Grad Max: 0.000000\n",
      "Layer: encoder.conv1.bias, Grad Mean: 0.024089, Grad Min: -0.004034, Grad Max: 0.280697\n",
      "Layer: encoder.conv2.weight, Grad Mean: 0.000418, Grad Min: -0.007103, Grad Max: 0.009881\n",
      "Layer: encoder.conv2.a, Grad Mean: 0.000596, Grad Min: -0.001787, Grad Max: 0.000000\n",
      "Layer: encoder.conv2.bias, Grad Mean: 0.005150, Grad Min: -0.007454, Grad Max: 0.009648\n",
      "Epoch: 530, Loss: 0.1458\n",
      "Layer: encoder.conv1.weight, Grad Mean: 0.000618, Grad Min: -0.009357, Grad Max: 0.039235\n",
      "Layer: encoder.conv1.a, Grad Mean: 0.000249, Grad Min: -0.000747, Grad Max: 0.000000\n",
      "Layer: encoder.conv1.bias, Grad Mean: 0.022391, Grad Min: -0.003327, Grad Max: 0.193729\n",
      "Layer: encoder.conv2.weight, Grad Mean: 0.000484, Grad Min: -0.012204, Grad Max: 0.014008\n",
      "Layer: encoder.conv2.a, Grad Mean: 0.000526, Grad Min: -0.001578, Grad Max: 0.000000\n",
      "Layer: encoder.conv2.bias, Grad Mean: 0.008817, Grad Min: -0.015263, Grad Max: 0.015048\n",
      "Epoch: 540, Loss: 0.1430\n",
      "Layer: encoder.conv1.weight, Grad Mean: 0.000654, Grad Min: -0.004281, Grad Max: 0.026875\n",
      "Layer: encoder.conv1.a, Grad Mean: 0.000473, Grad Min: -0.001420, Grad Max: 0.000000\n",
      "Layer: encoder.conv1.bias, Grad Mean: 0.020184, Grad Min: 0.000000, Grad Max: 0.104400\n",
      "Layer: encoder.conv2.weight, Grad Mean: 0.000356, Grad Min: -0.007783, Grad Max: 0.013293\n",
      "Layer: encoder.conv2.a, Grad Mean: 0.000196, Grad Min: -0.000587, Grad Max: 0.000000\n",
      "Layer: encoder.conv2.bias, Grad Mean: 0.008157, Grad Min: -0.015672, Grad Max: 0.020645\n",
      "Epoch: 550, Loss: 0.1404\n",
      "Layer: encoder.conv1.weight, Grad Mean: 0.000800, Grad Min: 0.000000, Grad Max: 0.033340\n",
      "Layer: encoder.conv1.a, Grad Mean: 0.000451, Grad Min: -0.001354, Grad Max: 0.000000\n",
      "Layer: encoder.conv1.bias, Grad Mean: 0.023291, Grad Min: 0.000000, Grad Max: 0.150436\n",
      "Layer: encoder.conv2.weight, Grad Mean: 0.000345, Grad Min: -0.009341, Grad Max: 0.013763\n",
      "Layer: encoder.conv2.a, Grad Mean: 0.000167, Grad Min: -0.000502, Grad Max: 0.000000\n",
      "Layer: encoder.conv2.bias, Grad Mean: 0.006770, Grad Min: -0.012279, Grad Max: 0.016318\n",
      "Epoch: 560, Loss: 0.1368\n",
      "Layer: encoder.conv1.weight, Grad Mean: 0.000892, Grad Min: -0.014106, Grad Max: 0.045076\n",
      "Layer: encoder.conv1.a, Grad Mean: 0.000617, Grad Min: -0.001851, Grad Max: 0.000000\n",
      "Layer: encoder.conv1.bias, Grad Mean: 0.022536, Grad Min: -0.005683, Grad Max: 0.140224\n",
      "Layer: encoder.conv2.weight, Grad Mean: 0.000443, Grad Min: -0.008361, Grad Max: 0.012082\n",
      "Layer: encoder.conv2.a, Grad Mean: 0.000282, Grad Min: -0.000846, Grad Max: 0.000000\n",
      "Layer: encoder.conv2.bias, Grad Mean: 0.008303, Grad Min: -0.016937, Grad Max: 0.014767\n",
      "Epoch: 570, Loss: 0.1330\n",
      "Layer: encoder.conv1.weight, Grad Mean: 0.000852, Grad Min: -0.000186, Grad Max: 0.049275\n",
      "Layer: encoder.conv1.a, Grad Mean: 0.000586, Grad Min: -0.001759, Grad Max: 0.000000\n",
      "Layer: encoder.conv1.bias, Grad Mean: 0.025354, Grad Min: -0.002762, Grad Max: 0.185493\n",
      "Layer: encoder.conv2.weight, Grad Mean: 0.000376, Grad Min: -0.008692, Grad Max: 0.008467\n",
      "Layer: encoder.conv2.a, Grad Mean: 0.000189, Grad Min: -0.000568, Grad Max: 0.000000\n",
      "Layer: encoder.conv2.bias, Grad Mean: 0.008390, Grad Min: -0.015203, Grad Max: 0.017065\n",
      "Epoch: 580, Loss: 0.1258\n",
      "Layer: encoder.conv1.weight, Grad Mean: 0.001447, Grad Min: -0.000101, Grad Max: 0.095439\n",
      "Layer: encoder.conv1.a, Grad Mean: 0.001218, Grad Min: -0.003655, Grad Max: 0.000000\n",
      "Layer: encoder.conv1.bias, Grad Mean: 0.040192, Grad Min: -0.005919, Grad Max: 0.237342\n",
      "Layer: encoder.conv2.weight, Grad Mean: 0.000439, Grad Min: -0.006847, Grad Max: 0.009351\n",
      "Layer: encoder.conv2.a, Grad Mean: 0.000351, Grad Min: -0.001054, Grad Max: 0.000000\n",
      "Layer: encoder.conv2.bias, Grad Mean: 0.011569, Grad Min: -0.031521, Grad Max: 0.024560\n",
      "Epoch: 590, Loss: 0.1229\n",
      "Layer: encoder.conv1.weight, Grad Mean: 0.001412, Grad Min: -0.023476, Grad Max: 0.075961\n",
      "Layer: encoder.conv1.a, Grad Mean: 0.000800, Grad Min: -0.002400, Grad Max: 0.000000\n",
      "Layer: encoder.conv1.bias, Grad Mean: 0.025622, Grad Min: -0.031087, Grad Max: 0.168618\n",
      "Layer: encoder.conv2.weight, Grad Mean: 0.000350, Grad Min: -0.011733, Grad Max: 0.017287\n",
      "Layer: encoder.conv2.a, Grad Mean: 0.000022, Grad Min: -0.000067, Grad Max: 0.000000\n",
      "Layer: encoder.conv2.bias, Grad Mean: 0.005345, Grad Min: -0.009760, Grad Max: 0.013158\n",
      "Epoch: 600, Loss: 0.1072\n",
      "Layer: encoder.conv1.weight, Grad Mean: 0.001972, Grad Min: 0.000000, Grad Max: 0.129509\n",
      "Layer: encoder.conv1.a, Grad Mean: 0.000887, Grad Min: -0.002662, Grad Max: 0.000000\n",
      "Layer: encoder.conv1.bias, Grad Mean: 0.029023, Grad Min: 0.000000, Grad Max: 0.235136\n",
      "Layer: encoder.conv2.weight, Grad Mean: 0.000237, Grad Min: -0.005029, Grad Max: 0.005260\n",
      "Layer: encoder.conv2.a, Grad Mean: 0.000121, Grad Min: -0.000363, Grad Max: 0.000000\n",
      "Layer: encoder.conv2.bias, Grad Mean: 0.003769, Grad Min: -0.007429, Grad Max: 0.007015\n",
      "Epoch: 610, Loss: 0.0828\n",
      "Layer: encoder.conv1.weight, Grad Mean: 0.003329, Grad Min: 0.000000, Grad Max: 0.244759\n",
      "Layer: encoder.conv1.a, Grad Mean: 0.000849, Grad Min: -0.002546, Grad Max: 0.000000\n",
      "Layer: encoder.conv1.bias, Grad Mean: 0.026017, Grad Min: 0.000000, Grad Max: 0.196724\n",
      "Layer: encoder.conv2.weight, Grad Mean: 0.000371, Grad Min: -0.014205, Grad Max: 0.013940\n",
      "Layer: encoder.conv2.a, Grad Mean: 0.000018, Grad Min: 0.000000, Grad Max: 0.000053\n",
      "Layer: encoder.conv2.bias, Grad Mean: 0.007522, Grad Min: -0.013954, Grad Max: 0.012960\n",
      "Epoch: 620, Loss: 0.0644\n",
      "Layer: encoder.conv1.weight, Grad Mean: 0.000201, Grad Min: -0.000781, Grad Max: 0.033502\n",
      "Layer: encoder.conv1.a, Grad Mean: 0.000030, Grad Min: -0.000089, Grad Max: 0.000000\n",
      "Layer: encoder.conv1.bias, Grad Mean: 0.000956, Grad Min: -0.007465, Grad Max: 0.007681\n",
      "Layer: encoder.conv2.weight, Grad Mean: 0.000026, Grad Min: -0.002762, Grad Max: 0.002503\n",
      "Layer: encoder.conv2.a, Grad Mean: 0.000002, Grad Min: 0.000000, Grad Max: 0.000005\n",
      "Layer: encoder.conv2.bias, Grad Mean: 0.002332, Grad Min: -0.005987, Grad Max: 0.004127\n",
      "Epoch: 630, Loss: 0.0643\n",
      "Layer: encoder.conv1.weight, Grad Mean: 0.000015, Grad Min: -0.001654, Grad Max: 0.000000\n",
      "Layer: encoder.conv1.a, Grad Mean: 0.000050, Grad Min: -0.000151, Grad Max: 0.000000\n",
      "Layer: encoder.conv1.bias, Grad Mean: 0.002729, Grad Min: -0.043627, Grad Max: 0.000000\n",
      "Layer: encoder.conv2.weight, Grad Mean: 0.000023, Grad Min: -0.002778, Grad Max: 0.002535\n",
      "Layer: encoder.conv2.a, Grad Mean: 0.000001, Grad Min: 0.000000, Grad Max: 0.000004\n",
      "Layer: encoder.conv2.bias, Grad Mean: 0.002526, Grad Min: -0.006295, Grad Max: 0.004610\n",
      "Epoch: 640, Loss: 0.0643\n",
      "Layer: encoder.conv1.weight, Grad Mean: 0.000011, Grad Min: -0.000034, Grad Max: 0.001286\n",
      "Layer: encoder.conv1.a, Grad Mean: 0.000019, Grad Min: 0.000000, Grad Max: 0.000056\n",
      "Layer: encoder.conv1.bias, Grad Mean: 0.000929, Grad Min: -0.000027, Grad Max: 0.014840\n",
      "Layer: encoder.conv2.weight, Grad Mean: 0.000064, Grad Min: -0.007400, Grad Max: 0.006960\n",
      "Layer: encoder.conv2.a, Grad Mean: 0.000003, Grad Min: 0.000000, Grad Max: 0.000009\n",
      "Layer: encoder.conv2.bias, Grad Mean: 0.003556, Grad Min: -0.008364, Grad Max: 0.006412\n",
      "Epoch: 650, Loss: 0.0642\n",
      "Layer: encoder.conv1.weight, Grad Mean: 0.000038, Grad Min: 0.000000, Grad Max: 0.004609\n",
      "Layer: encoder.conv1.a, Grad Mean: 0.000078, Grad Min: 0.000000, Grad Max: 0.000234\n",
      "Layer: encoder.conv1.bias, Grad Mean: 0.003670, Grad Min: 0.000000, Grad Max: 0.058709\n",
      "Layer: encoder.conv2.weight, Grad Mean: 0.000091, Grad Min: -0.010535, Grad Max: 0.009978\n",
      "Layer: encoder.conv2.a, Grad Mean: 0.000004, Grad Min: 0.000000, Grad Max: 0.000013\n",
      "Layer: encoder.conv2.bias, Grad Mean: 0.004136, Grad Min: -0.009592, Grad Max: 0.007401\n",
      "Epoch: 660, Loss: 0.0639\n",
      "Layer: encoder.conv1.weight, Grad Mean: 0.000028, Grad Min: -0.003262, Grad Max: 0.000000\n",
      "Layer: encoder.conv1.a, Grad Mean: 0.000075, Grad Min: -0.000224, Grad Max: 0.000000\n",
      "Layer: encoder.conv1.bias, Grad Mean: 0.003552, Grad Min: -0.056788, Grad Max: 0.000000\n",
      "Layer: encoder.conv2.weight, Grad Mean: 0.000065, Grad Min: -0.007738, Grad Max: 0.007167\n",
      "Layer: encoder.conv2.a, Grad Mean: 0.000004, Grad Min: 0.000000, Grad Max: 0.000011\n",
      "Layer: encoder.conv2.bias, Grad Mean: 0.004021, Grad Min: -0.009508, Grad Max: 0.007112\n",
      "Epoch: 670, Loss: 0.0640\n",
      "Layer: encoder.conv1.weight, Grad Mean: 0.000039, Grad Min: -0.004468, Grad Max: 0.000000\n",
      "Layer: encoder.conv1.a, Grad Mean: 0.000131, Grad Min: -0.000393, Grad Max: 0.000000\n",
      "Layer: encoder.conv1.bias, Grad Mean: 0.005878, Grad Min: -0.094043, Grad Max: 0.000011\n",
      "Layer: encoder.conv2.weight, Grad Mean: 0.000040, Grad Min: -0.004891, Grad Max: 0.004453\n",
      "Layer: encoder.conv2.a, Grad Mean: 0.000003, Grad Min: 0.000000, Grad Max: 0.000008\n",
      "Layer: encoder.conv2.bias, Grad Mean: 0.003418, Grad Min: -0.008476, Grad Max: 0.006023\n",
      "Epoch: 680, Loss: 0.0638\n",
      "Layer: encoder.conv1.weight, Grad Mean: 0.000039, Grad Min: -0.004676, Grad Max: 0.000000\n",
      "Layer: encoder.conv1.a, Grad Mean: 0.000105, Grad Min: -0.000315, Grad Max: 0.000000\n",
      "Layer: encoder.conv1.bias, Grad Mean: 0.004714, Grad Min: -0.075388, Grad Max: 0.000019\n",
      "Layer: encoder.conv2.weight, Grad Mean: 0.000057, Grad Min: -0.006930, Grad Max: 0.006356\n",
      "Layer: encoder.conv2.a, Grad Mean: 0.000003, Grad Min: 0.000000, Grad Max: 0.000010\n",
      "Layer: encoder.conv2.bias, Grad Mean: 0.003837, Grad Min: -0.009381, Grad Max: 0.006698\n",
      "Epoch: 690, Loss: 0.0633\n",
      "Layer: encoder.conv1.weight, Grad Mean: 0.000018, Grad Min: -0.000035, Grad Max: 0.002524\n",
      "Layer: encoder.conv1.a, Grad Mean: 0.000008, Grad Min: 0.000000, Grad Max: 0.000023\n",
      "Layer: encoder.conv1.bias, Grad Mean: 0.000276, Grad Min: -0.000224, Grad Max: 0.004160\n",
      "Layer: encoder.conv2.weight, Grad Mean: 0.000117, Grad Min: -0.013659, Grad Max: 0.012737\n",
      "Layer: encoder.conv2.a, Grad Mean: 0.000006, Grad Min: 0.000000, Grad Max: 0.000018\n",
      "Layer: encoder.conv2.bias, Grad Mean: 0.004912, Grad Min: -0.011505, Grad Max: 0.008536\n",
      "Epoch: 700, Loss: 0.0631\n",
      "Layer: encoder.conv1.weight, Grad Mean: 0.000050, Grad Min: -0.005629, Grad Max: 0.000000\n",
      "Layer: encoder.conv1.a, Grad Mean: 0.000164, Grad Min: -0.000493, Grad Max: 0.000000\n",
      "Layer: encoder.conv1.bias, Grad Mean: 0.006985, Grad Min: -0.107308, Grad Max: 0.000000\n",
      "Layer: encoder.conv2.weight, Grad Mean: 0.000088, Grad Min: -0.010584, Grad Max: 0.009706\n",
      "Layer: encoder.conv2.a, Grad Mean: 0.000005, Grad Min: 0.000000, Grad Max: 0.000014\n",
      "Layer: encoder.conv2.bias, Grad Mean: 0.004594, Grad Min: -0.011035, Grad Max: 0.007916\n",
      "Epoch: 710, Loss: 0.0624\n",
      "Layer: encoder.conv1.weight, Grad Mean: 0.000384, Grad Min: -0.000021, Grad Max: 0.055722\n",
      "Layer: encoder.conv1.a, Grad Mean: 0.000261, Grad Min: 0.000000, Grad Max: 0.000784\n",
      "Layer: encoder.conv1.bias, Grad Mean: 0.009999, Grad Min: -0.000017, Grad Max: 0.129008\n",
      "Layer: encoder.conv2.weight, Grad Mean: 0.000144, Grad Min: -0.008276, Grad Max: 0.005928\n",
      "Layer: encoder.conv2.a, Grad Mean: 0.000007, Grad Min: -0.000021, Grad Max: 0.000000\n",
      "Layer: encoder.conv2.bias, Grad Mean: 0.004395, Grad Min: -0.010637, Grad Max: 0.010419\n",
      "Epoch: 720, Loss: 0.0625\n",
      "Layer: encoder.conv1.weight, Grad Mean: 0.000130, Grad Min: -0.005008, Grad Max: 0.010961\n",
      "Layer: encoder.conv1.a, Grad Mean: 0.000013, Grad Min: -0.000039, Grad Max: 0.000000\n",
      "Layer: encoder.conv1.bias, Grad Mean: 0.014665, Grad Min: -0.127515, Grad Max: 0.107129\n",
      "Layer: encoder.conv2.weight, Grad Mean: 0.000150, Grad Min: -0.015585, Grad Max: 0.014101\n",
      "Layer: encoder.conv2.a, Grad Mean: 0.000006, Grad Min: 0.000000, Grad Max: 0.000018\n",
      "Layer: encoder.conv2.bias, Grad Mean: 0.004855, Grad Min: -0.011256, Grad Max: 0.008846\n",
      "Epoch: 730, Loss: 0.0623\n",
      "Layer: encoder.conv1.weight, Grad Mean: 0.000156, Grad Min: -0.014911, Grad Max: 0.000000\n",
      "Layer: encoder.conv1.a, Grad Mean: 0.000479, Grad Min: -0.001438, Grad Max: 0.000000\n",
      "Layer: encoder.conv1.bias, Grad Mean: 0.018165, Grad Min: -0.173988, Grad Max: 0.000000\n",
      "Layer: encoder.conv2.weight, Grad Mean: 0.000088, Grad Min: -0.009347, Grad Max: 0.007846\n",
      "Layer: encoder.conv2.a, Grad Mean: 0.000003, Grad Min: 0.000000, Grad Max: 0.000010\n",
      "Layer: encoder.conv2.bias, Grad Mean: 0.004640, Grad Min: -0.010809, Grad Max: 0.008646\n",
      "Epoch: 740, Loss: 0.0614\n",
      "Layer: encoder.conv1.weight, Grad Mean: 0.000196, Grad Min: -0.003609, Grad Max: 0.022520\n",
      "Layer: encoder.conv1.a, Grad Mean: 0.000104, Grad Min: 0.000000, Grad Max: 0.000311\n",
      "Layer: encoder.conv1.bias, Grad Mean: 0.014849, Grad Min: -0.087073, Grad Max: 0.150483\n",
      "Layer: encoder.conv2.weight, Grad Mean: 0.000173, Grad Min: -0.015014, Grad Max: 0.012890\n",
      "Layer: encoder.conv2.a, Grad Mean: 0.000002, Grad Min: 0.000000, Grad Max: 0.000007\n",
      "Layer: encoder.conv2.bias, Grad Mean: 0.004653, Grad Min: -0.010533, Grad Max: 0.009316\n",
      "Epoch: 750, Loss: 0.0619\n",
      "Layer: encoder.conv1.weight, Grad Mean: 0.000219, Grad Min: -0.018364, Grad Max: 0.000000\n",
      "Layer: encoder.conv1.a, Grad Mean: 0.000703, Grad Min: -0.002110, Grad Max: 0.000000\n",
      "Layer: encoder.conv1.bias, Grad Mean: 0.024702, Grad Min: -0.256460, Grad Max: 0.000000\n",
      "Layer: encoder.conv2.weight, Grad Mean: 0.000066, Grad Min: -0.005697, Grad Max: 0.003722\n",
      "Layer: encoder.conv2.a, Grad Mean: 0.000001, Grad Min: -0.000004, Grad Max: 0.000000\n",
      "Layer: encoder.conv2.bias, Grad Mean: 0.004424, Grad Min: -0.010526, Grad Max: 0.009607\n",
      "Epoch: 760, Loss: 0.0607\n",
      "Layer: encoder.conv1.weight, Grad Mean: 0.000189, Grad Min: -0.017266, Grad Max: 0.000000\n",
      "Layer: encoder.conv1.a, Grad Mean: 0.000645, Grad Min: -0.001936, Grad Max: 0.000000\n",
      "Layer: encoder.conv1.bias, Grad Mean: 0.021623, Grad Min: -0.253463, Grad Max: 0.000000\n",
      "Layer: encoder.conv2.weight, Grad Mean: 0.000091, Grad Min: -0.006024, Grad Max: 0.004281\n",
      "Layer: encoder.conv2.a, Grad Mean: 0.000005, Grad Min: -0.000014, Grad Max: 0.000000\n",
      "Layer: encoder.conv2.bias, Grad Mean: 0.004691, Grad Min: -0.011329, Grad Max: 0.010666\n",
      "Epoch: 770, Loss: 0.0599\n",
      "Layer: encoder.conv1.weight, Grad Mean: 0.000097, Grad Min: -0.009921, Grad Max: 0.002602\n",
      "Layer: encoder.conv1.a, Grad Mean: 0.000143, Grad Min: -0.000428, Grad Max: 0.000000\n",
      "Layer: encoder.conv1.bias, Grad Mean: 0.009518, Grad Min: -0.119236, Grad Max: 0.033050\n",
      "Layer: encoder.conv2.weight, Grad Mean: 0.000128, Grad Min: -0.009512, Grad Max: 0.006085\n",
      "Layer: encoder.conv2.a, Grad Mean: 0.000007, Grad Min: -0.000021, Grad Max: 0.000000\n",
      "Layer: encoder.conv2.bias, Grad Mean: 0.004399, Grad Min: -0.010502, Grad Max: 0.010189\n",
      "Epoch: 780, Loss: 0.0611\n",
      "Layer: encoder.conv1.weight, Grad Mean: 0.000332, Grad Min: -0.033101, Grad Max: 0.000000\n",
      "Layer: encoder.conv1.a, Grad Mean: 0.000919, Grad Min: -0.002756, Grad Max: 0.000000\n",
      "Layer: encoder.conv1.bias, Grad Mean: 0.029931, Grad Min: -0.361718, Grad Max: 0.000000\n",
      "Layer: encoder.conv2.weight, Grad Mean: 0.000065, Grad Min: -0.003974, Grad Max: 0.003212\n",
      "Layer: encoder.conv2.a, Grad Mean: 0.000004, Grad Min: -0.000011, Grad Max: 0.000000\n",
      "Layer: encoder.conv2.bias, Grad Mean: 0.004565, Grad Min: -0.011205, Grad Max: 0.010419\n",
      "Epoch: 790, Loss: 0.0603\n",
      "Layer: encoder.conv1.weight, Grad Mean: 0.000028, Grad Min: -0.000303, Grad Max: 0.002787\n",
      "Layer: encoder.conv1.a, Grad Mean: 0.000008, Grad Min: -0.000023, Grad Max: 0.000000\n",
      "Layer: encoder.conv1.bias, Grad Mean: 0.005114, Grad Min: -0.047732, Grad Max: 0.034078\n",
      "Layer: encoder.conv2.weight, Grad Mean: 0.000104, Grad Min: -0.007740, Grad Max: 0.004598\n",
      "Layer: encoder.conv2.a, Grad Mean: 0.000004, Grad Min: -0.000012, Grad Max: 0.000000\n",
      "Layer: encoder.conv2.bias, Grad Mean: 0.003995, Grad Min: -0.009627, Grad Max: 0.009237\n",
      "Epoch: 800, Loss: 0.0593\n",
      "Layer: encoder.conv1.weight, Grad Mean: 0.000100, Grad Min: -0.007084, Grad Max: 0.006483\n",
      "Layer: encoder.conv1.a, Grad Mean: 0.000136, Grad Min: -0.000407, Grad Max: 0.000000\n",
      "Layer: encoder.conv1.bias, Grad Mean: 0.008022, Grad Min: -0.092842, Grad Max: 0.035507\n",
      "Layer: encoder.conv2.weight, Grad Mean: 0.000122, Grad Min: -0.008789, Grad Max: 0.006878\n",
      "Layer: encoder.conv2.a, Grad Mean: 0.000000, Grad Min: -0.000001, Grad Max: 0.000000\n",
      "Layer: encoder.conv2.bias, Grad Mean: 0.004177, Grad Min: -0.009733, Grad Max: 0.009280\n",
      "Epoch: 810, Loss: 0.0598\n",
      "Layer: encoder.conv1.weight, Grad Mean: 0.000107, Grad Min: -0.008621, Grad Max: 0.004970\n",
      "Layer: encoder.conv1.a, Grad Mean: 0.000077, Grad Min: -0.000232, Grad Max: 0.000000\n",
      "Layer: encoder.conv1.bias, Grad Mean: 0.010472, Grad Min: -0.097587, Grad Max: 0.069950\n",
      "Layer: encoder.conv2.weight, Grad Mean: 0.000114, Grad Min: -0.008195, Grad Max: 0.006923\n",
      "Layer: encoder.conv2.a, Grad Mean: 0.000002, Grad Min: 0.000000, Grad Max: 0.000006\n",
      "Layer: encoder.conv2.bias, Grad Mean: 0.003959, Grad Min: -0.009191, Grad Max: 0.008751\n",
      "Epoch: 820, Loss: 0.0604\n",
      "Layer: encoder.conv1.weight, Grad Mean: 0.000406, Grad Min: -0.000038, Grad Max: 0.039682\n",
      "Layer: encoder.conv1.a, Grad Mean: 0.001115, Grad Min: 0.000000, Grad Max: 0.003344\n",
      "Layer: encoder.conv1.bias, Grad Mean: 0.035294, Grad Min: -0.000030, Grad Max: 0.460319\n",
      "Layer: encoder.conv2.weight, Grad Mean: 0.000150, Grad Min: -0.011031, Grad Max: 0.008318\n",
      "Layer: encoder.conv2.a, Grad Mean: 0.000005, Grad Min: -0.000015, Grad Max: 0.000000\n",
      "Layer: encoder.conv2.bias, Grad Mean: 0.002930, Grad Min: -0.006797, Grad Max: 0.007206\n",
      "Epoch: 830, Loss: 0.0589\n",
      "Layer: encoder.conv1.weight, Grad Mean: 0.000036, Grad Min: -0.002186, Grad Max: 0.002607\n",
      "Layer: encoder.conv1.a, Grad Mean: 0.000044, Grad Min: -0.000132, Grad Max: 0.000000\n",
      "Layer: encoder.conv1.bias, Grad Mean: 0.002928, Grad Min: -0.033097, Grad Max: 0.013734\n",
      "Layer: encoder.conv2.weight, Grad Mean: 0.000094, Grad Min: -0.006705, Grad Max: 0.004701\n",
      "Layer: encoder.conv2.a, Grad Mean: 0.000001, Grad Min: -0.000002, Grad Max: 0.000000\n",
      "Layer: encoder.conv2.bias, Grad Mean: 0.003917, Grad Min: -0.009321, Grad Max: 0.008832\n",
      "Epoch: 840, Loss: 0.0589\n",
      "Layer: encoder.conv1.weight, Grad Mean: 0.000267, Grad Min: -0.032096, Grad Max: 0.000000\n",
      "Layer: encoder.conv1.a, Grad Mean: 0.000865, Grad Min: -0.002594, Grad Max: 0.000000\n",
      "Layer: encoder.conv1.bias, Grad Mean: 0.027838, Grad Min: -0.390869, Grad Max: 0.000000\n",
      "Layer: encoder.conv2.weight, Grad Mean: 0.000094, Grad Min: -0.004903, Grad Max: 0.004973\n",
      "Layer: encoder.conv2.a, Grad Mean: 0.000006, Grad Min: -0.000018, Grad Max: 0.000000\n",
      "Layer: encoder.conv2.bias, Grad Mean: 0.004870, Grad Min: -0.011760, Grad Max: 0.011092\n",
      "Epoch: 850, Loss: 0.0599\n",
      "Layer: encoder.conv1.weight, Grad Mean: 0.000403, Grad Min: -0.033084, Grad Max: 0.000000\n",
      "Layer: encoder.conv1.a, Grad Mean: 0.001227, Grad Min: -0.003682, Grad Max: 0.000000\n",
      "Layer: encoder.conv1.bias, Grad Mean: 0.037806, Grad Min: -0.399802, Grad Max: 0.000000\n",
      "Layer: encoder.conv2.weight, Grad Mean: 0.000055, Grad Min: -0.004910, Grad Max: 0.002809\n",
      "Layer: encoder.conv2.a, Grad Mean: 0.000002, Grad Min: 0.000000, Grad Max: 0.000007\n",
      "Layer: encoder.conv2.bias, Grad Mean: 0.005190, Grad Min: -0.012076, Grad Max: 0.010877\n",
      "Epoch: 860, Loss: 0.0594\n",
      "Layer: encoder.conv1.weight, Grad Mean: 0.000227, Grad Min: -0.007136, Grad Max: 0.022648\n",
      "Layer: encoder.conv1.a, Grad Mean: 0.000257, Grad Min: 0.000000, Grad Max: 0.000770\n",
      "Layer: encoder.conv1.bias, Grad Mean: 0.019136, Grad Min: -0.082045, Grad Max: 0.224126\n",
      "Layer: encoder.conv2.weight, Grad Mean: 0.000105, Grad Min: -0.006403, Grad Max: 0.006465\n",
      "Layer: encoder.conv2.a, Grad Mean: 0.000004, Grad Min: 0.000000, Grad Max: 0.000013\n",
      "Layer: encoder.conv2.bias, Grad Mean: 0.003598, Grad Min: -0.008444, Grad Max: 0.008020\n",
      "Epoch: 870, Loss: 0.0586\n",
      "Layer: encoder.conv1.weight, Grad Mean: 0.000087, Grad Min: -0.000632, Grad Max: 0.010886\n",
      "Layer: encoder.conv1.a, Grad Mean: 0.000258, Grad Min: 0.000000, Grad Max: 0.000774\n",
      "Layer: encoder.conv1.bias, Grad Mean: 0.008106, Grad Min: -0.011725, Grad Max: 0.117962\n",
      "Layer: encoder.conv2.weight, Grad Mean: 0.000085, Grad Min: -0.006254, Grad Max: 0.004311\n",
      "Layer: encoder.conv2.a, Grad Mean: 0.000002, Grad Min: -0.000007, Grad Max: 0.000000\n",
      "Layer: encoder.conv2.bias, Grad Mean: 0.003647, Grad Min: -0.008735, Grad Max: 0.008435\n",
      "Epoch: 880, Loss: 0.0589\n",
      "Layer: encoder.conv1.weight, Grad Mean: 0.000169, Grad Min: -0.011236, Grad Max: 0.000000\n",
      "Layer: encoder.conv1.a, Grad Mean: 0.000517, Grad Min: -0.001552, Grad Max: 0.000000\n",
      "Layer: encoder.conv1.bias, Grad Mean: 0.015424, Grad Min: -0.125550, Grad Max: 0.000000\n",
      "Layer: encoder.conv2.weight, Grad Mean: 0.000056, Grad Min: -0.004411, Grad Max: 0.003080\n",
      "Layer: encoder.conv2.a, Grad Mean: 0.000004, Grad Min: 0.000000, Grad Max: 0.000011\n",
      "Layer: encoder.conv2.bias, Grad Mean: 0.004338, Grad Min: -0.010280, Grad Max: 0.009496\n",
      "Epoch: 890, Loss: 0.0597\n",
      "Layer: encoder.conv1.weight, Grad Mean: 0.000380, Grad Min: 0.000000, Grad Max: 0.032621\n",
      "Layer: encoder.conv1.a, Grad Mean: 0.001157, Grad Min: 0.000000, Grad Max: 0.003472\n",
      "Layer: encoder.conv1.bias, Grad Mean: 0.034429, Grad Min: 0.000000, Grad Max: 0.376898\n",
      "Layer: encoder.conv2.weight, Grad Mean: 0.000098, Grad Min: -0.006579, Grad Max: 0.005336\n",
      "Layer: encoder.conv2.a, Grad Mean: 0.000001, Grad Min: 0.000000, Grad Max: 0.000003\n",
      "Layer: encoder.conv2.bias, Grad Mean: 0.002593, Grad Min: -0.006067, Grad Max: 0.006279\n",
      "Epoch: 900, Loss: 0.0587\n",
      "Layer: encoder.conv1.weight, Grad Mean: 0.000245, Grad Min: -0.000017, Grad Max: 0.022564\n",
      "Layer: encoder.conv1.a, Grad Mean: 0.000719, Grad Min: 0.000000, Grad Max: 0.002158\n",
      "Layer: encoder.conv1.bias, Grad Mean: 0.021210, Grad Min: -0.000014, Grad Max: 0.240604\n",
      "Layer: encoder.conv2.weight, Grad Mean: 0.000079, Grad Min: -0.005627, Grad Max: 0.003908\n",
      "Layer: encoder.conv2.a, Grad Mean: 0.000001, Grad Min: 0.000000, Grad Max: 0.000003\n",
      "Layer: encoder.conv2.bias, Grad Mean: 0.002986, Grad Min: -0.007095, Grad Max: 0.007068\n",
      "Epoch: 910, Loss: 0.0592\n",
      "Layer: encoder.conv1.weight, Grad Mean: 0.000219, Grad Min: -0.025782, Grad Max: 0.000000\n",
      "Layer: encoder.conv1.a, Grad Mean: 0.000593, Grad Min: -0.001778, Grad Max: 0.000000\n",
      "Layer: encoder.conv1.bias, Grad Mean: 0.018947, Grad Min: -0.263064, Grad Max: 0.000000\n",
      "Layer: encoder.conv2.weight, Grad Mean: 0.000089, Grad Min: -0.003354, Grad Max: 0.004793\n",
      "Layer: encoder.conv2.a, Grad Mean: 0.000003, Grad Min: -0.000010, Grad Max: 0.000000\n",
      "Layer: encoder.conv2.bias, Grad Mean: 0.004631, Grad Min: -0.011084, Grad Max: 0.010472\n",
      "Epoch: 920, Loss: 0.0581\n",
      "Layer: encoder.conv1.weight, Grad Mean: 0.000144, Grad Min: -0.011495, Grad Max: 0.000005\n",
      "Layer: encoder.conv1.a, Grad Mean: 0.000522, Grad Min: -0.001565, Grad Max: 0.000000\n",
      "Layer: encoder.conv1.bias, Grad Mean: 0.015495, Grad Min: -0.141094, Grad Max: 0.000004\n",
      "Layer: encoder.conv2.weight, Grad Mean: 0.000040, Grad Min: -0.002623, Grad Max: 0.001994\n",
      "Layer: encoder.conv2.a, Grad Mean: 0.000005, Grad Min: 0.000000, Grad Max: 0.000014\n",
      "Layer: encoder.conv2.bias, Grad Mean: 0.004372, Grad Min: -0.010440, Grad Max: 0.009655\n",
      "Epoch: 930, Loss: 0.0579\n",
      "Layer: encoder.conv1.weight, Grad Mean: 0.000140, Grad Min: -0.014753, Grad Max: 0.002902\n",
      "Layer: encoder.conv1.a, Grad Mean: 0.000299, Grad Min: -0.000898, Grad Max: 0.000000\n",
      "Layer: encoder.conv1.bias, Grad Mean: 0.015219, Grad Min: -0.203407, Grad Max: 0.040091\n",
      "Layer: encoder.conv2.weight, Grad Mean: 0.000082, Grad Min: -0.003442, Grad Max: 0.004583\n",
      "Layer: encoder.conv2.a, Grad Mean: 0.000000, Grad Min: -0.000000, Grad Max: 0.000000\n",
      "Layer: encoder.conv2.bias, Grad Mean: 0.004308, Grad Min: -0.010181, Grad Max: 0.009696\n",
      "Epoch: 940, Loss: 0.0588\n",
      "Layer: encoder.conv1.weight, Grad Mean: 0.000210, Grad Min: -0.025652, Grad Max: 0.000004\n",
      "Layer: encoder.conv1.a, Grad Mean: 0.000553, Grad Min: -0.001659, Grad Max: 0.000000\n",
      "Layer: encoder.conv1.bias, Grad Mean: 0.018027, Grad Min: -0.282439, Grad Max: 0.000003\n",
      "Layer: encoder.conv2.weight, Grad Mean: 0.000122, Grad Min: -0.005360, Grad Max: 0.007133\n",
      "Layer: encoder.conv2.a, Grad Mean: 0.000004, Grad Min: -0.000012, Grad Max: 0.000000\n",
      "Layer: encoder.conv2.bias, Grad Mean: 0.004730, Grad Min: -0.011048, Grad Max: 0.010663\n",
      "Epoch: 950, Loss: 0.0588\n",
      "Layer: encoder.conv1.weight, Grad Mean: 0.000314, Grad Min: 0.000000, Grad Max: 0.031049\n",
      "Layer: encoder.conv1.a, Grad Mean: 0.001065, Grad Min: 0.000000, Grad Max: 0.003195\n",
      "Layer: encoder.conv1.bias, Grad Mean: 0.031383, Grad Min: 0.000000, Grad Max: 0.388606\n",
      "Layer: encoder.conv2.weight, Grad Mean: 0.000075, Grad Min: -0.003957, Grad Max: 0.004858\n",
      "Layer: encoder.conv2.a, Grad Mean: 0.000006, Grad Min: 0.000000, Grad Max: 0.000019\n",
      "Layer: encoder.conv2.bias, Grad Mean: 0.002366, Grad Min: -0.005954, Grad Max: 0.005724\n",
      "Epoch: 960, Loss: 0.0586\n",
      "Layer: encoder.conv1.weight, Grad Mean: 0.000420, Grad Min: -0.034079, Grad Max: 0.000000\n",
      "Layer: encoder.conv1.a, Grad Mean: 0.001277, Grad Min: -0.003830, Grad Max: 0.000000\n",
      "Layer: encoder.conv1.bias, Grad Mean: 0.038570, Grad Min: -0.379297, Grad Max: 0.000000\n",
      "Layer: encoder.conv2.weight, Grad Mean: 0.000041, Grad Min: -0.003243, Grad Max: 0.001897\n",
      "Layer: encoder.conv2.a, Grad Mean: 0.000006, Grad Min: 0.000000, Grad Max: 0.000017\n",
      "Layer: encoder.conv2.bias, Grad Mean: 0.005190, Grad Min: -0.012223, Grad Max: 0.011088\n",
      "Epoch: 970, Loss: 0.0582\n",
      "Layer: encoder.conv1.weight, Grad Mean: 0.000265, Grad Min: -0.000002, Grad Max: 0.018795\n",
      "Layer: encoder.conv1.a, Grad Mean: 0.000892, Grad Min: 0.000000, Grad Max: 0.002675\n",
      "Layer: encoder.conv1.bias, Grad Mean: 0.025699, Grad Min: -0.000001, Grad Max: 0.223556\n",
      "Layer: encoder.conv2.weight, Grad Mean: 0.000064, Grad Min: -0.003541, Grad Max: 0.002773\n",
      "Layer: encoder.conv2.a, Grad Mean: 0.000004, Grad Min: 0.000000, Grad Max: 0.000013\n",
      "Layer: encoder.conv2.bias, Grad Mean: 0.002814, Grad Min: -0.006472, Grad Max: 0.006581\n",
      "Epoch: 980, Loss: 0.0584\n",
      "Layer: encoder.conv1.weight, Grad Mean: 0.000237, Grad Min: -0.000001, Grad Max: 0.021094\n",
      "Layer: encoder.conv1.a, Grad Mean: 0.000521, Grad Min: 0.000000, Grad Max: 0.001562\n",
      "Layer: encoder.conv1.bias, Grad Mean: 0.014104, Grad Min: -0.000001, Grad Max: 0.186226\n",
      "Layer: encoder.conv2.weight, Grad Mean: 0.000071, Grad Min: -0.003089, Grad Max: 0.004380\n",
      "Layer: encoder.conv2.a, Grad Mean: 0.000003, Grad Min: 0.000000, Grad Max: 0.000008\n",
      "Layer: encoder.conv2.bias, Grad Mean: 0.003692, Grad Min: -0.008522, Grad Max: 0.008408\n",
      "Epoch: 990, Loss: 0.0591\n",
      "Layer: encoder.conv1.weight, Grad Mean: 0.000358, Grad Min: 0.000000, Grad Max: 0.033836\n",
      "Layer: encoder.conv1.a, Grad Mean: 0.001073, Grad Min: 0.000000, Grad Max: 0.003219\n",
      "Layer: encoder.conv1.bias, Grad Mean: 0.031401, Grad Min: 0.000000, Grad Max: 0.358307\n",
      "Layer: encoder.conv2.weight, Grad Mean: 0.000055, Grad Min: -0.002760, Grad Max: 0.003368\n",
      "Layer: encoder.conv2.a, Grad Mean: 0.000007, Grad Min: 0.000000, Grad Max: 0.000020\n",
      "Layer: encoder.conv2.bias, Grad Mean: 0.002635, Grad Min: -0.006732, Grad Max: 0.006241\n",
      "Epoch: 1000, Loss: 0.0588\n",
      "Layer: encoder.conv1.weight, Grad Mean: 0.000219, Grad Min: -0.012581, Grad Max: 0.015734\n",
      "Layer: encoder.conv1.a, Grad Mean: 0.000019, Grad Min: 0.000000, Grad Max: 0.000057\n",
      "Layer: encoder.conv1.bias, Grad Mean: 0.020665, Grad Min: -0.174859, Grad Max: 0.155781\n",
      "Layer: encoder.conv2.weight, Grad Mean: 0.000117, Grad Min: -0.005145, Grad Max: 0.006575\n",
      "Layer: encoder.conv2.a, Grad Mean: 0.000002, Grad Min: -0.000005, Grad Max: 0.000000\n",
      "Layer: encoder.conv2.bias, Grad Mean: 0.004311, Grad Min: -0.009973, Grad Max: 0.009751\n",
      "Epoch: 1010, Loss: 0.0580\n",
      "Layer: encoder.conv1.weight, Grad Mean: 0.000161, Grad Min: 0.000000, Grad Max: 0.016647\n",
      "Layer: encoder.conv1.a, Grad Mean: 0.000406, Grad Min: 0.000000, Grad Max: 0.001218\n",
      "Layer: encoder.conv1.bias, Grad Mean: 0.011942, Grad Min: 0.000000, Grad Max: 0.164914\n",
      "Layer: encoder.conv2.weight, Grad Mean: 0.000047, Grad Min: -0.001730, Grad Max: 0.002672\n",
      "Layer: encoder.conv2.a, Grad Mean: 0.000009, Grad Min: 0.000000, Grad Max: 0.000027\n",
      "Layer: encoder.conv2.bias, Grad Mean: 0.003371, Grad Min: -0.007856, Grad Max: 0.007587\n",
      "Epoch: 1020, Loss: 0.0574\n",
      "Layer: encoder.conv1.weight, Grad Mean: 0.000042, Grad Min: -0.000530, Grad Max: 0.004734\n",
      "Layer: encoder.conv1.a, Grad Mean: 0.000023, Grad Min: 0.000000, Grad Max: 0.000070\n",
      "Layer: encoder.conv1.bias, Grad Mean: 0.004269, Grad Min: -0.034189, Grad Max: 0.034100\n",
      "Layer: encoder.conv2.weight, Grad Mean: 0.000025, Grad Min: -0.001174, Grad Max: 0.001144\n",
      "Layer: encoder.conv2.a, Grad Mean: 0.000008, Grad Min: 0.000000, Grad Max: 0.000023\n",
      "Layer: encoder.conv2.bias, Grad Mean: 0.003920, Grad Min: -0.009046, Grad Max: 0.008660\n",
      "Epoch: 1030, Loss: 0.0594\n",
      "Layer: encoder.conv1.weight, Grad Mean: 0.000430, Grad Min: -0.030732, Grad Max: 0.000018\n",
      "Layer: encoder.conv1.a, Grad Mean: 0.001279, Grad Min: -0.003838, Grad Max: 0.000000\n",
      "Layer: encoder.conv1.bias, Grad Mean: 0.036350, Grad Min: -0.302895, Grad Max: 0.000014\n",
      "Layer: encoder.conv2.weight, Grad Mean: 0.000046, Grad Min: -0.002484, Grad Max: 0.002053\n",
      "Layer: encoder.conv2.a, Grad Mean: 0.000003, Grad Min: 0.000000, Grad Max: 0.000009\n",
      "Layer: encoder.conv2.bias, Grad Mean: 0.005237, Grad Min: -0.012471, Grad Max: 0.011669\n",
      "Epoch: 1040, Loss: 0.0580\n",
      "Layer: encoder.conv1.weight, Grad Mean: 0.000053, Grad Min: -0.000020, Grad Max: 0.003656\n",
      "Layer: encoder.conv1.a, Grad Mean: 0.000117, Grad Min: 0.000000, Grad Max: 0.000352\n",
      "Layer: encoder.conv1.bias, Grad Mean: 0.003642, Grad Min: -0.007466, Grad Max: 0.050804\n",
      "Layer: encoder.conv2.weight, Grad Mean: 0.000040, Grad Min: -0.001640, Grad Max: 0.002196\n",
      "Layer: encoder.conv2.a, Grad Mean: 0.000005, Grad Min: 0.000000, Grad Max: 0.000014\n",
      "Layer: encoder.conv2.bias, Grad Mean: 0.003831, Grad Min: -0.008925, Grad Max: 0.008679\n",
      "Epoch: 1050, Loss: 0.0575\n",
      "Layer: encoder.conv1.weight, Grad Mean: 0.000102, Grad Min: -0.012419, Grad Max: 0.000000\n",
      "Layer: encoder.conv1.a, Grad Mean: 0.000401, Grad Min: -0.001204, Grad Max: 0.000000\n",
      "Layer: encoder.conv1.bias, Grad Mean: 0.012487, Grad Min: -0.180485, Grad Max: 0.000000\n",
      "Layer: encoder.conv2.weight, Grad Mean: 0.000056, Grad Min: -0.002252, Grad Max: 0.002827\n",
      "Layer: encoder.conv2.a, Grad Mean: 0.000004, Grad Min: 0.000000, Grad Max: 0.000012\n",
      "Layer: encoder.conv2.bias, Grad Mean: 0.004444, Grad Min: -0.010396, Grad Max: 0.009943\n",
      "Epoch: 1060, Loss: 0.0595\n",
      "Layer: encoder.conv1.weight, Grad Mean: 0.000563, Grad Min: 0.000000, Grad Max: 0.052774\n",
      "Layer: encoder.conv1.a, Grad Mean: 0.001944, Grad Min: 0.000000, Grad Max: 0.005833\n",
      "Layer: encoder.conv1.bias, Grad Mean: 0.056557, Grad Min: 0.000000, Grad Max: 0.734699\n",
      "Layer: encoder.conv2.weight, Grad Mean: 0.000102, Grad Min: -0.004960, Grad Max: 0.006851\n",
      "Layer: encoder.conv2.a, Grad Mean: 0.000010, Grad Min: 0.000000, Grad Max: 0.000031\n",
      "Layer: encoder.conv2.bias, Grad Mean: 0.001575, Grad Min: -0.004751, Grad Max: 0.003902\n",
      "Epoch: 1070, Loss: 0.0581\n",
      "Layer: encoder.conv1.weight, Grad Mean: 0.000472, Grad Min: -0.039163, Grad Max: 0.000017\n",
      "Layer: encoder.conv1.a, Grad Mean: 0.001455, Grad Min: -0.004366, Grad Max: 0.000000\n",
      "Layer: encoder.conv1.bias, Grad Mean: 0.042247, Grad Min: -0.442354, Grad Max: 0.000014\n",
      "Layer: encoder.conv2.weight, Grad Mean: 0.000045, Grad Min: -0.002759, Grad Max: 0.002429\n",
      "Layer: encoder.conv2.a, Grad Mean: 0.000007, Grad Min: 0.000000, Grad Max: 0.000020\n",
      "Layer: encoder.conv2.bias, Grad Mean: 0.005532, Grad Min: -0.012838, Grad Max: 0.011822\n",
      "Epoch: 1080, Loss: 0.0573\n",
      "Layer: encoder.conv1.weight, Grad Mean: 0.000044, Grad Min: -0.003173, Grad Max: 0.000000\n",
      "Layer: encoder.conv1.a, Grad Mean: 0.000230, Grad Min: -0.000691, Grad Max: 0.000000\n",
      "Layer: encoder.conv1.bias, Grad Mean: 0.006789, Grad Min: -0.063792, Grad Max: 0.000000\n",
      "Layer: encoder.conv2.weight, Grad Mean: 0.000022, Grad Min: -0.001772, Grad Max: 0.001519\n",
      "Layer: encoder.conv2.a, Grad Mean: 0.000008, Grad Min: 0.000000, Grad Max: 0.000025\n",
      "Layer: encoder.conv2.bias, Grad Mean: 0.004170, Grad Min: -0.009663, Grad Max: 0.009191\n",
      "Epoch: 1090, Loss: 0.0574\n",
      "Layer: encoder.conv1.weight, Grad Mean: 0.000060, Grad Min: -0.005311, Grad Max: 0.002607\n",
      "Layer: encoder.conv1.a, Grad Mean: 0.000036, Grad Min: -0.000109, Grad Max: 0.000000\n",
      "Layer: encoder.conv1.bias, Grad Mean: 0.004471, Grad Min: -0.043592, Grad Max: 0.027925\n",
      "Layer: encoder.conv2.weight, Grad Mean: 0.000021, Grad Min: -0.001044, Grad Max: 0.001217\n",
      "Layer: encoder.conv2.a, Grad Mean: 0.000008, Grad Min: 0.000000, Grad Max: 0.000025\n",
      "Layer: encoder.conv2.bias, Grad Mean: 0.003826, Grad Min: -0.008903, Grad Max: 0.008619\n",
      "Epoch: 1100, Loss: 0.0575\n",
      "Layer: encoder.conv1.weight, Grad Mean: 0.000121, Grad Min: -0.008079, Grad Max: 0.000000\n",
      "Layer: encoder.conv1.a, Grad Mean: 0.000415, Grad Min: -0.001246, Grad Max: 0.000000\n",
      "Layer: encoder.conv1.bias, Grad Mean: 0.011616, Grad Min: -0.094547, Grad Max: 0.000000\n",
      "Layer: encoder.conv2.weight, Grad Mean: 0.000022, Grad Min: -0.001474, Grad Max: 0.001040\n",
      "Layer: encoder.conv2.a, Grad Mean: 0.000008, Grad Min: 0.000000, Grad Max: 0.000023\n",
      "Layer: encoder.conv2.bias, Grad Mean: 0.004419, Grad Min: -0.010295, Grad Max: 0.009802\n",
      "Epoch: 1110, Loss: 0.0580\n",
      "Layer: encoder.conv1.weight, Grad Mean: 0.000390, Grad Min: 0.000000, Grad Max: 0.031283\n",
      "Layer: encoder.conv1.a, Grad Mean: 0.001337, Grad Min: 0.000000, Grad Max: 0.004010\n",
      "Layer: encoder.conv1.bias, Grad Mean: 0.035136, Grad Min: 0.000000, Grad Max: 0.353563\n",
      "Layer: encoder.conv2.weight, Grad Mean: 0.000061, Grad Min: -0.002295, Grad Max: 0.003446\n",
      "Layer: encoder.conv2.a, Grad Mean: 0.000007, Grad Min: 0.000000, Grad Max: 0.000020\n",
      "Layer: encoder.conv2.bias, Grad Mean: 0.002604, Grad Min: -0.007080, Grad Max: 0.006035\n",
      "Epoch: 1120, Loss: 0.0570\n",
      "Layer: encoder.conv1.weight, Grad Mean: 0.000080, Grad Min: -0.007155, Grad Max: 0.000000\n",
      "Layer: encoder.conv1.a, Grad Mean: 0.000439, Grad Min: -0.001317, Grad Max: 0.000000\n",
      "Layer: encoder.conv1.bias, Grad Mean: 0.012408, Grad Min: -0.114098, Grad Max: 0.000000\n",
      "Layer: encoder.conv2.weight, Grad Mean: 0.000065, Grad Min: -0.004825, Grad Max: 0.004372\n",
      "Layer: encoder.conv2.a, Grad Mean: 0.000012, Grad Min: 0.000000, Grad Max: 0.000035\n",
      "Layer: encoder.conv2.bias, Grad Mean: 0.004553, Grad Min: -0.010604, Grad Max: 0.009601\n",
      "Epoch: 1130, Loss: 0.0571\n",
      "Layer: encoder.conv1.weight, Grad Mean: 0.000054, Grad Min: -0.005383, Grad Max: 0.001738\n",
      "Layer: encoder.conv1.a, Grad Mean: 0.000227, Grad Min: -0.000682, Grad Max: 0.000000\n",
      "Layer: encoder.conv1.bias, Grad Mean: 0.005894, Grad Min: -0.081539, Grad Max: 0.000007\n",
      "Layer: encoder.conv2.weight, Grad Mean: 0.000025, Grad Min: -0.001520, Grad Max: 0.001329\n",
      "Layer: encoder.conv2.a, Grad Mean: 0.000009, Grad Min: 0.000000, Grad Max: 0.000027\n",
      "Layer: encoder.conv2.bias, Grad Mean: 0.004254, Grad Min: -0.009765, Grad Max: 0.009421\n",
      "Epoch: 1140, Loss: 0.0584\n",
      "Layer: encoder.conv1.weight, Grad Mean: 0.000301, Grad Min: 0.000000, Grad Max: 0.026450\n",
      "Layer: encoder.conv1.a, Grad Mean: 0.001030, Grad Min: 0.000000, Grad Max: 0.003091\n",
      "Layer: encoder.conv1.bias, Grad Mean: 0.027569, Grad Min: 0.000000, Grad Max: 0.278235\n",
      "Layer: encoder.conv2.weight, Grad Mean: 0.000065, Grad Min: -0.002632, Grad Max: 0.003841\n",
      "Layer: encoder.conv2.a, Grad Mean: 0.000004, Grad Min: 0.000000, Grad Max: 0.000012\n",
      "Layer: encoder.conv2.bias, Grad Mean: 0.003055, Grad Min: -0.007189, Grad Max: 0.007090\n",
      "Epoch: 1150, Loss: 0.0585\n",
      "Layer: encoder.conv1.weight, Grad Mean: 0.000283, Grad Min: 0.000000, Grad Max: 0.021891\n",
      "Layer: encoder.conv1.a, Grad Mean: 0.000900, Grad Min: 0.000000, Grad Max: 0.002701\n",
      "Layer: encoder.conv1.bias, Grad Mean: 0.025292, Grad Min: 0.000000, Grad Max: 0.256985\n",
      "Layer: encoder.conv2.weight, Grad Mean: 0.000044, Grad Min: -0.001884, Grad Max: 0.002550\n",
      "Layer: encoder.conv2.a, Grad Mean: 0.000005, Grad Min: 0.000000, Grad Max: 0.000014\n",
      "Layer: encoder.conv2.bias, Grad Mean: 0.003141, Grad Min: -0.007393, Grad Max: 0.007262\n",
      "Epoch: 1160, Loss: 0.0577\n",
      "Layer: encoder.conv1.weight, Grad Mean: 0.000218, Grad Min: 0.000000, Grad Max: 0.021488\n",
      "Layer: encoder.conv1.a, Grad Mean: 0.000657, Grad Min: 0.000000, Grad Max: 0.001971\n",
      "Layer: encoder.conv1.bias, Grad Mean: 0.017074, Grad Min: 0.000000, Grad Max: 0.197785\n",
      "Layer: encoder.conv2.weight, Grad Mean: 0.000054, Grad Min: -0.002391, Grad Max: 0.003191\n",
      "Layer: encoder.conv2.a, Grad Mean: 0.000005, Grad Min: 0.000000, Grad Max: 0.000014\n",
      "Layer: encoder.conv2.bias, Grad Mean: 0.003481, Grad Min: -0.008120, Grad Max: 0.007945\n",
      "Epoch: 1170, Loss: 0.0571\n",
      "Layer: encoder.conv1.weight, Grad Mean: 0.000191, Grad Min: -0.013358, Grad Max: 0.000010\n",
      "Layer: encoder.conv1.a, Grad Mean: 0.000852, Grad Min: -0.002555, Grad Max: 0.000000\n",
      "Layer: encoder.conv1.bias, Grad Mean: 0.024076, Grad Min: -0.253431, Grad Max: 0.000008\n",
      "Layer: encoder.conv2.weight, Grad Mean: 0.000034, Grad Min: -0.001937, Grad Max: 0.001698\n",
      "Layer: encoder.conv2.a, Grad Mean: 0.000007, Grad Min: 0.000000, Grad Max: 0.000021\n",
      "Layer: encoder.conv2.bias, Grad Mean: 0.005135, Grad Min: -0.011724, Grad Max: 0.011129\n",
      "Epoch: 1180, Loss: 0.0567\n",
      "Layer: encoder.conv1.weight, Grad Mean: 0.000245, Grad Min: -0.007475, Grad Max: 0.024431\n",
      "Layer: encoder.conv1.a, Grad Mean: 0.000438, Grad Min: 0.000000, Grad Max: 0.001313\n",
      "Layer: encoder.conv1.bias, Grad Mean: 0.021754, Grad Min: -0.096834, Grad Max: 0.251218\n",
      "Layer: encoder.conv2.weight, Grad Mean: 0.000068, Grad Min: -0.003989, Grad Max: 0.005052\n",
      "Layer: encoder.conv2.a, Grad Mean: 0.000005, Grad Min: 0.000000, Grad Max: 0.000015\n",
      "Layer: encoder.conv2.bias, Grad Mean: 0.003770, Grad Min: -0.008703, Grad Max: 0.008525\n",
      "Epoch: 1190, Loss: 0.0575\n",
      "Layer: encoder.conv1.weight, Grad Mean: 0.000163, Grad Min: 0.000000, Grad Max: 0.017322\n",
      "Layer: encoder.conv1.a, Grad Mean: 0.000525, Grad Min: 0.000000, Grad Max: 0.001576\n",
      "Layer: encoder.conv1.bias, Grad Mean: 0.015278, Grad Min: 0.000000, Grad Max: 0.217351\n",
      "Layer: encoder.conv2.weight, Grad Mean: 0.000062, Grad Min: -0.003479, Grad Max: 0.003048\n",
      "Layer: encoder.conv2.a, Grad Mean: 0.000011, Grad Min: 0.000000, Grad Max: 0.000034\n",
      "Layer: encoder.conv2.bias, Grad Mean: 0.003374, Grad Min: -0.008908, Grad Max: 0.007530\n",
      "Epoch: 1200, Loss: 0.0574\n",
      "Layer: encoder.conv1.weight, Grad Mean: 0.000284, Grad Min: -0.018507, Grad Max: 0.000017\n",
      "Layer: encoder.conv1.a, Grad Mean: 0.001143, Grad Min: -0.003429, Grad Max: 0.000000\n",
      "Layer: encoder.conv1.bias, Grad Mean: 0.032003, Grad Min: -0.278720, Grad Max: 0.000013\n",
      "Layer: encoder.conv2.weight, Grad Mean: 0.000040, Grad Min: -0.001958, Grad Max: 0.001765\n",
      "Layer: encoder.conv2.a, Grad Mean: 0.000006, Grad Min: 0.000000, Grad Max: 0.000018\n",
      "Layer: encoder.conv2.bias, Grad Mean: 0.005414, Grad Min: -0.012494, Grad Max: 0.012012\n",
      "Epoch: 1210, Loss: 0.0575\n",
      "Layer: encoder.conv1.weight, Grad Mean: 0.000111, Grad Min: 0.000000, Grad Max: 0.012231\n",
      "Layer: encoder.conv1.a, Grad Mean: 0.000408, Grad Min: 0.000000, Grad Max: 0.001223\n",
      "Layer: encoder.conv1.bias, Grad Mean: 0.010376, Grad Min: 0.000000, Grad Max: 0.136246\n",
      "Layer: encoder.conv2.weight, Grad Mean: 0.000021, Grad Min: -0.000788, Grad Max: 0.001222\n",
      "Layer: encoder.conv2.a, Grad Mean: 0.000007, Grad Min: 0.000000, Grad Max: 0.000020\n",
      "Layer: encoder.conv2.bias, Grad Mean: 0.003645, Grad Min: -0.009480, Grad Max: 0.008164\n",
      "Epoch: 1220, Loss: 0.0570\n",
      "Layer: encoder.conv1.weight, Grad Mean: 0.000046, Grad Min: -0.002462, Grad Max: 0.003552\n",
      "Layer: encoder.conv1.a, Grad Mean: 0.000064, Grad Min: -0.000191, Grad Max: 0.000000\n",
      "Layer: encoder.conv1.bias, Grad Mean: 0.004119, Grad Min: -0.049359, Grad Max: 0.016549\n",
      "Layer: encoder.conv2.weight, Grad Mean: 0.000032, Grad Min: -0.001493, Grad Max: 0.001629\n",
      "Layer: encoder.conv2.a, Grad Mean: 0.000005, Grad Min: 0.000000, Grad Max: 0.000015\n",
      "Layer: encoder.conv2.bias, Grad Mean: 0.004258, Grad Min: -0.009606, Grad Max: 0.009610\n",
      "Epoch: 1230, Loss: 0.0579\n",
      "Layer: encoder.conv1.weight, Grad Mean: 0.000299, Grad Min: -0.024083, Grad Max: 0.000000\n",
      "Layer: encoder.conv1.a, Grad Mean: 0.001233, Grad Min: -0.003698, Grad Max: 0.000000\n",
      "Layer: encoder.conv1.bias, Grad Mean: 0.033138, Grad Min: -0.279702, Grad Max: 0.000000\n",
      "Layer: encoder.conv2.weight, Grad Mean: 0.000067, Grad Min: -0.003549, Grad Max: 0.003693\n",
      "Layer: encoder.conv2.a, Grad Mean: 0.000002, Grad Min: 0.000000, Grad Max: 0.000007\n",
      "Layer: encoder.conv2.bias, Grad Mean: 0.005747, Grad Min: -0.012912, Grad Max: 0.012735\n",
      "Epoch: 1240, Loss: 0.0565\n",
      "Layer: encoder.conv1.weight, Grad Mean: 0.000065, Grad Min: -0.002050, Grad Max: 0.006918\n",
      "Layer: encoder.conv1.a, Grad Mean: 0.000044, Grad Min: -0.000133, Grad Max: 0.000000\n",
      "Layer: encoder.conv1.bias, Grad Mean: 0.005041, Grad Min: -0.053060, Grad Max: 0.027595\n",
      "Layer: encoder.conv2.weight, Grad Mean: 0.000029, Grad Min: -0.001257, Grad Max: 0.001319\n",
      "Layer: encoder.conv2.a, Grad Mean: 0.000005, Grad Min: 0.000000, Grad Max: 0.000015\n",
      "Layer: encoder.conv2.bias, Grad Mean: 0.004269, Grad Min: -0.009595, Grad Max: 0.009614\n",
      "Epoch: 1250, Loss: 0.0568\n",
      "Layer: encoder.conv1.weight, Grad Mean: 0.000091, Grad Min: -0.009063, Grad Max: 0.002338\n",
      "Layer: encoder.conv1.a, Grad Mean: 0.000308, Grad Min: -0.000924, Grad Max: 0.000000\n",
      "Layer: encoder.conv1.bias, Grad Mean: 0.009600, Grad Min: -0.153220, Grad Max: 0.000377\n",
      "Layer: encoder.conv2.weight, Grad Mean: 0.000024, Grad Min: -0.001300, Grad Max: 0.000840\n",
      "Layer: encoder.conv2.a, Grad Mean: 0.000006, Grad Min: 0.000000, Grad Max: 0.000018\n",
      "Layer: encoder.conv2.bias, Grad Mean: 0.004553, Grad Min: -0.010542, Grad Max: 0.010193\n",
      "Epoch: 1260, Loss: 0.0564\n",
      "Layer: encoder.conv1.weight, Grad Mean: 0.000112, Grad Min: 0.000000, Grad Max: 0.012896\n",
      "Layer: encoder.conv1.a, Grad Mean: 0.000316, Grad Min: 0.000000, Grad Max: 0.000949\n",
      "Layer: encoder.conv1.bias, Grad Mean: 0.007892, Grad Min: 0.000000, Grad Max: 0.113895\n",
      "Layer: encoder.conv2.weight, Grad Mean: 0.000020, Grad Min: -0.000670, Grad Max: 0.001273\n",
      "Layer: encoder.conv2.a, Grad Mean: 0.000007, Grad Min: 0.000000, Grad Max: 0.000021\n",
      "Layer: encoder.conv2.bias, Grad Mean: 0.003869, Grad Min: -0.009499, Grad Max: 0.008707\n",
      "Epoch: 1270, Loss: 0.0569\n",
      "Layer: encoder.conv1.weight, Grad Mean: 0.000104, Grad Min: -0.001930, Grad Max: 0.011324\n",
      "Layer: encoder.conv1.a, Grad Mean: 0.000203, Grad Min: 0.000000, Grad Max: 0.000610\n",
      "Layer: encoder.conv1.bias, Grad Mean: 0.009362, Grad Min: -0.038964, Grad Max: 0.110835\n",
      "Layer: encoder.conv2.weight, Grad Mean: 0.000045, Grad Min: -0.002132, Grad Max: 0.002565\n",
      "Layer: encoder.conv2.a, Grad Mean: 0.000004, Grad Min: 0.000000, Grad Max: 0.000011\n",
      "Layer: encoder.conv2.bias, Grad Mean: 0.004131, Grad Min: -0.009168, Grad Max: 0.009337\n",
      "Epoch: 1280, Loss: 0.0567\n",
      "Layer: encoder.conv1.weight, Grad Mean: 0.000117, Grad Min: 0.000000, Grad Max: 0.014062\n",
      "Layer: encoder.conv1.a, Grad Mean: 0.000512, Grad Min: 0.000000, Grad Max: 0.001537\n",
      "Layer: encoder.conv1.bias, Grad Mean: 0.011977, Grad Min: 0.000000, Grad Max: 0.182742\n",
      "Layer: encoder.conv2.weight, Grad Mean: 0.000065, Grad Min: -0.003142, Grad Max: 0.003986\n",
      "Layer: encoder.conv2.a, Grad Mean: 0.000002, Grad Min: 0.000000, Grad Max: 0.000007\n",
      "Layer: encoder.conv2.bias, Grad Mean: 0.003733, Grad Min: -0.008190, Grad Max: 0.008465\n",
      "Epoch: 1290, Loss: 0.0558\n",
      "Layer: encoder.conv1.weight, Grad Mean: 0.000024, Grad Min: -0.000490, Grad Max: 0.002409\n",
      "Layer: encoder.conv1.a, Grad Mean: 0.000019, Grad Min: -0.000057, Grad Max: 0.000000\n",
      "Layer: encoder.conv1.bias, Grad Mean: 0.003090, Grad Min: -0.032081, Grad Max: 0.017351\n",
      "Layer: encoder.conv2.weight, Grad Mean: 0.000021, Grad Min: -0.001124, Grad Max: 0.001068\n",
      "Layer: encoder.conv2.a, Grad Mean: 0.000008, Grad Min: 0.000000, Grad Max: 0.000025\n",
      "Layer: encoder.conv2.bias, Grad Mean: 0.004010, Grad Min: -0.010059, Grad Max: 0.008940\n",
      "Epoch: 1300, Loss: 0.0575\n",
      "Layer: encoder.conv1.weight, Grad Mean: 0.000293, Grad Min: 0.000000, Grad Max: 0.025228\n",
      "Layer: encoder.conv1.a, Grad Mean: 0.001042, Grad Min: 0.000000, Grad Max: 0.003126\n",
      "Layer: encoder.conv1.bias, Grad Mean: 0.026832, Grad Min: 0.000000, Grad Max: 0.220392\n",
      "Layer: encoder.conv2.weight, Grad Mean: 0.000039, Grad Min: -0.001997, Grad Max: 0.002373\n",
      "Layer: encoder.conv2.a, Grad Mean: 0.000005, Grad Min: 0.000000, Grad Max: 0.000014\n",
      "Layer: encoder.conv2.bias, Grad Mean: 0.003057, Grad Min: -0.007774, Grad Max: 0.007010\n",
      "Epoch: 1310, Loss: 0.0564\n",
      "Layer: encoder.conv1.weight, Grad Mean: 0.000153, Grad Min: -0.009895, Grad Max: 0.000000\n",
      "Layer: encoder.conv1.a, Grad Mean: 0.000760, Grad Min: -0.002279, Grad Max: 0.000000\n",
      "Layer: encoder.conv1.bias, Grad Mean: 0.020364, Grad Min: -0.202265, Grad Max: 0.000000\n",
      "Layer: encoder.conv2.weight, Grad Mean: 0.000034, Grad Min: -0.002207, Grad Max: 0.001597\n",
      "Layer: encoder.conv2.a, Grad Mean: 0.000007, Grad Min: 0.000000, Grad Max: 0.000022\n",
      "Layer: encoder.conv2.bias, Grad Mean: 0.005193, Grad Min: -0.012251, Grad Max: 0.011381\n",
      "Epoch: 1320, Loss: 0.0580\n",
      "Layer: encoder.conv1.weight, Grad Mean: 0.000369, Grad Min: -0.027940, Grad Max: 0.000000\n",
      "Layer: encoder.conv1.a, Grad Mean: 0.001505, Grad Min: -0.004516, Grad Max: 0.000000\n",
      "Layer: encoder.conv1.bias, Grad Mean: 0.039108, Grad Min: -0.317445, Grad Max: 0.000000\n",
      "Layer: encoder.conv2.weight, Grad Mean: 0.000050, Grad Min: -0.002404, Grad Max: 0.002246\n",
      "Layer: encoder.conv2.a, Grad Mean: 0.000005, Grad Min: 0.000000, Grad Max: 0.000015\n",
      "Layer: encoder.conv2.bias, Grad Mean: 0.006214, Grad Min: -0.013945, Grad Max: 0.013717\n",
      "Epoch: 1330, Loss: 0.0566\n",
      "Layer: encoder.conv1.weight, Grad Mean: 0.000081, Grad Min: 0.000000, Grad Max: 0.005978\n",
      "Layer: encoder.conv1.a, Grad Mean: 0.000251, Grad Min: 0.000000, Grad Max: 0.000753\n",
      "Layer: encoder.conv1.bias, Grad Mean: 0.006597, Grad Min: 0.000000, Grad Max: 0.090575\n",
      "Layer: encoder.conv2.weight, Grad Mean: 0.000025, Grad Min: -0.001317, Grad Max: 0.001361\n",
      "Layer: encoder.conv2.a, Grad Mean: 0.000005, Grad Min: 0.000000, Grad Max: 0.000015\n",
      "Layer: encoder.conv2.bias, Grad Mean: 0.003872, Grad Min: -0.008849, Grad Max: 0.008742\n",
      "Epoch: 1340, Loss: 0.0564\n",
      "Layer: encoder.conv1.weight, Grad Mean: 0.000056, Grad Min: -0.001155, Grad Max: 0.004901\n",
      "Layer: encoder.conv1.a, Grad Mean: 0.000201, Grad Min: 0.000000, Grad Max: 0.000604\n",
      "Layer: encoder.conv1.bias, Grad Mean: 0.009259, Grad Min: -0.026886, Grad Max: 0.121263\n",
      "Layer: encoder.conv2.weight, Grad Mean: 0.000062, Grad Min: -0.003982, Grad Max: 0.003387\n",
      "Layer: encoder.conv2.a, Grad Mean: 0.000011, Grad Min: 0.000000, Grad Max: 0.000034\n",
      "Layer: encoder.conv2.bias, Grad Mean: 0.003762, Grad Min: -0.010209, Grad Max: 0.008418\n",
      "Epoch: 1350, Loss: 0.0572\n",
      "Layer: encoder.conv1.weight, Grad Mean: 0.000206, Grad Min: -0.013904, Grad Max: 0.000015\n",
      "Layer: encoder.conv1.a, Grad Mean: 0.001036, Grad Min: -0.003109, Grad Max: 0.000000\n",
      "Layer: encoder.conv1.bias, Grad Mean: 0.027179, Grad Min: -0.231299, Grad Max: 0.000012\n",
      "Layer: encoder.conv2.weight, Grad Mean: 0.000041, Grad Min: -0.002129, Grad Max: 0.001860\n",
      "Layer: encoder.conv2.a, Grad Mean: 0.000004, Grad Min: 0.000000, Grad Max: 0.000013\n",
      "Layer: encoder.conv2.bias, Grad Mean: 0.005765, Grad Min: -0.012738, Grad Max: 0.012735\n",
      "Epoch: 1360, Loss: 0.0571\n",
      "Layer: encoder.conv1.weight, Grad Mean: 0.000326, Grad Min: 0.000000, Grad Max: 0.031332\n",
      "Layer: encoder.conv1.a, Grad Mean: 0.001189, Grad Min: 0.000000, Grad Max: 0.003568\n",
      "Layer: encoder.conv1.bias, Grad Mean: 0.032940, Grad Min: 0.000000, Grad Max: 0.431360\n",
      "Layer: encoder.conv2.weight, Grad Mean: 0.000057, Grad Min: -0.002704, Grad Max: 0.004111\n",
      "Layer: encoder.conv2.a, Grad Mean: 0.000008, Grad Min: 0.000000, Grad Max: 0.000024\n",
      "Layer: encoder.conv2.bias, Grad Mean: 0.002753, Grad Min: -0.007560, Grad Max: 0.006319\n",
      "Epoch: 1370, Loss: 0.0564\n",
      "Layer: encoder.conv1.weight, Grad Mean: 0.000178, Grad Min: 0.000000, Grad Max: 0.014297\n",
      "Layer: encoder.conv1.a, Grad Mean: 0.000713, Grad Min: 0.000000, Grad Max: 0.002140\n",
      "Layer: encoder.conv1.bias, Grad Mean: 0.017938, Grad Min: 0.000000, Grad Max: 0.169630\n",
      "Layer: encoder.conv2.weight, Grad Mean: 0.000032, Grad Min: -0.001311, Grad Max: 0.001760\n",
      "Layer: encoder.conv2.a, Grad Mean: 0.000009, Grad Min: 0.000000, Grad Max: 0.000026\n",
      "Layer: encoder.conv2.bias, Grad Mean: 0.003477, Grad Min: -0.010117, Grad Max: 0.007700\n",
      "Epoch: 1380, Loss: 0.0573\n",
      "Layer: encoder.conv1.weight, Grad Mean: 0.000314, Grad Min: 0.000000, Grad Max: 0.024707\n",
      "Layer: encoder.conv1.a, Grad Mean: 0.001456, Grad Min: 0.000000, Grad Max: 0.004369\n",
      "Layer: encoder.conv1.bias, Grad Mean: 0.038627, Grad Min: 0.000000, Grad Max: 0.460508\n",
      "Layer: encoder.conv2.weight, Grad Mean: 0.000072, Grad Min: -0.003428, Grad Max: 0.004906\n",
      "Layer: encoder.conv2.a, Grad Mean: 0.000009, Grad Min: 0.000000, Grad Max: 0.000026\n",
      "Layer: encoder.conv2.bias, Grad Mean: 0.002269, Grad Min: -0.007161, Grad Max: 0.005277\n",
      "Epoch: 1390, Loss: 0.0569\n",
      "Layer: encoder.conv1.weight, Grad Mean: 0.000221, Grad Min: -0.016461, Grad Max: 0.000000\n",
      "Layer: encoder.conv1.a, Grad Mean: 0.001033, Grad Min: -0.003099, Grad Max: 0.000000\n",
      "Layer: encoder.conv1.bias, Grad Mean: 0.026531, Grad Min: -0.235021, Grad Max: 0.000000\n",
      "Layer: encoder.conv2.weight, Grad Mean: 0.000054, Grad Min: -0.002729, Grad Max: 0.002377\n",
      "Layer: encoder.conv2.a, Grad Mean: 0.000002, Grad Min: 0.000000, Grad Max: 0.000006\n",
      "Layer: encoder.conv2.bias, Grad Mean: 0.005830, Grad Min: -0.012622, Grad Max: 0.012829\n",
      "Epoch: 1400, Loss: 0.0558\n",
      "Layer: encoder.conv1.weight, Grad Mean: 0.000163, Grad Min: -0.010666, Grad Max: 0.000013\n",
      "Layer: encoder.conv1.a, Grad Mean: 0.000795, Grad Min: -0.002385, Grad Max: 0.000000\n",
      "Layer: encoder.conv1.bias, Grad Mean: 0.020812, Grad Min: -0.194435, Grad Max: 0.000011\n",
      "Layer: encoder.conv2.weight, Grad Mean: 0.000038, Grad Min: -0.001976, Grad Max: 0.001425\n",
      "Layer: encoder.conv2.a, Grad Mean: 0.000004, Grad Min: 0.000000, Grad Max: 0.000013\n",
      "Layer: encoder.conv2.bias, Grad Mean: 0.005322, Grad Min: -0.011752, Grad Max: 0.011814\n",
      "Epoch: 1410, Loss: 0.0557\n",
      "Layer: encoder.conv1.weight, Grad Mean: 0.000006, Grad Min: -0.000106, Grad Max: 0.000545\n",
      "Layer: encoder.conv1.a, Grad Mean: 0.000066, Grad Min: -0.000199, Grad Max: 0.000000\n",
      "Layer: encoder.conv1.bias, Grad Mean: 0.001943, Grad Min: -0.017358, Grad Max: 0.000019\n",
      "Layer: encoder.conv2.weight, Grad Mean: 0.000020, Grad Min: -0.001205, Grad Max: 0.000978\n",
      "Layer: encoder.conv2.a, Grad Mean: 0.000007, Grad Min: 0.000000, Grad Max: 0.000021\n",
      "Layer: encoder.conv2.bias, Grad Mean: 0.004235, Grad Min: -0.010938, Grad Max: 0.009516\n",
      "Epoch: 1420, Loss: 0.0555\n",
      "Layer: encoder.conv1.weight, Grad Mean: 0.000088, Grad Min: -0.005265, Grad Max: 0.000017\n",
      "Layer: encoder.conv1.a, Grad Mean: 0.000480, Grad Min: -0.001439, Grad Max: 0.000000\n",
      "Layer: encoder.conv1.bias, Grad Mean: 0.012557, Grad Min: -0.126533, Grad Max: 0.000014\n",
      "Layer: encoder.conv2.weight, Grad Mean: 0.000027, Grad Min: -0.001542, Grad Max: 0.001230\n",
      "Layer: encoder.conv2.a, Grad Mean: 0.000008, Grad Min: 0.000000, Grad Max: 0.000023\n",
      "Layer: encoder.conv2.bias, Grad Mean: 0.004807, Grad Min: -0.012190, Grad Max: 0.010605\n",
      "Epoch: 1430, Loss: 0.0563\n",
      "Layer: encoder.conv1.weight, Grad Mean: 0.000092, Grad Min: 0.000000, Grad Max: 0.005283\n",
      "Layer: encoder.conv1.a, Grad Mean: 0.000472, Grad Min: 0.000000, Grad Max: 0.001417\n",
      "Layer: encoder.conv1.bias, Grad Mean: 0.011856, Grad Min: 0.000000, Grad Max: 0.116334\n",
      "Layer: encoder.conv2.weight, Grad Mean: 0.000035, Grad Min: -0.001635, Grad Max: 0.001994\n",
      "Layer: encoder.conv2.a, Grad Mean: 0.000007, Grad Min: 0.000000, Grad Max: 0.000022\n",
      "Layer: encoder.conv2.bias, Grad Mean: 0.003510, Grad Min: -0.010099, Grad Max: 0.007944\n",
      "Epoch: 1440, Loss: 0.0566\n",
      "Layer: encoder.conv1.weight, Grad Mean: 0.000123, Grad Min: -0.009641, Grad Max: 0.000000\n",
      "Layer: encoder.conv1.a, Grad Mean: 0.000530, Grad Min: -0.001591, Grad Max: 0.000000\n",
      "Layer: encoder.conv1.bias, Grad Mean: 0.013267, Grad Min: -0.124250, Grad Max: 0.000000\n",
      "Layer: encoder.conv2.weight, Grad Mean: 0.000044, Grad Min: -0.002735, Grad Max: 0.002207\n",
      "Layer: encoder.conv2.a, Grad Mean: 0.000008, Grad Min: 0.000000, Grad Max: 0.000023\n",
      "Layer: encoder.conv2.bias, Grad Mean: 0.004994, Grad Min: -0.012776, Grad Max: 0.011041\n",
      "Epoch: 1450, Loss: 0.0558\n",
      "Layer: encoder.conv1.weight, Grad Mean: 0.000061, Grad Min: 0.000000, Grad Max: 0.004001\n",
      "Layer: encoder.conv1.a, Grad Mean: 0.000328, Grad Min: 0.000000, Grad Max: 0.000985\n",
      "Layer: encoder.conv1.bias, Grad Mean: 0.008143, Grad Min: 0.000000, Grad Max: 0.065778\n",
      "Layer: encoder.conv2.weight, Grad Mean: 0.000021, Grad Min: -0.000893, Grad Max: 0.001141\n",
      "Layer: encoder.conv2.a, Grad Mean: 0.000007, Grad Min: 0.000000, Grad Max: 0.000021\n",
      "Layer: encoder.conv2.bias, Grad Mean: 0.003757, Grad Min: -0.010532, Grad Max: 0.008475\n",
      "Epoch: 1460, Loss: 0.0553\n",
      "Layer: encoder.conv1.weight, Grad Mean: 0.000052, Grad Min: -0.003550, Grad Max: 0.000015\n",
      "Layer: encoder.conv1.a, Grad Mean: 0.000226, Grad Min: -0.000677, Grad Max: 0.000000\n",
      "Layer: encoder.conv1.bias, Grad Mean: 0.005434, Grad Min: -0.059030, Grad Max: 0.000012\n",
      "Layer: encoder.conv2.weight, Grad Mean: 0.000018, Grad Min: -0.000873, Grad Max: 0.000778\n",
      "Layer: encoder.conv2.a, Grad Mean: 0.000006, Grad Min: 0.000000, Grad Max: 0.000018\n",
      "Layer: encoder.conv2.bias, Grad Mean: 0.004356, Grad Min: -0.011008, Grad Max: 0.009736\n",
      "Epoch: 1470, Loss: 0.0557\n",
      "Layer: encoder.conv1.weight, Grad Mean: 0.000148, Grad Min: -0.010996, Grad Max: 0.000017\n",
      "Layer: encoder.conv1.a, Grad Mean: 0.000690, Grad Min: -0.002071, Grad Max: 0.000000\n",
      "Layer: encoder.conv1.bias, Grad Mean: 0.018023, Grad Min: -0.144687, Grad Max: 0.000013\n",
      "Layer: encoder.conv2.weight, Grad Mean: 0.000041, Grad Min: -0.002487, Grad Max: 0.001931\n",
      "Layer: encoder.conv2.a, Grad Mean: 0.000007, Grad Min: 0.000000, Grad Max: 0.000022\n",
      "Layer: encoder.conv2.bias, Grad Mean: 0.005070, Grad Min: -0.012958, Grad Max: 0.011172\n",
      "Epoch: 1480, Loss: 0.0555\n",
      "Layer: encoder.conv1.weight, Grad Mean: 0.000104, Grad Min: -0.009392, Grad Max: 0.000000\n",
      "Layer: encoder.conv1.a, Grad Mean: 0.000592, Grad Min: -0.001775, Grad Max: 0.000000\n",
      "Layer: encoder.conv1.bias, Grad Mean: 0.014540, Grad Min: -0.145960, Grad Max: 0.000000\n",
      "Layer: encoder.conv2.weight, Grad Mean: 0.000033, Grad Min: -0.001729, Grad Max: 0.001297\n",
      "Layer: encoder.conv2.a, Grad Mean: 0.000007, Grad Min: 0.000000, Grad Max: 0.000020\n",
      "Layer: encoder.conv2.bias, Grad Mean: 0.005085, Grad Min: -0.012328, Grad Max: 0.011272\n",
      "Epoch: 1490, Loss: 0.0557\n",
      "Layer: encoder.conv1.weight, Grad Mean: 0.000133, Grad Min: -0.008528, Grad Max: 0.000010\n",
      "Layer: encoder.conv1.a, Grad Mean: 0.000661, Grad Min: -0.001983, Grad Max: 0.000000\n",
      "Layer: encoder.conv1.bias, Grad Mean: 0.017204, Grad Min: -0.154615, Grad Max: 0.000008\n",
      "Layer: encoder.conv2.weight, Grad Mean: 0.000032, Grad Min: -0.001794, Grad Max: 0.001151\n",
      "Layer: encoder.conv2.a, Grad Mean: 0.000003, Grad Min: 0.000000, Grad Max: 0.000010\n",
      "Layer: encoder.conv2.bias, Grad Mean: 0.005321, Grad Min: -0.012319, Grad Max: 0.011777\n",
      "Epoch: 1500, Loss: 0.0565\n",
      "Layer: encoder.conv1.weight, Grad Mean: 0.000274, Grad Min: 0.000000, Grad Max: 0.016803\n",
      "Layer: encoder.conv1.a, Grad Mean: 0.001333, Grad Min: 0.000000, Grad Max: 0.004000\n",
      "Layer: encoder.conv1.bias, Grad Mean: 0.033751, Grad Min: 0.000000, Grad Max: 0.285981\n",
      "Layer: encoder.conv2.weight, Grad Mean: 0.000049, Grad Min: -0.002333, Grad Max: 0.002698\n",
      "Layer: encoder.conv2.a, Grad Mean: 0.000005, Grad Min: 0.000000, Grad Max: 0.000016\n",
      "Layer: encoder.conv2.bias, Grad Mean: 0.002639, Grad Min: -0.009061, Grad Max: 0.006115\n",
      "Epoch: 1510, Loss: 0.0558\n",
      "Layer: encoder.conv1.weight, Grad Mean: 0.000124, Grad Min: -0.008383, Grad Max: 0.000026\n",
      "Layer: encoder.conv1.a, Grad Mean: 0.000611, Grad Min: -0.001832, Grad Max: 0.000000\n",
      "Layer: encoder.conv1.bias, Grad Mean: 0.015643, Grad Min: -0.128945, Grad Max: 0.000020\n",
      "Layer: encoder.conv2.weight, Grad Mean: 0.000025, Grad Min: -0.001549, Grad Max: 0.001188\n",
      "Layer: encoder.conv2.a, Grad Mean: 0.000004, Grad Min: 0.000000, Grad Max: 0.000012\n",
      "Layer: encoder.conv2.bias, Grad Mean: 0.005316, Grad Min: -0.012466, Grad Max: 0.011733\n",
      "Epoch: 1520, Loss: 0.0556\n",
      "Layer: encoder.conv1.weight, Grad Mean: 0.000170, Grad Min: -0.011378, Grad Max: 0.000021\n",
      "Layer: encoder.conv1.a, Grad Mean: 0.000759, Grad Min: -0.002278, Grad Max: 0.000000\n",
      "Layer: encoder.conv1.bias, Grad Mean: 0.019926, Grad Min: -0.198354, Grad Max: 0.000016\n",
      "Layer: encoder.conv2.weight, Grad Mean: 0.000036, Grad Min: -0.001947, Grad Max: 0.001253\n",
      "Layer: encoder.conv2.a, Grad Mean: 0.000003, Grad Min: 0.000000, Grad Max: 0.000009\n",
      "Layer: encoder.conv2.bias, Grad Mean: 0.005376, Grad Min: -0.012864, Grad Max: 0.011907\n",
      "Epoch: 1530, Loss: 0.0554\n",
      "Layer: encoder.conv1.weight, Grad Mean: 0.000173, Grad Min: 0.000000, Grad Max: 0.011265\n",
      "Layer: encoder.conv1.a, Grad Mean: 0.000735, Grad Min: 0.000000, Grad Max: 0.002206\n",
      "Layer: encoder.conv1.bias, Grad Mean: 0.018426, Grad Min: 0.000000, Grad Max: 0.169539\n",
      "Layer: encoder.conv2.weight, Grad Mean: 0.000029, Grad Min: -0.001387, Grad Max: 0.001832\n",
      "Layer: encoder.conv2.a, Grad Mean: 0.000005, Grad Min: 0.000000, Grad Max: 0.000014\n",
      "Layer: encoder.conv2.bias, Grad Mean: 0.003257, Grad Min: -0.009616, Grad Max: 0.007404\n",
      "Epoch: 1540, Loss: 0.0556\n",
      "Layer: encoder.conv1.weight, Grad Mean: 0.000202, Grad Min: -0.016986, Grad Max: 0.000022\n",
      "Layer: encoder.conv1.a, Grad Mean: 0.000937, Grad Min: -0.002812, Grad Max: 0.000000\n",
      "Layer: encoder.conv1.bias, Grad Mean: 0.025038, Grad Min: -0.263923, Grad Max: 0.000017\n",
      "Layer: encoder.conv2.weight, Grad Mean: 0.000038, Grad Min: -0.002168, Grad Max: 0.001538\n",
      "Layer: encoder.conv2.a, Grad Mean: 0.000004, Grad Min: 0.000000, Grad Max: 0.000011\n",
      "Layer: encoder.conv2.bias, Grad Mean: 0.005775, Grad Min: -0.013618, Grad Max: 0.012727\n",
      "Epoch: 1550, Loss: 0.0560\n",
      "Layer: encoder.conv1.weight, Grad Mean: 0.000062, Grad Min: -0.006553, Grad Max: 0.001213\n",
      "Layer: encoder.conv1.a, Grad Mean: 0.000189, Grad Min: -0.000566, Grad Max: 0.000000\n",
      "Layer: encoder.conv1.bias, Grad Mean: 0.006332, Grad Min: -0.082875, Grad Max: 0.018420\n",
      "Layer: encoder.conv2.weight, Grad Mean: 0.000018, Grad Min: -0.000954, Grad Max: 0.000744\n",
      "Layer: encoder.conv2.a, Grad Mean: 0.000004, Grad Min: 0.000000, Grad Max: 0.000013\n",
      "Layer: encoder.conv2.bias, Grad Mean: 0.004671, Grad Min: -0.011768, Grad Max: 0.010347\n",
      "Epoch: 1560, Loss: 0.0554\n",
      "Layer: encoder.conv1.weight, Grad Mean: 0.000046, Grad Min: -0.005368, Grad Max: 0.000015\n",
      "Layer: encoder.conv1.a, Grad Mean: 0.000241, Grad Min: -0.000722, Grad Max: 0.000000\n",
      "Layer: encoder.conv1.bias, Grad Mean: 0.006685, Grad Min: -0.092864, Grad Max: 0.000012\n",
      "Layer: encoder.conv2.weight, Grad Mean: 0.000014, Grad Min: -0.000905, Grad Max: 0.000734\n",
      "Layer: encoder.conv2.a, Grad Mean: 0.000005, Grad Min: 0.000000, Grad Max: 0.000016\n",
      "Layer: encoder.conv2.bias, Grad Mean: 0.004770, Grad Min: -0.012636, Grad Max: 0.010631\n",
      "Epoch: 1570, Loss: 0.0553\n",
      "Layer: encoder.conv1.weight, Grad Mean: 0.000037, Grad Min: -0.002318, Grad Max: 0.001930\n",
      "Layer: encoder.conv1.a, Grad Mean: 0.000115, Grad Min: -0.000344, Grad Max: 0.000000\n",
      "Layer: encoder.conv1.bias, Grad Mean: 0.005002, Grad Min: -0.066360, Grad Max: 0.013655\n",
      "Layer: encoder.conv2.weight, Grad Mean: 0.000030, Grad Min: -0.001476, Grad Max: 0.001513\n",
      "Layer: encoder.conv2.a, Grad Mean: 0.000003, Grad Min: 0.000000, Grad Max: 0.000009\n",
      "Layer: encoder.conv2.bias, Grad Mean: 0.004713, Grad Min: -0.011867, Grad Max: 0.010498\n",
      "Epoch: 1580, Loss: 0.0552\n",
      "Layer: encoder.conv1.weight, Grad Mean: 0.000069, Grad Min: -0.004324, Grad Max: 0.003892\n",
      "Layer: encoder.conv1.a, Grad Mean: 0.000021, Grad Min: -0.000063, Grad Max: 0.000000\n",
      "Layer: encoder.conv1.bias, Grad Mean: 0.008984, Grad Min: -0.086019, Grad Max: 0.057721\n",
      "Layer: encoder.conv2.weight, Grad Mean: 0.000037, Grad Min: -0.001706, Grad Max: 0.002092\n",
      "Layer: encoder.conv2.a, Grad Mean: 0.000003, Grad Min: 0.000000, Grad Max: 0.000009\n",
      "Layer: encoder.conv2.bias, Grad Mean: 0.004607, Grad Min: -0.011790, Grad Max: 0.010272\n",
      "Epoch: 1590, Loss: 0.0550\n",
      "Layer: encoder.conv1.weight, Grad Mean: 0.000136, Grad Min: -0.010738, Grad Max: 0.000000\n",
      "Layer: encoder.conv1.a, Grad Mean: 0.000685, Grad Min: -0.002055, Grad Max: 0.000000\n",
      "Layer: encoder.conv1.bias, Grad Mean: 0.017759, Grad Min: -0.171130, Grad Max: 0.000000\n",
      "Layer: encoder.conv2.weight, Grad Mean: 0.000026, Grad Min: -0.001468, Grad Max: 0.001172\n",
      "Layer: encoder.conv2.a, Grad Mean: 0.000004, Grad Min: 0.000000, Grad Max: 0.000013\n",
      "Layer: encoder.conv2.bias, Grad Mean: 0.005399, Grad Min: -0.013347, Grad Max: 0.011903\n",
      "Epoch: 1600, Loss: 0.0545\n",
      "Layer: encoder.conv1.weight, Grad Mean: 0.000051, Grad Min: 0.000000, Grad Max: 0.004459\n",
      "Layer: encoder.conv1.a, Grad Mean: 0.000190, Grad Min: 0.000000, Grad Max: 0.000569\n",
      "Layer: encoder.conv1.bias, Grad Mean: 0.004272, Grad Min: 0.000000, Grad Max: 0.056276\n",
      "Layer: encoder.conv2.weight, Grad Mean: 0.000025, Grad Min: -0.001321, Grad Max: 0.001112\n",
      "Layer: encoder.conv2.a, Grad Mean: 0.000007, Grad Min: 0.000000, Grad Max: 0.000021\n",
      "Layer: encoder.conv2.bias, Grad Mean: 0.004054, Grad Min: -0.011859, Grad Max: 0.008946\n",
      "Epoch: 1610, Loss: 0.0550\n",
      "Layer: encoder.conv1.weight, Grad Mean: 0.000048, Grad Min: -0.000000, Grad Max: 0.003669\n",
      "Layer: encoder.conv1.a, Grad Mean: 0.000059, Grad Min: 0.000000, Grad Max: 0.000178\n",
      "Layer: encoder.conv1.bias, Grad Mean: 0.001277, Grad Min: 0.000000, Grad Max: 0.015441\n",
      "Layer: encoder.conv2.weight, Grad Mean: 0.000024, Grad Min: -0.001348, Grad Max: 0.001068\n",
      "Layer: encoder.conv2.a, Grad Mean: 0.000006, Grad Min: 0.000000, Grad Max: 0.000019\n",
      "Layer: encoder.conv2.bias, Grad Mean: 0.004381, Grad Min: -0.012551, Grad Max: 0.009702\n",
      "Epoch: 1620, Loss: 0.0551\n",
      "Layer: encoder.conv1.weight, Grad Mean: 0.000008, Grad Min: -0.000517, Grad Max: 0.000238\n",
      "Layer: encoder.conv1.a, Grad Mean: 0.000107, Grad Min: -0.000322, Grad Max: 0.000000\n",
      "Layer: encoder.conv1.bias, Grad Mean: 0.002652, Grad Min: -0.031240, Grad Max: 0.000013\n",
      "Layer: encoder.conv2.weight, Grad Mean: 0.000016, Grad Min: -0.000786, Grad Max: 0.000736\n",
      "Layer: encoder.conv2.a, Grad Mean: 0.000005, Grad Min: 0.000000, Grad Max: 0.000015\n",
      "Layer: encoder.conv2.bias, Grad Mean: 0.004589, Grad Min: -0.012496, Grad Max: 0.010205\n",
      "Epoch: 1630, Loss: 0.0548\n",
      "Layer: encoder.conv1.weight, Grad Mean: 0.000024, Grad Min: -0.002567, Grad Max: 0.000029\n",
      "Layer: encoder.conv1.a, Grad Mean: 0.000018, Grad Min: -0.000053, Grad Max: 0.000000\n",
      "Layer: encoder.conv1.bias, Grad Mean: 0.001015, Grad Min: -0.013080, Grad Max: 0.003157\n",
      "Layer: encoder.conv2.weight, Grad Mean: 0.000032, Grad Min: -0.001492, Grad Max: 0.001795\n",
      "Layer: encoder.conv2.a, Grad Mean: 0.000002, Grad Min: 0.000000, Grad Max: 0.000007\n",
      "Layer: encoder.conv2.bias, Grad Mean: 0.004440, Grad Min: -0.011380, Grad Max: 0.009865\n",
      "Epoch: 1640, Loss: 0.0545\n",
      "Layer: encoder.conv1.weight, Grad Mean: 0.000083, Grad Min: -0.007849, Grad Max: 0.000018\n",
      "Layer: encoder.conv1.a, Grad Mean: 0.000489, Grad Min: -0.001466, Grad Max: 0.000000\n",
      "Layer: encoder.conv1.bias, Grad Mean: 0.013254, Grad Min: -0.166142, Grad Max: 0.000014\n",
      "Layer: encoder.conv2.weight, Grad Mean: 0.000046, Grad Min: -0.002341, Grad Max: 0.002453\n",
      "Layer: encoder.conv2.a, Grad Mean: 0.000002, Grad Min: 0.000000, Grad Max: 0.000007\n",
      "Layer: encoder.conv2.bias, Grad Mean: 0.005252, Grad Min: -0.012732, Grad Max: 0.011610\n",
      "Epoch: 1650, Loss: 0.0557\n",
      "Layer: encoder.conv1.weight, Grad Mean: 0.000316, Grad Min: 0.000000, Grad Max: 0.020189\n",
      "Layer: encoder.conv1.a, Grad Mean: 0.001348, Grad Min: 0.000000, Grad Max: 0.004045\n",
      "Layer: encoder.conv1.bias, Grad Mean: 0.033372, Grad Min: 0.000000, Grad Max: 0.282270\n",
      "Layer: encoder.conv2.weight, Grad Mean: 0.000049, Grad Min: -0.002268, Grad Max: 0.002638\n",
      "Layer: encoder.conv2.a, Grad Mean: 0.000004, Grad Min: 0.000000, Grad Max: 0.000011\n",
      "Layer: encoder.conv2.bias, Grad Mean: 0.002843, Grad Min: -0.009465, Grad Max: 0.006685\n",
      "Epoch: 1660, Loss: 0.0555\n",
      "Layer: encoder.conv1.weight, Grad Mean: 0.000273, Grad Min: 0.000000, Grad Max: 0.027566\n",
      "Layer: encoder.conv1.a, Grad Mean: 0.001125, Grad Min: 0.000000, Grad Max: 0.003376\n",
      "Layer: encoder.conv1.bias, Grad Mean: 0.030967, Grad Min: 0.000000, Grad Max: 0.441593\n",
      "Layer: encoder.conv2.weight, Grad Mean: 0.000057, Grad Min: -0.002461, Grad Max: 0.003748\n",
      "Layer: encoder.conv2.a, Grad Mean: 0.000007, Grad Min: 0.000000, Grad Max: 0.000020\n",
      "Layer: encoder.conv2.bias, Grad Mean: 0.003039, Grad Min: -0.009058, Grad Max: 0.006799\n",
      "Epoch: 1670, Loss: 0.0551\n",
      "Layer: encoder.conv1.weight, Grad Mean: 0.000062, Grad Min: 0.000000, Grad Max: 0.004792\n",
      "Layer: encoder.conv1.a, Grad Mean: 0.000286, Grad Min: 0.000000, Grad Max: 0.000858\n",
      "Layer: encoder.conv1.bias, Grad Mean: 0.007113, Grad Min: 0.000000, Grad Max: 0.082105\n",
      "Layer: encoder.conv2.weight, Grad Mean: 0.000021, Grad Min: -0.000939, Grad Max: 0.001219\n",
      "Layer: encoder.conv2.a, Grad Mean: 0.000005, Grad Min: 0.000000, Grad Max: 0.000014\n",
      "Layer: encoder.conv2.bias, Grad Mean: 0.004102, Grad Min: -0.011724, Grad Max: 0.009132\n",
      "Epoch: 1680, Loss: 0.0543\n",
      "Layer: encoder.conv1.weight, Grad Mean: 0.000051, Grad Min: -0.003788, Grad Max: 0.000018\n",
      "Layer: encoder.conv1.a, Grad Mean: 0.000285, Grad Min: -0.000855, Grad Max: 0.000000\n",
      "Layer: encoder.conv1.bias, Grad Mean: 0.007579, Grad Min: -0.084413, Grad Max: 0.000015\n",
      "Layer: encoder.conv2.weight, Grad Mean: 0.000021, Grad Min: -0.001322, Grad Max: 0.000612\n",
      "Layer: encoder.conv2.a, Grad Mean: 0.000003, Grad Min: 0.000000, Grad Max: 0.000010\n",
      "Layer: encoder.conv2.bias, Grad Mean: 0.004865, Grad Min: -0.012458, Grad Max: 0.010740\n",
      "Epoch: 1690, Loss: 0.0541\n",
      "Layer: encoder.conv1.weight, Grad Mean: 0.000022, Grad Min: -0.001681, Grad Max: 0.000877\n",
      "Layer: encoder.conv1.a, Grad Mean: 0.000055, Grad Min: -0.000164, Grad Max: 0.000000\n",
      "Layer: encoder.conv1.bias, Grad Mean: 0.003698, Grad Min: -0.045589, Grad Max: 0.013566\n",
      "Layer: encoder.conv2.weight, Grad Mean: 0.000014, Grad Min: -0.000890, Grad Max: 0.000748\n",
      "Layer: encoder.conv2.a, Grad Mean: 0.000004, Grad Min: 0.000000, Grad Max: 0.000011\n",
      "Layer: encoder.conv2.bias, Grad Mean: 0.004482, Grad Min: -0.012032, Grad Max: 0.009948\n",
      "Epoch: 1700, Loss: 0.0542\n",
      "Layer: encoder.conv1.weight, Grad Mean: 0.000048, Grad Min: -0.002620, Grad Max: 0.003272\n",
      "Layer: encoder.conv1.a, Grad Mean: 0.000001, Grad Min: -0.000003, Grad Max: 0.000000\n",
      "Layer: encoder.conv1.bias, Grad Mean: 0.006365, Grad Min: -0.060158, Grad Max: 0.041678\n",
      "Layer: encoder.conv2.weight, Grad Mean: 0.000013, Grad Min: -0.000691, Grad Max: 0.000570\n",
      "Layer: encoder.conv2.a, Grad Mean: 0.000004, Grad Min: 0.000000, Grad Max: 0.000013\n",
      "Layer: encoder.conv2.bias, Grad Mean: 0.004382, Grad Min: -0.012614, Grad Max: 0.009765\n",
      "Epoch: 1710, Loss: 0.0539\n",
      "Layer: encoder.conv1.weight, Grad Mean: 0.000146, Grad Min: -0.009226, Grad Max: 0.000000\n",
      "Layer: encoder.conv1.a, Grad Mean: 0.000746, Grad Min: -0.002239, Grad Max: 0.000000\n",
      "Layer: encoder.conv1.bias, Grad Mean: 0.018777, Grad Min: -0.166859, Grad Max: 0.000000\n",
      "Layer: encoder.conv2.weight, Grad Mean: 0.000032, Grad Min: -0.001505, Grad Max: 0.001336\n",
      "Layer: encoder.conv2.a, Grad Mean: 0.000005, Grad Min: 0.000000, Grad Max: 0.000016\n",
      "Layer: encoder.conv2.bias, Grad Mean: 0.005313, Grad Min: -0.014133, Grad Max: 0.011702\n",
      "Epoch: 1720, Loss: 0.0548\n",
      "Layer: encoder.conv1.weight, Grad Mean: 0.000087, Grad Min: 0.000000, Grad Max: 0.006356\n",
      "Layer: encoder.conv1.a, Grad Mean: 0.000427, Grad Min: 0.000000, Grad Max: 0.001282\n",
      "Layer: encoder.conv1.bias, Grad Mean: 0.010264, Grad Min: 0.000000, Grad Max: 0.097385\n",
      "Layer: encoder.conv2.weight, Grad Mean: 0.000021, Grad Min: -0.000929, Grad Max: 0.001163\n",
      "Layer: encoder.conv2.a, Grad Mean: 0.000005, Grad Min: 0.000000, Grad Max: 0.000014\n",
      "Layer: encoder.conv2.bias, Grad Mean: 0.003895, Grad Min: -0.011983, Grad Max: 0.008698\n",
      "Epoch: 1730, Loss: 0.0541\n",
      "Layer: encoder.conv1.weight, Grad Mean: 0.000051, Grad Min: -0.000474, Grad Max: 0.005605\n",
      "Layer: encoder.conv1.a, Grad Mean: 0.000130, Grad Min: 0.000000, Grad Max: 0.000390\n",
      "Layer: encoder.conv1.bias, Grad Mean: 0.006792, Grad Min: -0.033806, Grad Max: 0.074866\n",
      "Layer: encoder.conv2.weight, Grad Mean: 0.000029, Grad Min: -0.001337, Grad Max: 0.001870\n",
      "Layer: encoder.conv2.a, Grad Mean: 0.000002, Grad Min: 0.000000, Grad Max: 0.000007\n",
      "Layer: encoder.conv2.bias, Grad Mean: 0.004407, Grad Min: -0.011939, Grad Max: 0.009787\n",
      "Epoch: 1740, Loss: 0.0541\n",
      "Layer: encoder.conv1.weight, Grad Mean: 0.000067, Grad Min: -0.002584, Grad Max: 0.005216\n",
      "Layer: encoder.conv1.a, Grad Mean: 0.000004, Grad Min: 0.000000, Grad Max: 0.000012\n",
      "Layer: encoder.conv1.bias, Grad Mean: 0.008186, Grad Min: -0.058508, Grad Max: 0.072453\n",
      "Layer: encoder.conv2.weight, Grad Mean: 0.000040, Grad Min: -0.002634, Grad Max: 0.002150\n",
      "Layer: encoder.conv2.a, Grad Mean: 0.000007, Grad Min: 0.000000, Grad Max: 0.000021\n",
      "Layer: encoder.conv2.bias, Grad Mean: 0.004291, Grad Min: -0.012441, Grad Max: 0.009502\n",
      "Epoch: 1750, Loss: 0.0543\n",
      "Layer: encoder.conv1.weight, Grad Mean: 0.000048, Grad Min: 0.000000, Grad Max: 0.003384\n",
      "Layer: encoder.conv1.a, Grad Mean: 0.000269, Grad Min: 0.000000, Grad Max: 0.000807\n",
      "Layer: encoder.conv1.bias, Grad Mean: 0.006502, Grad Min: 0.000000, Grad Max: 0.052414\n",
      "Layer: encoder.conv2.weight, Grad Mean: 0.000016, Grad Min: -0.000628, Grad Max: 0.000925\n",
      "Layer: encoder.conv2.a, Grad Mean: 0.000004, Grad Min: 0.000000, Grad Max: 0.000011\n",
      "Layer: encoder.conv2.bias, Grad Mean: 0.004062, Grad Min: -0.011707, Grad Max: 0.009049\n",
      "Epoch: 1760, Loss: 0.0542\n",
      "Layer: encoder.conv1.weight, Grad Mean: 0.000104, Grad Min: 0.000000, Grad Max: 0.007247\n",
      "Layer: encoder.conv1.a, Grad Mean: 0.000502, Grad Min: 0.000000, Grad Max: 0.001507\n",
      "Layer: encoder.conv1.bias, Grad Mean: 0.012083, Grad Min: 0.000000, Grad Max: 0.104058\n",
      "Layer: encoder.conv2.weight, Grad Mean: 0.000021, Grad Min: -0.000878, Grad Max: 0.001372\n",
      "Layer: encoder.conv2.a, Grad Mean: 0.000004, Grad Min: 0.000000, Grad Max: 0.000012\n",
      "Layer: encoder.conv2.bias, Grad Mean: 0.003780, Grad Min: -0.011477, Grad Max: 0.008553\n",
      "Epoch: 1770, Loss: 0.0545\n",
      "Layer: encoder.conv1.weight, Grad Mean: 0.000059, Grad Min: -0.004195, Grad Max: 0.000022\n",
      "Layer: encoder.conv1.a, Grad Mean: 0.000354, Grad Min: -0.001061, Grad Max: 0.000000\n",
      "Layer: encoder.conv1.bias, Grad Mean: 0.008621, Grad Min: -0.085445, Grad Max: 0.000017\n",
      "Layer: encoder.conv2.weight, Grad Mean: 0.000021, Grad Min: -0.000912, Grad Max: 0.000842\n",
      "Layer: encoder.conv2.a, Grad Mean: 0.000003, Grad Min: 0.000000, Grad Max: 0.000010\n",
      "Layer: encoder.conv2.bias, Grad Mean: 0.005146, Grad Min: -0.014048, Grad Max: 0.011314\n",
      "Epoch: 1780, Loss: 0.0549\n",
      "Layer: encoder.conv1.weight, Grad Mean: 0.000285, Grad Min: 0.000000, Grad Max: 0.017424\n",
      "Layer: encoder.conv1.a, Grad Mean: 0.001606, Grad Min: 0.000000, Grad Max: 0.004817\n",
      "Layer: encoder.conv1.bias, Grad Mean: 0.039066, Grad Min: 0.000000, Grad Max: 0.352026\n",
      "Layer: encoder.conv2.weight, Grad Mean: 0.000063, Grad Min: -0.003085, Grad Max: 0.003227\n",
      "Layer: encoder.conv2.a, Grad Mean: 0.000003, Grad Min: 0.000000, Grad Max: 0.000009\n",
      "Layer: encoder.conv2.bias, Grad Mean: 0.002136, Grad Min: -0.008566, Grad Max: 0.006281\n",
      "Epoch: 1790, Loss: 0.0546\n",
      "Layer: encoder.conv1.weight, Grad Mean: 0.000137, Grad Min: -0.009577, Grad Max: 0.000021\n",
      "Layer: encoder.conv1.a, Grad Mean: 0.000817, Grad Min: -0.002451, Grad Max: 0.000000\n",
      "Layer: encoder.conv1.bias, Grad Mean: 0.020122, Grad Min: -0.175284, Grad Max: 0.000017\n",
      "Layer: encoder.conv2.weight, Grad Mean: 0.000042, Grad Min: -0.002599, Grad Max: 0.001936\n",
      "Layer: encoder.conv2.a, Grad Mean: 0.000001, Grad Min: 0.000000, Grad Max: 0.000002\n",
      "Layer: encoder.conv2.bias, Grad Mean: 0.006177, Grad Min: -0.014773, Grad Max: 0.013455\n",
      "Epoch: 1800, Loss: 0.0541\n",
      "Layer: encoder.conv1.weight, Grad Mean: 0.000112, Grad Min: -0.007757, Grad Max: 0.000000\n",
      "Layer: encoder.conv1.a, Grad Mean: 0.000658, Grad Min: -0.001973, Grad Max: 0.000000\n",
      "Layer: encoder.conv1.bias, Grad Mean: 0.016959, Grad Min: -0.173760, Grad Max: 0.000000\n",
      "Layer: encoder.conv2.weight, Grad Mean: 0.000026, Grad Min: -0.001566, Grad Max: 0.001170\n",
      "Layer: encoder.conv2.a, Grad Mean: 0.000003, Grad Min: 0.000000, Grad Max: 0.000009\n",
      "Layer: encoder.conv2.bias, Grad Mean: 0.005673, Grad Min: -0.015223, Grad Max: 0.012449\n",
      "Epoch: 1810, Loss: 0.0540\n",
      "Layer: encoder.conv1.weight, Grad Mean: 0.000103, Grad Min: -0.000530, Grad Max: 0.012225\n",
      "Layer: encoder.conv1.a, Grad Mean: 0.000529, Grad Min: 0.000000, Grad Max: 0.001587\n",
      "Layer: encoder.conv1.bias, Grad Mean: 0.011812, Grad Min: -0.002450, Grad Max: 0.186548\n",
      "Layer: encoder.conv2.weight, Grad Mean: 0.000036, Grad Min: -0.001322, Grad Max: 0.002749\n",
      "Layer: encoder.conv2.a, Grad Mean: 0.000002, Grad Min: 0.000000, Grad Max: 0.000005\n",
      "Layer: encoder.conv2.bias, Grad Mean: 0.003938, Grad Min: -0.011897, Grad Max: 0.009125\n",
      "Epoch: 1820, Loss: 0.0540\n",
      "Layer: encoder.conv1.weight, Grad Mean: 0.000048, Grad Min: 0.000000, Grad Max: 0.004107\n",
      "Layer: encoder.conv1.a, Grad Mean: 0.000223, Grad Min: 0.000000, Grad Max: 0.000668\n",
      "Layer: encoder.conv1.bias, Grad Mean: 0.004886, Grad Min: 0.000000, Grad Max: 0.051193\n",
      "Layer: encoder.conv2.weight, Grad Mean: 0.000014, Grad Min: -0.000477, Grad Max: 0.000742\n",
      "Layer: encoder.conv2.a, Grad Mean: 0.000003, Grad Min: 0.000000, Grad Max: 0.000008\n",
      "Layer: encoder.conv2.bias, Grad Mean: 0.004239, Grad Min: -0.012554, Grad Max: 0.009627\n",
      "Epoch: 1830, Loss: 0.0537\n",
      "Layer: encoder.conv1.weight, Grad Mean: 0.000150, Grad Min: -0.010342, Grad Max: 0.000000\n",
      "Layer: encoder.conv1.a, Grad Mean: 0.000841, Grad Min: -0.002523, Grad Max: 0.000000\n",
      "Layer: encoder.conv1.bias, Grad Mean: 0.021574, Grad Min: -0.219648, Grad Max: 0.000000\n",
      "Layer: encoder.conv2.weight, Grad Mean: 0.000037, Grad Min: -0.002188, Grad Max: 0.001866\n",
      "Layer: encoder.conv2.a, Grad Mean: 0.000005, Grad Min: 0.000000, Grad Max: 0.000014\n",
      "Layer: encoder.conv2.bias, Grad Mean: 0.005909, Grad Min: -0.016608, Grad Max: 0.012808\n",
      "Epoch: 1840, Loss: 0.0534\n",
      "Layer: encoder.conv1.weight, Grad Mean: 0.000090, Grad Min: 0.000000, Grad Max: 0.005895\n",
      "Layer: encoder.conv1.a, Grad Mean: 0.000506, Grad Min: 0.000000, Grad Max: 0.001517\n",
      "Layer: encoder.conv1.bias, Grad Mean: 0.012645, Grad Min: 0.000000, Grad Max: 0.122449\n",
      "Layer: encoder.conv2.weight, Grad Mean: 0.000026, Grad Min: -0.001120, Grad Max: 0.001635\n",
      "Layer: encoder.conv2.a, Grad Mean: 0.000004, Grad Min: 0.000000, Grad Max: 0.000013\n",
      "Layer: encoder.conv2.bias, Grad Mean: 0.003509, Grad Min: -0.011089, Grad Max: 0.008419\n",
      "Epoch: 1850, Loss: 0.0534\n",
      "Layer: encoder.conv1.weight, Grad Mean: 0.000170, Grad Min: -0.010584, Grad Max: 0.000025\n",
      "Layer: encoder.conv1.a, Grad Mean: 0.000890, Grad Min: -0.002671, Grad Max: 0.000000\n",
      "Layer: encoder.conv1.bias, Grad Mean: 0.022214, Grad Min: -0.201351, Grad Max: 0.000020\n",
      "Layer: encoder.conv2.weight, Grad Mean: 0.000032, Grad Min: -0.001856, Grad Max: 0.001399\n",
      "Layer: encoder.conv2.a, Grad Mean: 0.000003, Grad Min: 0.000000, Grad Max: 0.000008\n",
      "Layer: encoder.conv2.bias, Grad Mean: 0.005888, Grad Min: -0.015486, Grad Max: 0.012869\n",
      "Epoch: 1860, Loss: 0.0534\n",
      "Layer: encoder.conv1.weight, Grad Mean: 0.000042, Grad Min: 0.000000, Grad Max: 0.003517\n",
      "Layer: encoder.conv1.a, Grad Mean: 0.000323, Grad Min: 0.000000, Grad Max: 0.000970\n",
      "Layer: encoder.conv1.bias, Grad Mean: 0.007767, Grad Min: 0.000000, Grad Max: 0.072719\n",
      "Layer: encoder.conv2.weight, Grad Mean: 0.000020, Grad Min: -0.000690, Grad Max: 0.001344\n",
      "Layer: encoder.conv2.a, Grad Mean: 0.000002, Grad Min: 0.000000, Grad Max: 0.000007\n",
      "Layer: encoder.conv2.bias, Grad Mean: 0.003869, Grad Min: -0.011740, Grad Max: 0.009116\n",
      "Epoch: 1870, Loss: 0.0535\n",
      "Layer: encoder.conv1.weight, Grad Mean: 0.000163, Grad Min: -0.012662, Grad Max: 0.000018\n",
      "Layer: encoder.conv1.a, Grad Mean: 0.000860, Grad Min: -0.002579, Grad Max: 0.000000\n",
      "Layer: encoder.conv1.bias, Grad Mean: 0.022129, Grad Min: -0.236139, Grad Max: 0.000014\n",
      "Layer: encoder.conv2.weight, Grad Mean: 0.000031, Grad Min: -0.001616, Grad Max: 0.001424\n",
      "Layer: encoder.conv2.a, Grad Mean: 0.000004, Grad Min: 0.000000, Grad Max: 0.000011\n",
      "Layer: encoder.conv2.bias, Grad Mean: 0.005836, Grad Min: -0.016189, Grad Max: 0.012782\n",
      "Epoch: 1880, Loss: 0.0539\n",
      "Layer: encoder.conv1.weight, Grad Mean: 0.000006, Grad Min: -0.000108, Grad Max: 0.000418\n",
      "Layer: encoder.conv1.a, Grad Mean: 0.000041, Grad Min: -0.000124, Grad Max: 0.000000\n",
      "Layer: encoder.conv1.bias, Grad Mean: 0.001372, Grad Min: -0.018822, Grad Max: 0.000012\n",
      "Layer: encoder.conv2.weight, Grad Mean: 0.000011, Grad Min: -0.000589, Grad Max: 0.000498\n",
      "Layer: encoder.conv2.a, Grad Mean: 0.000002, Grad Min: 0.000000, Grad Max: 0.000007\n",
      "Layer: encoder.conv2.bias, Grad Mean: 0.004778, Grad Min: -0.013944, Grad Max: 0.010916\n",
      "Epoch: 1890, Loss: 0.0535\n",
      "Layer: encoder.conv1.weight, Grad Mean: 0.000142, Grad Min: 0.000000, Grad Max: 0.012526\n",
      "Layer: encoder.conv1.a, Grad Mean: 0.000829, Grad Min: 0.000000, Grad Max: 0.002486\n",
      "Layer: encoder.conv1.bias, Grad Mean: 0.019535, Grad Min: 0.000000, Grad Max: 0.212796\n",
      "Layer: encoder.conv2.weight, Grad Mean: 0.000039, Grad Min: -0.001681, Grad Max: 0.002747\n",
      "Layer: encoder.conv2.a, Grad Mean: 0.000001, Grad Min: 0.000000, Grad Max: 0.000004\n",
      "Layer: encoder.conv2.bias, Grad Mean: 0.003317, Grad Min: -0.010895, Grad Max: 0.008508\n",
      "Epoch: 1900, Loss: 0.0531\n",
      "Layer: encoder.conv1.weight, Grad Mean: 0.000069, Grad Min: -0.005040, Grad Max: 0.000017\n",
      "Layer: encoder.conv1.a, Grad Mean: 0.000437, Grad Min: -0.001312, Grad Max: 0.000000\n",
      "Layer: encoder.conv1.bias, Grad Mean: 0.011203, Grad Min: -0.106801, Grad Max: 0.000013\n",
      "Layer: encoder.conv2.weight, Grad Mean: 0.000026, Grad Min: -0.001208, Grad Max: 0.001202\n",
      "Layer: encoder.conv2.a, Grad Mean: 0.000004, Grad Min: 0.000000, Grad Max: 0.000013\n",
      "Layer: encoder.conv2.bias, Grad Mean: 0.005110, Grad Min: -0.014736, Grad Max: 0.011277\n",
      "Epoch: 1910, Loss: 0.0537\n",
      "Layer: encoder.conv1.weight, Grad Mean: 0.000132, Grad Min: 0.000000, Grad Max: 0.008673\n",
      "Layer: encoder.conv1.a, Grad Mean: 0.000884, Grad Min: 0.000000, Grad Max: 0.002652\n",
      "Layer: encoder.conv1.bias, Grad Mean: 0.020736, Grad Min: 0.000000, Grad Max: 0.212725\n",
      "Layer: encoder.conv2.weight, Grad Mean: 0.000040, Grad Min: -0.002001, Grad Max: 0.002582\n",
      "Layer: encoder.conv2.a, Grad Mean: 0.000002, Grad Min: 0.000000, Grad Max: 0.000006\n",
      "Layer: encoder.conv2.bias, Grad Mean: 0.003161, Grad Min: -0.010947, Grad Max: 0.008404\n",
      "Epoch: 1920, Loss: 0.0533\n",
      "Layer: encoder.conv1.weight, Grad Mean: 0.000144, Grad Min: -0.010731, Grad Max: 0.000000\n",
      "Layer: encoder.conv1.a, Grad Mean: 0.000841, Grad Min: -0.002522, Grad Max: 0.000000\n",
      "Layer: encoder.conv1.bias, Grad Mean: 0.021601, Grad Min: -0.220071, Grad Max: 0.000000\n",
      "Layer: encoder.conv2.weight, Grad Mean: 0.000032, Grad Min: -0.001670, Grad Max: 0.001475\n",
      "Layer: encoder.conv2.a, Grad Mean: 0.000003, Grad Min: 0.000000, Grad Max: 0.000010\n",
      "Layer: encoder.conv2.bias, Grad Mean: 0.005941, Grad Min: -0.016577, Grad Max: 0.012972\n",
      "Epoch: 1930, Loss: 0.0543\n",
      "Layer: encoder.conv1.weight, Grad Mean: 0.000265, Grad Min: 0.000000, Grad Max: 0.019224\n",
      "Layer: encoder.conv1.a, Grad Mean: 0.001364, Grad Min: 0.000000, Grad Max: 0.004092\n",
      "Layer: encoder.conv1.bias, Grad Mean: 0.034339, Grad Min: 0.000000, Grad Max: 0.387316\n",
      "Layer: encoder.conv2.weight, Grad Mean: 0.000055, Grad Min: -0.002936, Grad Max: 0.003679\n",
      "Layer: encoder.conv2.a, Grad Mean: 0.000004, Grad Min: 0.000000, Grad Max: 0.000012\n",
      "Layer: encoder.conv2.bias, Grad Mean: 0.002547, Grad Min: -0.009299, Grad Max: 0.007361\n",
      "Epoch: 1940, Loss: 0.0535\n",
      "Layer: encoder.conv1.weight, Grad Mean: 0.000032, Grad Min: -0.000001, Grad Max: 0.002059\n",
      "Layer: encoder.conv1.a, Grad Mean: 0.000061, Grad Min: 0.000000, Grad Max: 0.000184\n",
      "Layer: encoder.conv1.bias, Grad Mean: 0.001443, Grad Min: -0.000604, Grad Max: 0.022466\n",
      "Layer: encoder.conv2.weight, Grad Mean: 0.000009, Grad Min: -0.000388, Grad Max: 0.000449\n",
      "Layer: encoder.conv2.a, Grad Mean: 0.000002, Grad Min: 0.000000, Grad Max: 0.000007\n",
      "Layer: encoder.conv2.bias, Grad Mean: 0.004613, Grad Min: -0.013790, Grad Max: 0.010885\n",
      "Epoch: 1950, Loss: 0.0535\n",
      "Layer: encoder.conv1.weight, Grad Mean: 0.000232, Grad Min: 0.000000, Grad Max: 0.018845\n",
      "Layer: encoder.conv1.a, Grad Mean: 0.001271, Grad Min: 0.000000, Grad Max: 0.003813\n",
      "Layer: encoder.conv1.bias, Grad Mean: 0.030454, Grad Min: 0.000000, Grad Max: 0.323568\n",
      "Layer: encoder.conv2.weight, Grad Mean: 0.000048, Grad Min: -0.002398, Grad Max: 0.003275\n",
      "Layer: encoder.conv2.a, Grad Mean: 0.000001, Grad Min: 0.000000, Grad Max: 0.000004\n",
      "Layer: encoder.conv2.bias, Grad Mean: 0.002883, Grad Min: -0.010531, Grad Max: 0.008057\n",
      "Epoch: 1960, Loss: 0.0531\n",
      "Layer: encoder.conv1.weight, Grad Mean: 0.000128, Grad Min: 0.000000, Grad Max: 0.012104\n",
      "Layer: encoder.conv1.a, Grad Mean: 0.000754, Grad Min: 0.000000, Grad Max: 0.002261\n",
      "Layer: encoder.conv1.bias, Grad Mean: 0.017377, Grad Min: 0.000000, Grad Max: 0.192689\n",
      "Layer: encoder.conv2.weight, Grad Mean: 0.000038, Grad Min: -0.001415, Grad Max: 0.002800\n",
      "Layer: encoder.conv2.a, Grad Mean: 0.000001, Grad Min: 0.000000, Grad Max: 0.000002\n",
      "Layer: encoder.conv2.bias, Grad Mean: 0.003536, Grad Min: -0.011185, Grad Max: 0.009091\n",
      "Epoch: 1970, Loss: 0.0531\n",
      "Layer: encoder.conv1.weight, Grad Mean: 0.000065, Grad Min: 0.000000, Grad Max: 0.004826\n",
      "Layer: encoder.conv1.a, Grad Mean: 0.000194, Grad Min: 0.000000, Grad Max: 0.000582\n",
      "Layer: encoder.conv1.bias, Grad Mean: 0.004691, Grad Min: 0.000000, Grad Max: 0.045571\n",
      "Layer: encoder.conv2.weight, Grad Mean: 0.000013, Grad Min: -0.000519, Grad Max: 0.000707\n",
      "Layer: encoder.conv2.a, Grad Mean: 0.000003, Grad Min: 0.000000, Grad Max: 0.000009\n",
      "Layer: encoder.conv2.bias, Grad Mean: 0.004373, Grad Min: -0.013278, Grad Max: 0.010523\n",
      "Epoch: 1980, Loss: 0.0525\n",
      "Layer: encoder.conv1.weight, Grad Mean: 0.000104, Grad Min: -0.005984, Grad Max: 0.000000\n",
      "Layer: encoder.conv1.a, Grad Mean: 0.000679, Grad Min: -0.002038, Grad Max: 0.000000\n",
      "Layer: encoder.conv1.bias, Grad Mean: 0.017185, Grad Min: -0.159097, Grad Max: 0.000000\n",
      "Layer: encoder.conv2.weight, Grad Mean: 0.000026, Grad Min: -0.001543, Grad Max: 0.001069\n",
      "Layer: encoder.conv2.a, Grad Mean: 0.000002, Grad Min: 0.000000, Grad Max: 0.000006\n",
      "Layer: encoder.conv2.bias, Grad Mean: 0.005626, Grad Min: -0.015424, Grad Max: 0.012534\n",
      "Epoch: 1990, Loss: 0.0525\n",
      "Layer: encoder.conv1.weight, Grad Mean: 0.000084, Grad Min: -0.005245, Grad Max: 0.000000\n",
      "Layer: encoder.conv1.a, Grad Mean: 0.000556, Grad Min: -0.001667, Grad Max: 0.000000\n",
      "Layer: encoder.conv1.bias, Grad Mean: 0.014005, Grad Min: -0.128658, Grad Max: 0.000000\n",
      "Layer: encoder.conv2.weight, Grad Mean: 0.000023, Grad Min: -0.001030, Grad Max: 0.001192\n",
      "Layer: encoder.conv2.a, Grad Mean: 0.000003, Grad Min: 0.000000, Grad Max: 0.000009\n",
      "Layer: encoder.conv2.bias, Grad Mean: 0.005350, Grad Min: -0.015457, Grad Max: 0.012235\n",
      "Epoch: 2000, Loss: 0.0524\n",
      "Layer: encoder.conv1.weight, Grad Mean: 0.000037, Grad Min: -0.002289, Grad Max: 0.000000\n",
      "Layer: encoder.conv1.a, Grad Mean: 0.000270, Grad Min: -0.000811, Grad Max: 0.000000\n",
      "Layer: encoder.conv1.bias, Grad Mean: 0.007021, Grad Min: -0.063771, Grad Max: 0.000000\n",
      "Layer: encoder.conv2.weight, Grad Mean: 0.000022, Grad Min: -0.001230, Grad Max: 0.000772\n",
      "Layer: encoder.conv2.a, Grad Mean: 0.000001, Grad Min: 0.000000, Grad Max: 0.000004\n",
      "Layer: encoder.conv2.bias, Grad Mean: 0.004966, Grad Min: -0.013771, Grad Max: 0.011523\n"
     ]
    }
   ],
   "source": [
    "import torch.optim as optim\n",
    "device = torch.device('cuda' if torch.cuda.is_available() else 'cpu')\n",
    "data = data.to(device)\n",
    "\n",
    "# 定义编码器\n",
    "embedding_dim = 16  # 嵌入维度\n",
    "K = 3  # 示例的图卷积层数\n",
    "\n",
    "\n",
    "encoder = CEGCN(\n",
    "    num_features=data.num_node_features, \n",
    "    hidden_channels=16, \n",
    "    embedding_dim=embedding_dim,\n",
    "    K=K,\n",
    "    cos_list=cos_list,\n",
    "    sin_list=sin_list\n",
    ").to(device)\n",
    "\n",
    "# 定义解码器\n",
    "decoder = Decoder(embedding_dim=embedding_dim).to(device)\n",
    "\n",
    "# 定义自编码器模型\n",
    "autoencoder = Autoencoder(encoder, decoder).to(device)\n",
    "\n",
    "# 定义优化器\n",
    "optimizer = optim.Adam(autoencoder.parameters(), lr=1e-4, weight_decay=5e-4)\n",
    "\n",
    "# 初始化社区中心\n",
    "num_clusters = 3  # 假设有 3 个社区\n",
    "centroids = torch.rand(num_clusters, embedding_dim, requires_grad=True, device=device)\n",
    "\n",
    "# 训练模型\n",
    "num_epochs = 2000\n",
    "print_every = 10\n",
    "\n",
    "#总损失为 重构损失 + 聚类损失，通过 alpha 参数平衡两者的重要性。默认值为 0.1。如果重构邻接矩阵更重要，可以减小；如果社区聚类更重要，可以增大。\n",
    "for epoch in range(1, num_epochs + 1):\n",
    "    loss = train(autoencoder, data, optimizer, centroids, alpha=0.1)\n",
    "    \n",
    "    if epoch % print_every == 0:\n",
    "        print(f'Epoch: {epoch:03d}, Loss: {loss:.4f}')\n",
    "        \n",
    "        # 打印梯度信息（可选）\n",
    "        for name, param in autoencoder.named_parameters():\n",
    "            if param.grad is not None:\n",
    "                grad_mean = param.grad.abs().mean().item()\n",
    "                grad_min = param.grad.min().item()\n",
    "                grad_max = param.grad.max().item()\n",
    "                print(f\"Layer: {name}, Grad Mean: {grad_mean:.6f}, Grad Min: {grad_min:.6f}, Grad Max: {grad_max:.6f}\")\n",
    "\n",
    "# 获取最终节点嵌入\n",
    "autoencoder.eval()\n",
    "with torch.no_grad():\n",
    "    adj_reconstructed, embeddings = autoencoder(data.edge_index, data.edge_attr, data.x)"
   ]
  },
  {
   "cell_type": "code",
   "execution_count": 120,
   "metadata": {},
   "outputs": [
    {
     "data": {
      "image/png": "[encoded data removed]",
      "text/plain": [
       "<Figure size 640x480 with 1 Axes>"
      ]
     },
     "metadata": {},
     "output_type": "display_data"
    }
   ],
   "source": [
    "from sklearn.manifold import TSNE\n",
    "import matplotlib.pyplot as plt\n",
    "\n",
    "# 假设 embeddings 是训练后的节点嵌入\n",
    "embeddings = embeddings.cpu().numpy()\n",
    "\n",
    "# 使用 t-SNE 降维\n",
    "tsne = TSNE(n_components=2, random_state=42)\n",
    "embeddings_2d = tsne.fit_transform(embeddings)\n",
    "\n",
    "# 可视化\n",
    "plt.scatter(embeddings_2d[:, 0], embeddings_2d[:, 1], s=5, c='blue', alpha=0.7)\n",
    "plt.title(\"Node Embeddings Visualization\")\n",
    "plt.xlabel(\"t-SNE Dim 1\")\n",
    "plt.ylabel(\"t-SNE Dim 2\")\n",
    "plt.show()\n"
   ]
  },
  {
   "cell_type": "code",
   "execution_count": 112,
   "metadata": {},
   "outputs": [],
   "source": [
    "from sklearn.cluster import KMeans\n",
    "\n",
    "kmeans = KMeans(n_clusters=num_clusters, random_state=42)\n",
    "predicted_labels = kmeans.fit_predict(embeddings)\n"
   ]
  },
  {
   "cell_type": "code",
   "execution_count": 122,
   "metadata": {},
   "outputs": [
    {
     "data": {
      "image/png": "[encoded data removed]",
      "text/plain": [
       "<Figure size 800x600 with 1 Axes>"
      ]
     },
     "metadata": {},
     "output_type": "display_data"
    },
    {
     "name": "stdout",
     "output_type": "stream",
     "text": [
      "Community detection results saved to community_detection_results_a1.csv\n"
     ]
    }
   ],
   "source": [
    "import torch\n",
    "import pandas as pd\n",
    "from sklearn.cluster import KMeans\n",
    "from sklearn.manifold import TSNE\n",
    "\n",
    "# 假设数据和模型已经训练完成，以下是提取社区划分的完整流程\n",
    "\n",
    "# 1. 获取节点嵌入\n",
    "autoencoder.eval()\n",
    "with torch.no_grad():\n",
    "    _, embeddings = autoencoder(data.edge_index, data.edge_attr, data.x)\n",
    "\n",
    "# 2. 使用 K-Means 进行社区划分\n",
    "num_clusters = 10  # 社区数量\n",
    "kmeans = KMeans(n_clusters=num_clusters, random_state=42)\n",
    "predicted_labels = kmeans.fit_predict(embeddings.cpu().numpy())\n",
    "\n",
    "# 3. 降维可视化（可选，便于验证社区分布）\n",
    "tsne = TSNE(n_components=2, random_state=42)\n",
    "embeddings_2d = tsne.fit_transform(embeddings.cpu().numpy())\n",
    "\n",
    "# 可视化社区划分结果（根据降维后的坐标）\n",
    "import matplotlib.pyplot as plt\n",
    "\n",
    "plt.figure(figsize=(8, 6))\n",
    "for cluster_id in range(num_clusters):\n",
    "    cluster_points = embeddings_2d[predicted_labels == cluster_id]\n",
    "    plt.scatter(cluster_points[:, 0], cluster_points[:, 1], label=f\"Community {cluster_id}\", s=5)\n",
    "\n",
    "plt.title(\"Community Detection Visualization\")\n",
    "plt.xlabel(\"t-SNE Dimension 1\")\n",
    "plt.ylabel(\"t-SNE Dimension 2\")\n",
    "plt.show()\n",
    "\n",
    "# 4. 将社区划分结果保存为 CSV\n",
    "# 创建 DataFrame 包含节点 ID 和社区编号\n",
    "node_ids = torch.arange(data.num_nodes).cpu().numpy()\n",
    "df = pd.DataFrame({\n",
    "    'node_id': node_ids,\n",
    "    'community': predicted_labels\n",
    "})\n",
    "df['node_feature'] = data.x.cpu().numpy()[:, 0]  # 取第一个特征\n",
    "\n",
    "# 保存为 CSV 文件\n",
    "output_file = \"community_detection_results_a1.csv\"\n",
    "df.to_csv(output_file, index=False)\n",
    "print(f\"Community detection results saved to {output_file}\")\n"
   ]
  },
  {
   "cell_type": "code",
   "execution_count": 126,
   "metadata": {},
   "outputs": [
    {
     "name": "stderr",
     "output_type": "stream",
     "text": [
      "/opt/anaconda3/envs/mod_det/lib/python3.11/site-packages/umap/umap_.py:1952: UserWarning:\n",
      "\n",
      "n_jobs value 1 overridden to 1 by setting random_state. Use no seed for parallelism.\n",
      "\n"
     ]
    },
    {
     "data": {
      "image/png": "[encoded data removed]",
      "text/plain": [
       "<Figure size 800x600 with 1 Axes>"
      ]
     },
     "metadata": {},
     "output_type": "display_data"
    },
    {
     "name": "stdout",
     "output_type": "stream",
     "text": [
      "Community detection results saved to community_detection_results.csv\n"
     ]
    }
   ],
   "source": [
    "import torch\n",
    "import pandas as pd\n",
    "from sklearn.cluster import KMeans\n",
    "import umap\n",
    "import matplotlib.pyplot as plt\n",
    "\n",
    "# 假设数据和模型已经训练完成，以下是提取社区划分的完整流程\n",
    "# 1. 获取节点嵌入\n",
    "autoencoder.eval()\n",
    "with torch.no_grad():\n",
    "    _, embeddings = autoencoder(data.edge_index, data.edge_attr, data.x)\n",
    "\n",
    "# 2. 使用 UMAP 进行降维\n",
    "umap_model = umap.UMAP(n_components=3, random_state=42,n_neighbors=4)\n",
    "embeddings_2d = umap_model.fit_transform(embeddings.cpu().numpy())\n",
    "\n",
    "\n",
    "# 3. 使用 K-Means 进行社区划分（在降维后的数据上进行聚类）\n",
    "num_clusters = 5  # 假设有 3 个社区\n",
    "kmeans = KMeans(n_clusters=num_clusters, random_state=42)\n",
    "predicted_labels = kmeans.fit_predict(embeddings_2d)\n",
    "\n",
    "# 4. 可视化社区划分结果（基于降维后的坐标）\n",
    "plt.figure(figsize=(8, 6))\n",
    "for cluster_id in range(num_clusters):\n",
    "    cluster_points = embeddings_2d[predicted_labels == cluster_id]\n",
    "    plt.scatter(cluster_points[:, 0], cluster_points[:, 1], label=f\"Community {cluster_id}\", s=5)\n",
    "plt.legend()\n",
    "plt.title(\"Community Detection Visualization (UMAP + K-Means)\")\n",
    "plt.xlabel(\"UMAP Dimension 1\")\n",
    "plt.ylabel(\"UMAP Dimension 2\")\n",
    "plt.show()\n",
    "\n",
    "# 5. 将社区划分结果保存为 CSV\n",
    "# 创建 DataFrame 包含节点 ID 和社区编号\n",
    "node_ids = torch.arange(data.num_nodes).cpu().numpy()\n",
    "df = pd.DataFrame({\n",
    "    'node_id': node_ids,\n",
    "    'community': predicted_labels\n",
    "})\n",
    "df['node_feature'] = data.x.cpu().numpy()[:, 0]  # 假设取第一个特征\n",
    "\n",
    "# 保存为 CSV 文件\n",
    "output_file = \"community_detection_results.csv\"\n",
    "df.to_csv(output_file, index=False)\n",
    "print(f\"Community detection results saved to {output_file}\")"
   ]
  },
  {
   "cell_type": "code",
   "execution_count": 102,
   "metadata": {},
   "outputs": [
    {
     "name": "stderr",
     "output_type": "stream",
     "text": [
      "/opt/anaconda3/envs/mod_det/lib/python3.11/site-packages/IPython/core/pylabtools.py:170: UserWarning:\n",
      "\n",
      "Glyph 32500 (\\N{CJK UNIFIED IDEOGRAPH-7EF4}) missing from font(s) DejaVu Sans.\n",
      "\n",
      "/opt/anaconda3/envs/mod_det/lib/python3.11/site-packages/IPython/core/pylabtools.py:170: UserWarning:\n",
      "\n",
      "Glyph 24230 (\\N{CJK UNIFIED IDEOGRAPH-5EA6}) missing from font(s) DejaVu Sans.\n",
      "\n",
      "/opt/anaconda3/envs/mod_det/lib/python3.11/site-packages/IPython/core/pylabtools.py:170: UserWarning:\n",
      "\n",
      "Glyph 31038 (\\N{CJK UNIFIED IDEOGRAPH-793E}) missing from font(s) DejaVu Sans.\n",
      "\n",
      "/opt/anaconda3/envs/mod_det/lib/python3.11/site-packages/IPython/core/pylabtools.py:170: UserWarning:\n",
      "\n",
      "Glyph 21306 (\\N{CJK UNIFIED IDEOGRAPH-533A}) missing from font(s) DejaVu Sans.\n",
      "\n",
      "/opt/anaconda3/envs/mod_det/lib/python3.11/site-packages/IPython/core/pylabtools.py:170: UserWarning:\n",
      "\n",
      "Glyph 21010 (\\N{CJK UNIFIED IDEOGRAPH-5212}) missing from font(s) DejaVu Sans.\n",
      "\n",
      "/opt/anaconda3/envs/mod_det/lib/python3.11/site-packages/IPython/core/pylabtools.py:170: UserWarning:\n",
      "\n",
      "Glyph 20998 (\\N{CJK UNIFIED IDEOGRAPH-5206}) missing from font(s) DejaVu Sans.\n",
      "\n",
      "/opt/anaconda3/envs/mod_det/lib/python3.11/site-packages/IPython/core/pylabtools.py:170: UserWarning:\n",
      "\n",
      "Glyph 21487 (\\N{CJK UNIFIED IDEOGRAPH-53EF}) missing from font(s) DejaVu Sans.\n",
      "\n",
      "/opt/anaconda3/envs/mod_det/lib/python3.11/site-packages/IPython/core/pylabtools.py:170: UserWarning:\n",
      "\n",
      "Glyph 35270 (\\N{CJK UNIFIED IDEOGRAPH-89C6}) missing from font(s) DejaVu Sans.\n",
      "\n",
      "/opt/anaconda3/envs/mod_det/lib/python3.11/site-packages/IPython/core/pylabtools.py:170: UserWarning:\n",
      "\n",
      "Glyph 21270 (\\N{CJK UNIFIED IDEOGRAPH-5316}) missing from font(s) DejaVu Sans.\n",
      "\n"
     ]
    },
    {
     "data": {
      "image/png": "[encoded data removed]",
      "text/plain": [
       "<Figure size 1000x800 with 1 Axes>"
      ]
     },
     "metadata": {},
     "output_type": "display_data"
    }
   ],
   "source": [
    "fig = plt.figure(figsize=(10, 8))\n",
    "ax = fig.add_subplot(111, projection='3d')\n",
    "for cluster_id in range(num_clusters):\n",
    "    cluster_points = embeddings_2d[predicted_labels == cluster_id]\n",
    "    ax.scatter(cluster_points[:, 0], cluster_points[:, 1], cluster_points[:, 2],\n",
    "               label=f\"Community {cluster_id}\", s=5)\n",
    "ax.set_title(\"社区划分可视化 (UMAP + K-Means) - 3D\")\n",
    "ax.set_xlabel(\"UMAP 维度 1\")\n",
    "ax.set_ylabel(\"UMAP 维度 2\")\n",
    "ax.set_zlabel(\"UMAP 维度 3\")\n",
    "ax.legend()\n",
    "plt.show()\n",
    "\n"
   ]
  },
  {
   "cell_type": "code",
   "execution_count": 103,
   "metadata": {},
   "outputs": [
    {
     "data": {
      "application/vnd.plotly.v1+json": {
       "config": {
        "plotlyServerURL": "https://plot.ly"
       },
       "data": [
        {
         "hovertemplate": "Community=4<br>UMAP 维度 1=%{x}<br>UMAP 维度 2=%{y}<br>UMAP 维度 3=%{z}<extra></extra>",
         "legendgroup": "4",
         "marker": {
          "color": "#636efa",
          "size": 3,
          "symbol": "circle"
         },
         "mode": "markers",
         "name": "4",
         "scene": "scene",
         "showlegend": true,
         "type": "scatter3d",
         "x": {
          "bdata": "w892QVvLkUGf2CtBIbeMQUPUMEHFh5NBX8x3QXiQc0H8I4RBiPWCQbDeK0ElpXFB7KyQQXpji0FqKYNBfPowQaw/g0FjwHBBnGctQbPuj0GewXdBkBF0QYnQgkHb2pFBSvqKQcKacEFjHY1Bt1srQW1VcEH09itBzV2DQf0IMEEp03FBjxORQd8bi0G0TIJBErWKQc6skkE8NpNBZ3yTQa+PMEFNoJBBcv6LQWbadEHS8ytBq5Z0QU/ZK0Fu8nZBv9l2QasFcUENtoBBbXyAQUr0cEGuJytBtpmSQUx1cUHwsHRBEtQwQS4WcUHUnHBBM1SCQchAckFh6H5Bk71xQc7udUF8UZNBXrmKQeJLK0EVyy9B3UkvQQLYjEEkJIBBHu1wQauaL0FhepNBZckwQQ==",
          "dtype": "f4"
         },
         "y": {
          "bdata": "y6lfQFUFhUA4GKlAkBCVQPt6s0BUFX1ABGlmQBa9MkB045lA9CyYQAUrqUCf8xZAywSJQF1zmUBbvphAtb6zQFZGmUBn6M8/4EusQLJXi0DR92VAbtY3QBWwl0AizoRAK3yZQCNw3D8DgZNAYh2oQOCq1T9FZqlAHUaZQPjvsUAnkxlAxYaHQGDlmEA10ZVAoiiZQN/WgUDQk39Aj359QMf3skDFE4lAWeSXQCHbPkC3TKlALGU7QGUbqUBRD2FAGgBeQPxqzz9tH49AfT2OQGR8FEDFtadAXh+CQOk5yz9Uyz1AZn2zQCboDkCUF9I/S+CVQLtgIkCU3ohAIf8ZQPE6V0CX6n5A3QOZQP78p0B/dLFAwGiwQP3LlECvpYxA6kfSP1wNsUDUiH1Ax2WzQA==",
          "dtype": "f4"
         },
         "z": {
          "bdata": "MF3xQPOVx0CbFodBmeTcQJSXgUE/hsBA+SDyQOUD70B8P/BAdRrzQB8Dh0F+7utAQB/MQCLr4UCMn/JAK2iBQeMM8kA/relA5vGFQe40z0BvFfJA7eHvQHQZ80AVWMdAvTDjQICF6UCbLttARliHQY7v6EBau4ZBWDjyQDu5gkEXS+xAaITKQLKs4kB4PPRA3rDjQCf+w0A40sFAp7nAQDT/gUFEWMxA5frfQKv68EBWEIdBEcPwQPUMh0G+iPFAkZHxQOlL6kCecPVA96P1QGuR6kATbodB4E3EQH8i60AxwvBAG7mBQTnT6kBgdulAaiP0QMfy7EAnf/VA7BTsQMyx8EBWY8FAmZLjQIlgh0EQBINBRnmDQQ1z3ECpvvVAzyjqQJg0g0F7vsBAtKqBQQ==",
          "dtype": "f4"
         }
        },
        {
         "hovertemplate": "Community=1<br>UMAP 维度 1=%{x}<br>UMAP 维度 2=%{y}<br>UMAP 维度 3=%{z}<extra></extra>",
         "legendgroup": "1",
         "marker": {
          "color": "#EF553B",
          "size": 3,
          "symbol": "circle"
         },
         "mode": "markers",
         "name": "1",
         "scene": "scene",
         "showlegend": true,
         "type": "scatter3d",
         "x": {
          "bdata": "x4mjP8rqccDoMPA/81v6vko7Qj+vllLAR1UnwCx1IL+Y+0XAgVVVP9UiUsCzKS7AZq0TwM06mz84gsU/r4gTwDMFej9w8RvAcyo5wKmNkcAtHRHA8dVMv9K+XMAiLHXAK1KHwEq+AcDEUhXA1Kpdv3/HisClFzPAvPV1wOjWeMDtb43AHDltv+eZ4T/TSWPAu88ewAREdcBgEtM/0d5zP+Rlh8CZZZPAqDF1P7ukqz9/1U3AMWp0wNKMe7+FOXvAeP5zwL7VfMD9D2bAtm0EwMqlZsASICPAbiY1v8tiE8Bh3VjAfdVRwNe7DMB+MWHA6luKwGUlHMB8Ph3AvjnVPjQEEr9X8Cy/nCwUwHvoXb93vTbAyGmDwLJjHsCQ3I0/UVeLPzf+7z/vA2DAz053wIrId7/9bTvANqYJwLBegj9i2B3ARb+oPzaRHsBYvHrAMEphwNvP6D85ZD+/sxMNwGWxtD9gL+o/ZbtgwBqIk8C3Ql3AEr/tP35j77+WZ1m/4aiSwG7vmb1nv7M/UwMbwAliecCvs3Q/DYcdwJfoHsADDzzAdss6wH+TT7805Jk/fyKIP3Y0qj9M+XjA1JJ1wBfmS7/LvlO/vE+iP9zUF8A+ue8/FvBowHl+E8ArbR/AcdpZPyN9qz7ofXzAbtRMPxcZisALEmjAbpBpwHISsj+GLHPA+8HDP7N1GMCERnzA5woLwF4gk8BETyTAJ5wYwDiqM8Ar6jjAoAhzwG+lkT9MGQS/BVNXwFJ0aD+94te+otJZvyrbfcCk63jAUIAdwMmAbMDccYfA",
          "dtype": "f4"
         },
         "y": {
          "bdata": "D1BpQZAOOkFNZ2hBiCphQerpaEEcHE9BahZRQVTUYEHEsFFB50dpQbpGTkHmLgJBDJgRQXYpZEHf22VBFwkSQajtaUEHKwBBwA1UQSGJPkE0xAJB4zRgQSegTEHtRDJBBpY2QRcNVEG4kgBB395hQUibOUErfU9BllIfQYHrPEEbRjxBz3leQb8TaUH1phBBkOYCQS2jMkEInWhB3ZZiQbuWNkFfrD9BOv5iQUMiZEH7vE9BkEAxQa56YEGp2iRB7pEwQYwFJkFTVz9BavxTQbfREkG+2wFBlQxhQXGCEkGGYU1BL+YMQb7KA0E/oBBBeJs6QYqE9UBLQQJBiEBgQWylYEF2iWNBJYkPQUYaYkGdaVNBxi0zQQK++UBWBmlBNJdjQatqZkELqEtBYMggQWDvX0Gu8lJB8EYDQRblaUH8jQBBSsNjQTdF90Cc1zxBZ/dLQfCNZ0F9fmBBP4cEQbPXaEFE3WhBYIYQQU+nP0HtnhFBTUtnQXiwVUE3c2FBxlw/QQNOYUFuCWdBJBD1QNtyL0FIlmJBHEoEQZxa90DR01NBTHdNQV+gYEHEsWVBbydpQfHVaEGSriFBG4oxQfatYkFBUGBBGytmQYmxAEF7rmhBiCcSQVohEkED2PpAfzhiQUtTYUHfNSVBUGxpQcuGOUGvWRRBhXAVQXCeY0HsST5B05ZpQWX0BEHtRjxBlisDQV1pP0FgxPpA4DQFQTr/UkHJjFRBggYwQSVqaEE7cGJBVTVNQTDaaUFlKGFBKT9hQfQkJkGs3yJBm2MFQXzgF0H3PTdB",
          "dtype": "f4"
         },
         "z": {
          "bdata": "rhHAQHOdoEBqVMNAGH/KQJ44w0DomKVABvWwQKfhzkBxD6lAq+LDQHUdpkCPlMRAzEfcQNUu1UDWos5AYFzcQJJSw0A6LtFA9N+sQH3rjkAWNtpARYTLQMMCo0Bp/qFATHyXQNFAuUDGitdA8o/EQNNxlEA4Jq5AFCqkQMr2nEA23pFAPazKQP5KxED/YatAfEXSQDSEoUA1JMFAO9PYQJtrl0CXNI1AerrXQLAh1UAAEadADMaiQFHDwUCQjKFASVmjQOm7oEAL7aJA7ZC4QPsPqkC2vs1ArwvMQG4o3ECwZKRAw32zQJvl3EDXSaxATU6UQGirxEC6RNNAX2vZQNIKz0BxWsVAktfbQMKSwkAo8a1APRubQA/Hx0DtfMZA+1zWQECZxkADlqJAH4yjQOIBxkBKoqxA5QTdQI9aw0DzKtBA89XVQF/FxEC2ZpxAeuahQEyWxkCYMsZArTPdQM/gyEDGTsNAd22sQFASjUBcba5AyxnEQMaxu0DjR8VABOONQCZG0kCghs5ArvLCQAYEoUCI1dhAqp/UQFfPxEDmo6tAMIKsQHlFykD5vdFAkPLFQLm0yEApvaJAzjKiQHGdxECvQcpA96HQQAV41kB7+sJAeNeoQOZ73EAFYchAUu3YQJAA10Ba+qBAB8fCQNTllECavKlAHCupQP4H1kADBZ9Ak1/HQLpN10CZtZtAC7fdQMd6jUClE8VAkHXXQMxTr0AV2qxAqeWjQMF9yEAehMpAAwGlQPTlwkBXjc9Am0bHQKQ/oEBQ06JAIxXVQEAWqECWRZdA",
          "dtype": "f4"
         }
        },
        {
         "hovertemplate": "Community=2<br>UMAP 维度 1=%{x}<br>UMAP 维度 2=%{y}<br>UMAP 维度 3=%{z}<extra></extra>",
         "legendgroup": "2",
         "marker": {
          "color": "#00cc96",
          "size": 3,
          "symbol": "circle"
         },
         "mode": "markers",
         "name": "2",
         "scene": "scene",
         "showlegend": true,
         "type": "scatter3d",
         "x": {
          "bdata": "fY07QVa9PkHMbUhBPCBHQWEHPkHdnRdBHf5FQfQBRUHdkN1AdhXgQLGr30D6sEdBXizXQBLpF0FNCNFA3pjXQNr1OkE4wBVBJfTDQGuB00C8/89ABdTQQCQBGEHV2RdBUFTXQCw2Q0FrLcRAHPo9QVzrxEAPj99AWT4VQfULSEGguj1BZOo7QWoe0EA08j1BiwsYQQTARUFT4sNAuELbQH4fO0EuURdBBtUVQdQPO0Gi5UZB6OXbQD7/FEEWAD5BUCU+QUqPREGnbxVBhvjDQNqa30A=",
          "dtype": "f4"
         },
         "y": {
          "bdata": "pXW1v9AKmb/L8FC/nmVlvwFXnL84eg7BlsV1v6m5gr/+1aPAItGhwIeGocCdk1y/PnKmwL/FDsHCbajAO02mwH59ur+LmgzBiQWswN6xp8BxTqnAc4CowMPdDsHHtg7BeGWmwDCcib+QzavA66acvzcRq8B0KaLA4BcMweXNVr/kip6/br6yvwGwqMDQzJy/R+gOwRT2eb8C/qvANKakwNgoub9iLQ7BzK8MwUS3ub/Q4Wi/S2GmwETXC8EIiZy/opybvxnig78eSgzByv+rwJMhosA=",
          "dtype": "f4"
         },
         "z": {
          "bdata": "ESsyvn7wcL+G9P+/tRz0v+0aWL8Lo7NApxDovz0D4L+BQ5JAEUmPQHS6j0BgR/m/6nSbQEsUs0BsT6NAce+aQNUR6r3lHbdAD4m5QGIboEDQVaRAKpKjQNjhskAXNbNAjFebQFtUx7/hFblAiiFXv1leuEAVI5BAlA+4QM5a/L/gkUm/dPE7viqxpEBrj1W/5dCyQLEL5r85mLlAJa6VQNp2BL4+MbRA5fy2QFzV8715f/G/ZTmUQEdauECBEli/FW9cv9DG2L8BurdAAJK5QA3uj0A=",
          "dtype": "f4"
         }
        },
        {
         "hovertemplate": "Community=3<br>UMAP 维度 1=%{x}<br>UMAP 维度 2=%{y}<br>UMAP 维度 3=%{z}<extra></extra>",
         "legendgroup": "3",
         "marker": {
          "color": "#ab63fa",
          "size": 3,
          "symbol": "circle"
         },
         "mode": "markers",
         "name": "3",
         "scene": "scene",
         "showlegend": true,
         "type": "scatter3d",
         "x": {
          "bdata": "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",
          "dtype": "f4"
         },
         "y": {
          "bdata": "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",
          "dtype": "f4"
         },
         "z": {
          "bdata": "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",
          "dtype": "f4"
         }
        },
        {
         "hovertemplate": "Community=0<br>UMAP 维度 1=%{x}<br>UMAP 维度 2=%{y}<br>UMAP 维度 3=%{z}<extra></extra>",
         "legendgroup": "0",
         "marker": {
          "color": "#FFA15A",
          "size": 3,
          "symbol": "circle"
         },
         "mode": "markers",
         "name": "0",
         "scene": "scene",
         "showlegend": true,
         "type": "scatter3d",
         "x": {
          "bdata": "gBiXP/prmECj1Jw/HQZUwGKcLkDFR4JAFtlWwIUrsT9sU+2/k9X+v2pOJUAEgKk/IhyHvLtgekA0J2BAnL7yv/scK0CD5qRAgz1lQLtYUUB6fDhAZj0/QCIpl0BDOxw9o5xdQJzkYUAtBo1A3NAfQC4bQUBeeEnA5zRoQKEEZ0AU8V9AojzAP9sFWUCkdDFAVl5UQAegIkBJHrM+hPsfP5UJlUAaT4g/3vdoQDwLS8BfwFxABxlAQCk7GkBNe70/T6ahPlNBnkCHMFPAEZuDvp5TV8AmRRtA81iXQBCETUAevUBAHblLQEcL8L02FkVAOKaNQPM+JUBwjGBALrhBQNH8h0CCglTAXwpEPmb3aUANHShAlt/mv5hlgkDQ6WBAdur/vY7hWEAX81DABIBTwKneZUDH3J4+bJ6lQNoTSsAqKUjADntmQOiL+b8L6HBAWK6ZP8iy6b/p3ME/LZNqP2jaekBuXCdADGohP3DOR8AGruO/R+BBQIvLH0BIEFXAyCRhQN/WjUBX20NA3kjlv2ANWMC12xxA3OtyQGELnz9Ki1LAS+AqQKSA77+3i2VA34tVwIuDVsDu91LAdUlCPg==",
          "dtype": "f4"
         },
         "y": {
          "bdata": "dMOwQHLKxkBtCrFAtnHfv8pNskBVdb9AKjepv1Ltr0DZDRW/+94pv6Zp1ECheK5AEne1QEJzx0CtfNFACvQev6LUr0D/ucpAt8mtQKWPqkAHs91AqIDiQIh6xECk0rRAl+XTQHOKwkCF/MFAqUCwQHwF5kDNaHq/MtmuQD1lzUDETq5A7cW5QE7C1kAuitpAb4PYQJI/y0CduLFA7O6wQNZDxEDJHLFAEOqxQPafgL8NPtVAYYXiQAhxs0BB2LlA2Q6yQNPYzkBQUtu/dzm6QFycq7/lf7BAAQzFQNTGqkCJLuFA3WWqQO6Gt0CMbudAR1XEQMBJ0kBzzK1ArjusQDFMxUBUT+O/bk6yQBgHvkCawNVAk4ALv5N+xECnP6xAsIq3QIctwECkWI+/b3bcv4SPyUAG/7FArB3KQGubfL8L9XS/2m6sQK+KK7/N8blAUaKxQFq1D7/I9rZANtSwQFcqv0DazrNAee+wQE55cr9VrwK/UbXgQN3PsEDeReO/jJ3DQBpNw0Bt6eRAjUgGv4lBrL9ePrJAkWy6QLnTsEDzHdy/VVvXQFWBGb83zK1AsQGlv5+Otb92XZm/Z22yQA==",
          "dtype": "f4"
         },
         "z": {
          "bdata": "wEvmQMivzUAaROZAJeWfQPDF3kBDQddAEEyVQOuo5EBEnjZA/t8/QKDB80DrZuRAJuPlQNDR3EDX5elA+Ew5QL7W3UAV5cRADgXSQM3c00B0+/RAybn1QNjFy0ATCOZA5+LrQITN4ED5hNJAbG7fQPEd+EAEq4ZAoRPSQHh35UBXzdNAkl/rQDfk7UBbtvRAe0nvQFwO70D/ludAQDLnQLV9zUBIxOZAaobUQH7vh0DiIe1AQQr2QMV44kCuuepAx13nQDXz00AS7J5AzurjQJoAlkD/++BAMgfMQJc31UAhePVAy1/VQKvA5EClbPlAgmzUQCep8kDlSdNAkgrYQDSX1UCuvKBABD7nQGB/3EA8EvRAa0UzQC7T2EC5XNJAT8XkQFQB4UAWWYxANDufQJNk5ECEgudA6snCQNUlh0C72IVAl5jQQLK8PECQQdhAhpjmQMa5NED3++hAM9XmQFFM2UBg+OBA6C7nQKxuhUAirjFAN1P0QNk24ECozKBAOcbhQFZC00BRyPZAq4EyQEwxlkAFk+FA0CjYQFTL5UAwFZ9AeFb0QB+mN0D73NFAOBqUQFAPmED5RpBAdjnnQA==",
          "dtype": "f4"
         }
        }
       ],
       "layout": {
        "legend": {
         "title": {
          "text": "Community"
         },
         "tracegroupgap": 0
        },
        "scene": {
         "domain": {
          "x": [
           0,
           1
          ],
          "y": [
           0,
           1
          ]
         },
         "xaxis": {
          "title": {
           "text": "UMAP 维度 1"
          }
         },
         "yaxis": {
          "title": {
           "text": "UMAP 维度 2"
          }
         },
         "zaxis": {
          "title": {
           "text": "UMAP 维度 3"
          }
         }
        },
        "template": {
         "data": {
          "bar": [
           {
            "error_x": {
             "color": "#2a3f5f"
            },
            "error_y": {
             "color": "#2a3f5f"
            },
            "marker": {
             "line": {
              "color": "#E5ECF6",
              "width": 0.5
             },
             "pattern": {
              "fillmode": "overlay",
              "size": 10,
              "solidity": 0.2
             }
            },
            "type": "bar"
           }
          ],
          "barpolar": [
           {
            "marker": {
             "line": {
              "color": "#E5ECF6",
              "width": 0.5
             },
             "pattern": {
              "fillmode": "overlay",
              "size": 10,
              "solidity": 0.2
             }
            },
            "type": "barpolar"
           }
          ],
          "carpet": [
           {
            "aaxis": {
             "endlinecolor": "#2a3f5f",
             "gridcolor": "white",
             "linecolor": "white",
             "minorgridcolor": "white",
             "startlinecolor": "#2a3f5f"
            },
            "baxis": {
             "endlinecolor": "#2a3f5f",
             "gridcolor": "white",
             "linecolor": "white",
             "minorgridcolor": "white",
             "startlinecolor": "#2a3f5f"
            },
            "type": "carpet"
           }
          ],
          "choropleth": [
           {
            "colorbar": {
             "outlinewidth": 0,
             "ticks": ""
            },
            "type": "choropleth"
           }
          ],
          "contour": [
           {
            "colorbar": {
             "outlinewidth": 0,
             "ticks": ""
            },
            "colorscale": [
             [
              0,
              "#0d0887"
             ],
             [
              0.1111111111111111,
              "#46039f"
             ],
             [
              0.2222222222222222,
              "#7201a8"
             ],
             [
              0.3333333333333333,
              "#9c179e"
             ],
             [
              0.4444444444444444,
              "#bd3786"
             ],
             [
              0.5555555555555556,
              "#d8576b"
             ],
             [
              0.6666666666666666,
              "#ed7953"
             ],
             [
              0.7777777777777778,
              "#fb9f3a"
             ],
             [
              0.8888888888888888,
              "#fdca26"
             ],
             [
              1,
              "#f0f921"
             ]
            ],
            "type": "contour"
           }
          ],
          "contourcarpet": [
           {
            "colorbar": {
             "outlinewidth": 0,
             "ticks": ""
            },
            "type": "contourcarpet"
           }
          ],
          "heatmap": [
           {
            "colorbar": {
             "outlinewidth": 0,
             "ticks": ""
            },
            "colorscale": [
             [
              0,
              "#0d0887"
             ],
             [
              0.1111111111111111,
              "#46039f"
             ],
             [
              0.2222222222222222,
              "#7201a8"
             ],
             [
              0.3333333333333333,
              "#9c179e"
             ],
             [
              0.4444444444444444,
              "#bd3786"
             ],
             [
              0.5555555555555556,
              "#d8576b"
             ],
             [
              0.6666666666666666,
              "#ed7953"
             ],
             [
              0.7777777777777778,
              "#fb9f3a"
             ],
             [
              0.8888888888888888,
              "#fdca26"
             ],
             [
              1,
              "#f0f921"
             ]
            ],
            "type": "heatmap"
           }
          ],
          "histogram": [
           {
            "marker": {
             "pattern": {
              "fillmode": "overlay",
              "size": 10,
              "solidity": 0.2
             }
            },
            "type": "histogram"
           }
          ],
          "histogram2d": [
           {
            "colorbar": {
             "outlinewidth": 0,
             "ticks": ""
            },
            "colorscale": [
             [
              0,
              "#0d0887"
             ],
             [
              0.1111111111111111,
              "#46039f"
             ],
             [
              0.2222222222222222,
              "#7201a8"
             ],
             [
              0.3333333333333333,
              "#9c179e"
             ],
             [
              0.4444444444444444,
              "#bd3786"
             ],
             [
              0.5555555555555556,
              "#d8576b"
             ],
             [
              0.6666666666666666,
              "#ed7953"
             ],
             [
              0.7777777777777778,
              "#fb9f3a"
             ],
             [
              0.8888888888888888,
              "#fdca26"
             ],
             [
              1,
              "#f0f921"
             ]
            ],
            "type": "histogram2d"
           }
          ],
          "histogram2dcontour": [
           {
            "colorbar": {
             "outlinewidth": 0,
             "ticks": ""
            },
            "colorscale": [
             [
              0,
              "#0d0887"
             ],
             [
              0.1111111111111111,
              "#46039f"
             ],
             [
              0.2222222222222222,
              "#7201a8"
             ],
             [
              0.3333333333333333,
              "#9c179e"
             ],
             [
              0.4444444444444444,
              "#bd3786"
             ],
             [
              0.5555555555555556,
              "#d8576b"
             ],
             [
              0.6666666666666666,
              "#ed7953"
             ],
             [
              0.7777777777777778,
              "#fb9f3a"
             ],
             [
              0.8888888888888888,
              "#fdca26"
             ],
             [
              1,
              "#f0f921"
             ]
            ],
            "type": "histogram2dcontour"
           }
          ],
          "mesh3d": [
           {
            "colorbar": {
             "outlinewidth": 0,
             "ticks": ""
            },
            "type": "mesh3d"
           }
          ],
          "parcoords": [
           {
            "line": {
             "colorbar": {
              "outlinewidth": 0,
              "ticks": ""
             }
            },
            "type": "parcoords"
           }
          ],
          "pie": [
           {
            "automargin": true,
            "type": "pie"
           }
          ],
          "scatter": [
           {
            "fillpattern": {
             "fillmode": "overlay",
             "size": 10,
             "solidity": 0.2
            },
            "type": "scatter"
           }
          ],
          "scatter3d": [
           {
            "line": {
             "colorbar": {
              "outlinewidth": 0,
              "ticks": ""
             }
            },
            "marker": {
             "colorbar": {
              "outlinewidth": 0,
              "ticks": ""
             }
            },
            "type": "scatter3d"
           }
          ],
          "scattercarpet": [
           {
            "marker": {
             "colorbar": {
              "outlinewidth": 0,
              "ticks": ""
             }
            },
            "type": "scattercarpet"
           }
          ],
          "scattergeo": [
           {
            "marker": {
             "colorbar": {
              "outlinewidth": 0,
              "ticks": ""
             }
            },
            "type": "scattergeo"
           }
          ],
          "scattergl": [
           {
            "marker": {
             "colorbar": {
              "outlinewidth": 0,
              "ticks": ""
             }
            },
            "type": "scattergl"
           }
          ],
          "scattermap": [
           {
            "marker": {
             "colorbar": {
              "outlinewidth": 0,
              "ticks": ""
             }
            },
            "type": "scattermap"
           }
          ],
          "scattermapbox": [
           {
            "marker": {
             "colorbar": {
              "outlinewidth": 0,
              "ticks": ""
             }
            },
            "type": "scattermapbox"
           }
          ],
          "scatterpolar": [
           {
            "marker": {
             "colorbar": {
              "outlinewidth": 0,
              "ticks": ""
             }
            },
            "type": "scatterpolar"
           }
          ],
          "scatterpolargl": [
           {
            "marker": {
             "colorbar": {
              "outlinewidth": 0,
              "ticks": ""
             }
            },
            "type": "scatterpolargl"
           }
          ],
          "scatterternary": [
           {
            "marker": {
             "colorbar": {
              "outlinewidth": 0,
              "ticks": ""
             }
            },
            "type": "scatterternary"
           }
          ],
          "surface": [
           {
            "colorbar": {
             "outlinewidth": 0,
             "ticks": ""
            },
            "colorscale": [
             [
              0,
              "#0d0887"
             ],
             [
              0.1111111111111111,
              "#46039f"
             ],
             [
              0.2222222222222222,
              "#7201a8"
             ],
             [
              0.3333333333333333,
              "#9c179e"
             ],
             [
              0.4444444444444444,
              "#bd3786"
             ],
             [
              0.5555555555555556,
              "#d8576b"
             ],
             [
              0.6666666666666666,
              "#ed7953"
             ],
             [
              0.7777777777777778,
              "#fb9f3a"
             ],
             [
              0.8888888888888888,
              "#fdca26"
             ],
             [
              1,
              "#f0f921"
             ]
            ],
            "type": "surface"
           }
          ],
          "table": [
           {
            "cells": {
             "fill": {
              "color": "#EBF0F8"
             },
             "line": {
              "color": "white"
             }
            },
            "header": {
             "fill": {
              "color": "#C8D4E3"
             },
             "line": {
              "color": "white"
             }
            },
            "type": "table"
           }
          ]
         },
         "layout": {
          "annotationdefaults": {
           "arrowcolor": "#2a3f5f",
           "arrowhead": 0,
           "arrowwidth": 1
          },
          "autotypenumbers": "strict",
          "coloraxis": {
           "colorbar": {
            "outlinewidth": 0,
            "ticks": ""
           }
          },
          "colorscale": {
           "diverging": [
            [
             0,
             "#8e0152"
            ],
            [
             0.1,
             "#c51b7d"
            ],
            [
             0.2,
             "#de77ae"
            ],
            [
             0.3,
             "#f1b6da"
            ],
            [
             0.4,
             "#fde0ef"
            ],
            [
             0.5,
             "#f7f7f7"
            ],
            [
             0.6,
             "#e6f5d0"
            ],
            [
             0.7,
             "#b8e186"
            ],
            [
             0.8,
             "#7fbc41"
            ],
            [
             0.9,
             "#4d9221"
            ],
            [
             1,
             "#276419"
            ]
           ],
           "sequential": [
            [
             0,
             "#0d0887"
            ],
            [
             0.1111111111111111,
             "#46039f"
            ],
            [
             0.2222222222222222,
             "#7201a8"
            ],
            [
             0.3333333333333333,
             "#9c179e"
            ],
            [
             0.4444444444444444,
             "#bd3786"
            ],
            [
             0.5555555555555556,
             "#d8576b"
            ],
            [
             0.6666666666666666,
             "#ed7953"
            ],
            [
             0.7777777777777778,
             "#fb9f3a"
            ],
            [
             0.8888888888888888,
             "#fdca26"
            ],
            [
             1,
             "#f0f921"
            ]
           ],
           "sequentialminus": [
            [
             0,
             "#0d0887"
            ],
            [
             0.1111111111111111,
             "#46039f"
            ],
            [
             0.2222222222222222,
             "#7201a8"
            ],
            [
             0.3333333333333333,
             "#9c179e"
            ],
            [
             0.4444444444444444,
             "#bd3786"
            ],
            [
             0.5555555555555556,
             "#d8576b"
            ],
            [
             0.6666666666666666,
             "#ed7953"
            ],
            [
             0.7777777777777778,
             "#fb9f3a"
            ],
            [
             0.8888888888888888,
             "#fdca26"
            ],
            [
             1,
             "#f0f921"
            ]
           ]
          },
          "colorway": [
           "#636efa",
           "#EF553B",
           "#00cc96",
           "#ab63fa",
           "#FFA15A",
           "#19d3f3",
           "#FF6692",
           "#B6E880",
           "#FF97FF",
           "#FECB52"
          ],
          "font": {
           "color": "#2a3f5f"
          },
          "geo": {
           "bgcolor": "white",
           "lakecolor": "white",
           "landcolor": "#E5ECF6",
           "showlakes": true,
           "showland": true,
           "subunitcolor": "white"
          },
          "hoverlabel": {
           "align": "left"
          },
          "hovermode": "closest",
          "mapbox": {
           "style": "light"
          },
          "paper_bgcolor": "white",
          "plot_bgcolor": "#E5ECF6",
          "polar": {
           "angularaxis": {
            "gridcolor": "white",
            "linecolor": "white",
            "ticks": ""
           },
           "bgcolor": "#E5ECF6",
           "radialaxis": {
            "gridcolor": "white",
            "linecolor": "white",
            "ticks": ""
           }
          },
          "scene": {
           "xaxis": {
            "backgroundcolor": "#E5ECF6",
            "gridcolor": "white",
            "gridwidth": 2,
            "linecolor": "white",
            "showbackground": true,
            "ticks": "",
            "zerolinecolor": "white"
           },
           "yaxis": {
            "backgroundcolor": "#E5ECF6",
            "gridcolor": "white",
            "gridwidth": 2,
            "linecolor": "white",
            "showbackground": true,
            "ticks": "",
            "zerolinecolor": "white"
           },
           "zaxis": {
            "backgroundcolor": "#E5ECF6",
            "gridcolor": "white",
            "gridwidth": 2,
            "linecolor": "white",
            "showbackground": true,
            "ticks": "",
            "zerolinecolor": "white"
           }
          },
          "shapedefaults": {
           "line": {
            "color": "#2a3f5f"
           }
          },
          "ternary": {
           "aaxis": {
            "gridcolor": "white",
            "linecolor": "white",
            "ticks": ""
           },
           "baxis": {
            "gridcolor": "white",
            "linecolor": "white",
            "ticks": ""
           },
           "bgcolor": "#E5ECF6",
           "caxis": {
            "gridcolor": "white",
            "linecolor": "white",
            "ticks": ""
           }
          },
          "title": {
           "x": 0.05
          },
          "xaxis": {
           "automargin": true,
           "gridcolor": "white",
           "linecolor": "white",
           "ticks": "",
           "title": {
            "standoff": 15
           },
           "zerolinecolor": "white",
           "zerolinewidth": 2
          },
          "yaxis": {
           "automargin": true,
           "gridcolor": "white",
           "linecolor": "white",
           "ticks": "",
           "title": {
            "standoff": 15
           },
           "zerolinecolor": "white",
           "zerolinewidth": 2
          }
         }
        },
        "title": {
         "text": "社区划分交互式三维可视化 (UMAP + K-Means)"
        }
       }
      }
     },
     "metadata": {},
     "output_type": "display_data"
    }
   ],
   "source": [
    "import plotly.express as px\n",
    "\n",
    "df_3d = pd.DataFrame({\n",
    "    'UMAP_1': embeddings_2d[:, 0],\n",
    "    'UMAP_2': embeddings_2d[:, 1],\n",
    "    'UMAP_3': embeddings_2d[:, 2],\n",
    "    'Community': predicted_labels.astype(str)  # 转为字符串类型便于颜色区分\n",
    "})\n",
    "\n",
    "# 使用 Plotly Express 进行三维散点图交互式可视化\n",
    "fig = px.scatter_3d(\n",
    "    df_3d,\n",
    "    x='UMAP_1', y='UMAP_2', z='UMAP_3',\n",
    "    color='Community',\n",
    "    title=\"社区划分交互式三维可视化 (UMAP + K-Means)\",\n",
    "    labels={\n",
    "        \"UMAP_1\": \"UMAP 维度 1\",\n",
    "        \"UMAP_2\": \"UMAP 维度 2\",\n",
    "        \"UMAP_3\": \"UMAP 维度 3\"\n",
    "    }\n",
    ")\n",
    "fig.update_traces(marker=dict(size=3))\n",
    "fig.show()\n",
    "fig.write_html(\"plotly_3d.html\")"
   ]
  },
  {
   "cell_type": "code",
   "execution_count": 19,
   "metadata": {},
   "outputs": [
    {
     "data": {
      "image/png": "[encoded data removed]",
      "text/plain": [
       "<Figure size 800x600 with 1 Axes>"
      ]
     },
     "metadata": {},
     "output_type": "display_data"
    }
   ],
   "source": [
    "import torch\n",
    "import pandas as pd\n",
    "from sklearn.cluster import KMeans\n",
    "from sklearn.decomposition import PCA\n",
    "import matplotlib.pyplot as plt\n",
    "\n",
    "# 假设数据和模型已经训练完成，以下是提取社区划分的完整流程\n",
    "\n",
    "# 1. 获取节点嵌入\n",
    "autoencoder.eval()\n",
    "with torch.no_grad():\n",
    "    _, embeddings = autoencoder(data.edge_index, data.edge_attr, data.x)\n",
    "\n",
    "# 2. 使用 K-Means 进行社区划分\n",
    "num_clusters = 3  # 社区数量\n",
    "kmeans = KMeans(n_clusters=num_clusters, random_state=42)\n",
    "predicted_labels = kmeans.fit_predict(embeddings.cpu().numpy())\n",
    "\n",
    "# 3. 使用 PCA 进行降维\n",
    "pca = PCA(n_components=2)  # 将特征降到 2 维\n",
    "embeddings_2d = pca.fit_transform(embeddings.cpu().numpy())\n",
    "\n",
    "# 4. 可视化社区划分结果（根据 PCA 降维后的坐标）\n",
    "plt.figure(figsize=(8, 6))\n",
    "for cluster_id in range(num_clusters):\n",
    "    cluster_points = embeddings_2d[predicted_labels == cluster_id]\n",
    "    plt.scatter(cluster_points[:, 0], cluster_points[:, 1], label=f\"Community {cluster_id}\", s=5)\n",
    "\n",
    "plt.title(\"Community Detection Visualization with PCA\")\n",
    "plt.xlabel(\"PCA Dimension 1\")\n",
    "plt.ylabel(\"PCA Dimension 2\")\n",
    "plt.legend()\n",
    "plt.show()\n"
   ]
  },
  {
   "cell_type": "code",
   "execution_count": 20,
   "metadata": {},
   "outputs": [
    {
     "data": {
      "image/png": "[encoded data removed]",
      "text/plain": [
       "<Figure size 800x600 with 1 Axes>"
      ]
     },
     "metadata": {},
     "output_type": "display_data"
    }
   ],
   "source": [
    "import torch\n",
    "import pandas as pd\n",
    "from sklearn.cluster import KMeans\n",
    "from sklearn.decomposition import PCA\n",
    "import matplotlib.pyplot as plt\n",
    "\n",
    "# 假设数据和模型已经训练完成，以下是提取社区划分的完整流程\n",
    "\n",
    "# 1. 获取节点嵌入\n",
    "autoencoder.eval()\n",
    "with torch.no_grad():\n",
    "    _, embeddings = autoencoder(data.edge_index, data.edge_attr, data.x)\n",
    "\n",
    "# 2. 使用 K-Means 进行社区划分\n",
    "num_clusters = 5  # 社区数量\n",
    "kmeans = KMeans(n_clusters=num_clusters, random_state=42)\n",
    "predicted_labels = kmeans.fit_predict(embeddings.cpu().numpy())\n",
    "\n",
    "# 3. 使用 PCA 进行降维\n",
    "pca = PCA(n_components=2)  # 将特征降到 2 维\n",
    "embeddings_2d = pca.fit_transform(embeddings.cpu().numpy())\n",
    "\n",
    "# 获取 PCA 解释方差比率\n",
    "explained_var_ratio = pca.explained_variance_ratio_\n",
    "\n",
    "# 4. 可视化社区划分结果（根据 PCA 降维后的坐标）\n",
    "plt.figure(figsize=(8, 6))\n",
    "for cluster_id in range(num_clusters):\n",
    "    cluster_points = embeddings_2d[predicted_labels == cluster_id]\n",
    "    plt.scatter(cluster_points[:, 0], cluster_points[:, 1], label=f\"Community {cluster_id}\", s=5)\n",
    "\n",
    "# 添加标题和标签\n",
    "plt.title(\"Community Detection Visualization with PCA\")\n",
    "plt.xlabel(f\"PCA Dimension 1 ({explained_var_ratio[0]:.2%} explained variance)\")\n",
    "plt.ylabel(f\"PCA Dimension 2 ({explained_var_ratio[1]:.2%} explained variance)\")\n",
    "plt.legend()\n",
    "plt.show()\n"
   ]
  },
  {
   "cell_type": "code",
   "execution_count": 21,
   "metadata": {},
   "outputs": [
    {
     "name": "stdout",
     "output_type": "stream",
     "text": [
      "Feature Matrix (first 5 rows):\n",
      "         0         1         2         3         4         5         6   \\\n",
      "0 -0.149567 -0.131284  0.088686  0.024237 -0.013933 -0.020143  0.139004   \n",
      "1 -0.157788 -0.141880  0.089691  0.030671 -0.012657 -0.016156  0.142967   \n",
      "2 -0.149472 -0.131035  0.088514  0.024189 -0.013862 -0.020174  0.138741   \n",
      "3 -0.149633 -0.131457  0.088804  0.024269 -0.013985 -0.020120  0.139185   \n",
      "4 -0.285238 -0.387657  0.299779  0.206037 -0.014925 -0.019475  0.439640   \n",
      "\n",
      "         7         8         9         10        11        12        13  \\\n",
      "0  0.018716  0.019837 -0.115542  0.005492  0.002063  0.048960  0.003578   \n",
      "1  0.030917  0.021491 -0.122024  0.016151  0.001809  0.040938 -0.001361   \n",
      "2  0.018709  0.019764 -0.115357  0.005535  0.001965  0.048789  0.003437   \n",
      "3  0.018721  0.019887 -0.115672  0.005460  0.002133  0.049082  0.003680   \n",
      "4  0.177588  0.108570 -0.248179  0.123494 -0.043800  0.071731 -0.020208   \n",
      "\n",
      "         14        15  \n",
      "0 -0.228258 -0.137048  \n",
      "1 -0.229976 -0.139730  \n",
      "2 -0.228052 -0.136926  \n",
      "3 -0.228400 -0.137132  \n",
      "4 -0.356569 -0.273396  \n"
     ]
    }
   ],
   "source": [
    "import torch\n",
    "import pandas as pd\n",
    "\n",
    "# 假设数据和模型已经训练完成，以下是提取社区划分的完整流程\n",
    "\n",
    "# 1. 获取节点嵌入\n",
    "autoencoder.eval()\n",
    "with torch.no_grad():\n",
    "    _, embeddings = autoencoder(data.edge_index, data.edge_attr, data.x)\n",
    "\n",
    "# 2. 转换为 Pandas DataFrame 或 NumPy 数组\n",
    "# 如果你想将特征矩阵输出为 pandas DataFrame 格式\n",
    "embeddings_df = pd.DataFrame(embeddings.cpu().numpy())\n",
    "\n",
    "# 或者你也可以直接输出为 NumPy 数组格式\n",
    "embeddings_np = embeddings.cpu().numpy()\n",
    "\n",
    "# 输出特征矩阵（这里显示前 5 行以查看内容）\n",
    "print(\"Feature Matrix (first 5 rows):\")\n",
    "print(embeddings_df.head())\n",
    "\n",
    "# 如果你想保存为文件，可以使用以下方式保存：\n",
    "# 保存为 CSV 文件\n",
    "embeddings_df.to_csv(\"/users/lfluo/downloads/embeddings.csv\", index=False)\n",
    "\n",
    "# 保存为 Numpy 文件\n",
    "import numpy as np\n",
    "np.save(\"embeddings.npy\", embeddings_np)\n"
   ]
  },
  {
   "cell_type": "code",
   "execution_count": 22,
   "metadata": {},
   "outputs": [
    {
     "name": "stdout",
     "output_type": "stream",
     "text": [
      "Modularity: 0.1327\n"
     ]
    }
   ],
   "source": [
    "# 评估社区检测\n",
    "num_communities = 3  # 根据需求设置社区数量\n",
    "mod, predicted_communities = evaluate(autoencoder, data, embeddings, num_communities=num_communities)\n"
   ]
  },
  {
   "cell_type": "code",
   "execution_count": 23,
   "metadata": {},
   "outputs": [],
   "source": [
    "import numpy as np\n",
    "\n",
    "# 假设 embeddings 是一个 PyTorch tensor\n",
    "if isinstance(embeddings, torch.Tensor):\n",
    "    embeddings = embeddings.cpu()\n",
    "\n",
    "# 转换为 NumPy 数组\n",
    "embeddings = embeddings.numpy()\n"
   ]
  },
  {
   "cell_type": "code",
   "execution_count": 24,
   "metadata": {},
   "outputs": [],
   "source": [
    "# 将 NaN 替换为 0\n",
    "embeddings = np.nan_to_num(embeddings, nan=0.0)\n",
    "\n",
    "# 将 Inf 替换为一个较大的数值（例如 1e10）\n",
    "embeddings[np.isinf(embeddings)] = 1e10\n"
   ]
  },
  {
   "cell_type": "code",
   "execution_count": null,
   "metadata": {},
   "outputs": [],
   "source": [
    "# 将 NaN 替换为 0\n",
    "embeddings = np.nan_to_num(embeddings, nan=0.0)\n",
    "\n",
    "# 将 Inf 替换为一个较大的数值（例如 1e10）\n",
    "embeddings[np.isinf(embeddings)] = 1e10\n"
   ]
  },
  {
   "cell_type": "code",
   "execution_count": null,
   "metadata": {},
   "outputs": [],
   "source": [
    "if np.any(np.isnan(embeddings)) or np.any(np.isinf(embeddings)):\n",
    "    raise ValueError(\"Embedding contains NaNs or Infs after processing!\")\n",
    "else:\n",
    "    print(\"Embeddings are clean. Proceeding with t-SNE.\")"
   ]
  },
  {
   "cell_type": "code",
   "execution_count": null,
   "metadata": {},
   "outputs": [],
   "source": [
    "import numpy as np\n",
    "import matplotlib.pyplot as plt\n",
    "from sklearn.manifold import TSNE\n",
    "import torch\n",
    "\n",
    "def visualize_embeddings(embeddings, predicted_communities):\n",
    "    \"\"\"\n",
    "    使用 t-SNE 对节点嵌入进行降维，并绘制散点图。\n",
    "    \"\"\"\n",
    "    # 确保 embeddings 是 tensor 并在 GPU 上\n",
    "    if isinstance(embeddings, torch.Tensor):\n",
    "        # 将 embeddings 从 GPU 移动到 CPU\n",
    "        embeddings = embeddings.cpu()\n",
    "    \n",
    "    # 转换为 NumPy 数组\n",
    "    embeddings = embeddings.numpy()\n",
    "    \n",
    "    # 处理 NaN 和 Inf\n",
    "    embeddings = np.nan_to_num(embeddings, nan=0.0, posinf=1e10, neginf=-1e10)\n",
    "    \n",
    "    # 再次检查是否有 NaN 或 Inf\n",
    "    if np.any(np.isnan(embeddings)) or np.any(np.isinf(embeddings)):\n",
    "        raise ValueError(\"Embedding contains NaNs or Infs after processing!\")\n",
    "    else:\n",
    "        print(\"Embeddings are clean. Proceeding with t-SNE.\")\n",
    "    \n",
    "    # 使用 t-SNE 降维\n",
    "    tsne = TSNE(n_components=2, random_state=42)\n",
    "    embeddings_2d = tsne.fit_transform(embeddings)\n",
    "    \n",
    "    # 绘制\n",
    "    plt.figure(figsize=(12, 6))\n",
    "    scatter = plt.scatter(embeddings_2d[:, 0], embeddings_2d[:, 1], \n",
    "                          c=predicted_communities, cmap='viridis', s=50, alpha=0.7)\n",
    "    plt.colorbar(scatter)\n",
    "    plt.title('t-SNE Visualization of Embeddings')\n",
    "    plt.xlabel('t-SNE Dimension 1')\n",
    "    plt.ylabel('t-SNE Dimension 2')\n",
    "    plt.show()\n"
   ]
  },
  {
   "cell_type": "code",
   "execution_count": null,
   "metadata": {},
   "outputs": [],
   "source": [
    "# 可视化嵌入\n",
    "try:\n",
    "    visualize_embeddings(embeddings, predicted_communities)\n",
    "except ValueError as e:\n",
    "    print(f\"Error during visualization: {e}\")\n",
    "    # 根据需要处理错误，例如跳过可视化或记录日志\n",
    "\n",
    "# 可视化图结构与社区划分\n",
    "visualize_graph_with_communities(data, predicted_communities)"
   ]
  },
  {
   "cell_type": "code",
   "execution_count": null,
   "metadata": {},
   "outputs": [],
   "source": [
    "from sklearn.manifold import TSNE\n",
    "import matplotlib.pyplot as plt\n",
    "\n",
    "def visualize_embeddings(embeddings, predicted_communities):\n",
    "    \"\"\"\n",
    "    使用 t-SNE 对节点嵌入进行降维，并绘制散点图。\n",
    "    \"\"\"\n",
    "    # 使用 t-SNE 降维\n",
    "    tsne = TSNE(n_components=2, random_state=42)\n",
    "    embeddings_2d = tsne.fit_transform(embeddings)\n",
    "\n",
    "    plt.figure(figsize=(12, 6))\n",
    "    # 绘制预测社区\n",
    "    scatter = plt.scatter(embeddings_2d[:, 0], embeddings_2d[:, 1], c=predicted_communities, cmap='viridis', s=50)\n",
    "    plt.colorbar(scatter)\n",
    "    plt.title('t-SNE Visualization of Embeddings')\n",
    "    plt.xlabel('t-SNE Dimension 1')\n",
    "    plt.ylabel('t-SNE Dimension 2')\n",
    "    plt.show()\n",
    "\n",
    "# 在主函数中调用\n",
    "visualize_embeddings(embeddings, predicted_communities)\n"
   ]
  },
  {
   "cell_type": "code",
   "execution_count": null,
   "metadata": {},
   "outputs": [],
   "source": [
    "from sklearn.manifold import TSNE\n",
    "import matplotlib.pyplot as plt\n",
    "\n",
    "# 可视化嵌入\n",
    "visualize_embeddings(embeddings.cpu().numpy(), predicted_communities)\n",
    "\n",
    "# 可视化图结构与社区划分\n",
    "visualize_graph(data, predicted_communities)\n"
   ]
  },
  {
   "cell_type": "code",
   "execution_count": null,
   "metadata": {},
   "outputs": [],
   "source": [
    "# 评估社区检测\n",
    "num_communities = 10  # 根据需求设置社区数量\n",
    "mod, predicted_communities = evaluate(autoencoder, data, embeddings, num_communities=num_communities)"
   ]
  },
  {
   "cell_type": "code",
   "execution_count": null,
   "metadata": {},
   "outputs": [],
   "source": [
    "embeddings = embeddings.cpu().numpy()\n",
    "embeddings = np.nan_to_num(embeddings, nan=0.0)\n",
    "\n",
    "# 将 Inf 替换为一个较大的数值（例如 1e10）\n",
    "embeddings[np.isinf(embeddings)] = 1e10"
   ]
  },
  {
   "cell_type": "code",
   "execution_count": null,
   "metadata": {},
   "outputs": [],
   "source": [
    "def visualize_embeddings(embeddings, predicted_communities):\n",
    "    \"\"\"\n",
    "    使用 t-SNE 对节点嵌入进行降维，并绘制散点图。\n",
    "    \"\"\"\n",
    "    # 如果 embeddings 是 tensor，先将其转换为 numpy 数组\n",
    "    if isinstance(embeddings, torch.Tensor):\n",
    "        embeddings = embeddings.cpu().numpy()\n",
    "\n",
    "    # 将 NaN 替换为 0\n",
    "    embeddings = np.nan_to_num(embeddings, nan=0.0)\n",
    "\n",
    "    # 将 Inf 替换为一个较大的数值（例如 1e10）\n",
    "    embeddings[np.isinf(embeddings)] = 1e10\n",
    "\n",
    "    # 使用 t-SNE 降维\n",
    "    tsne = TSNE(n_components=2, random_state=42)\n",
    "    embeddings_2d = tsne.fit_transform(embeddings)\n",
    "\n",
    "    plt.figure(figsize=(12, 6))\n",
    "    # 绘制预测社区\n",
    "    scatter = plt.scatter(embeddings_2d[:, 0], embeddings_2d[:, 1], c=predicted_communities, cmap='viridis', s=50)\n",
    "    plt.colorbar(scatter)\n",
    "    plt.title('t-SNE Visualization of Embeddings')\n",
    "    plt.show()\n",
    "\n",
    "# 假设 embeddings 是一个 tensor 对象，predicted_communities 是预测的社区标签\n",
    "visualize_embeddings(embeddings, predicted_communities)"
   ]
  },
  {
   "cell_type": "code",
   "execution_count": null,
   "metadata": {},
   "outputs": [],
   "source": [
    "from sklearn.manifold import TSNE\n",
    "import matplotlib.pyplot as plt\n",
    "\n",
    "# 可视化嵌入\n",
    "visualize_embeddings(embeddings.cpu().numpy(), predicted_communities)\n",
    "\n",
    "# 可视化图结构与社区划分\n",
    "visualize_graph(data, predicted_communities)"
   ]
  },
  {
   "cell_type": "code",
   "execution_count": null,
   "metadata": {},
   "outputs": [],
   "source": [
    "def visualize_graph_with_communities(data, predicted_communities):\n",
    "    \"\"\"\n",
    "    可视化图结构与社区划分。每个社区的节点用不同的颜色表示。\n",
    "    \"\"\"\n",
    "    # 创建一个 NetworkX 图对象\n",
    "    G = nx.Graph()\n",
    "\n",
    "    # 添加节点及其特征\n",
    "    for i in range(data.num_nodes):\n",
    "        G.add_node(i, feature=data.x[i].cpu().numpy())\n",
    "    \n",
    "    # 添加边\n",
    "    edge_index = data.edge_index.cpu().numpy()\n",
    "    for i in range(edge_index.shape[1]):\n",
    "        G.add_edge(edge_index[0, i], edge_index[1, i])\n",
    "    \n",
    "    # 为每个节点添加社区信息\n",
    "    for node, community in enumerate(predicted_communities):\n",
    "        G.nodes[node]['community'] = community\n",
    "    \n",
    "    # 为了不同社区的节点分配不同的颜色\n",
    "    communities = list(set(predicted_communities))\n",
    "    community_colors = {community: plt.cm.get_cmap('tab20')(i / len(communities)) for i, community in enumerate(communities)}\n",
    "    \n",
    "    # 绘制网络\n",
    "    plt.figure(figsize=(12, 12))\n",
    "    pos = nx.spring_layout(G, seed=42)  # 布局方式：spring_layout\n",
    "\n",
    "    # 绘制节点，并根据社区给节点着色\n",
    "    node_colors = [community_colors[G.nodes[node]['community']] for node in G.nodes]\n",
    "    nx.draw_networkx_nodes(G, pos, node_size=500, node_color=node_colors, alpha=0.7)\n",
    "    \n",
    "    # 绘制边\n",
    "    nx.draw_networkx_edges(G, pos, alpha=0.5)\n",
    "    \n",
    "    # 绘制标签\n",
    "    nx.draw_networkx_labels(G, pos, font_size=10, font_color='black')\n",
    "\n",
    "    # 标题\n",
    "    plt.title(\"Graph Structure with Community Detection\", fontsize=15)\n",
    "    plt.axis('off')\n",
    "    plt.show()\n",
    "\n",
    "    # 保存社区划分结果\n",
    "    save_community_results(predicted_communities)\n",
    "\n",
    "\n",
    "def save_community_results(predicted_communities):\n",
    "    \"\"\"\n",
    "    将节点和它们的社区划分保存为 CSV 文件。\n",
    "    \"\"\"\n",
    "    # 创建节点编号和社区划分的字典\n",
    "    community_results = {\"Node\": list(range(len(predicted_communities))), \"Community\": predicted_communities}\n",
    "    df = pd.DataFrame(community_results)\n",
    "\n",
    "    # 保存为 CSV 文件\n",
    "    df.to_csv('community_results.csv', index=False)\n",
    "    print(\"社区划分结果已保存为 'community_results.csv'。\")\n"
   ]
  },
  {
   "cell_type": "code",
   "execution_count": null,
   "metadata": {},
   "outputs": [],
   "source": [
    "gene_communities = {id_to_name[idx]: comm for idx, comm in enumerate(predicted_communities)}\n",
    "gene_comm_df = pd.DataFrame(list(gene_communities.items()), columns=['Gene', 'Community'])\n",
    "gene_comm_df.to_csv('gene_communities3.csv', index=False)\n",
    "print(\"社区划分结果已保存为 'gene_communities.csv'。\")"
   ]
  },
  {
   "cell_type": "code",
   "execution_count": null,
   "metadata": {},
   "outputs": [],
   "source": [
    "\n",
    "torch.cuda.empty_cache()"
   ]
  }
 ],
 "metadata": {
  "kernelspec": {
   "display_name": "mod_det",
   "language": "python",
   "name": "python3"
  },
  "language_info": {
   "codemirror_mode": {
    "name": "ipython",
    "version": 3
   },
   "file_extension": ".py",
   "mimetype": "text/x-python",
   "name": "python",
   "nbconvert_exporter": "python",
   "pygments_lexer": "ipython3",
   "version": "3.11.10"
  }
 },
 "nbformat": 4,
 "nbformat_minor": 2
}
