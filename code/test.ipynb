{
 "cells": [
  {
   "cell_type": "markdown",
   "metadata": {},
   "source": [
    "conda create -n protein_gcn python=3.9\n",
    "conda activate protein_gcn"
   ]
  },
  {
   "cell_type": "code",
   "execution_count": null,
   "metadata": {},
   "outputs": [],
   "source": [
    "# 导入数据处理模块\n",
    "from pdb_data_processing import process_proteins\n",
    "\n",
    "# 定义参数\n",
    "csv_path = 'proteins.csv'\n",
    "pdb_folder = './pdb_files'\n",
    "all_assign_path = 'all_assign.txt'\n",
    "distance_threshold = 7.5\n",
    "\n",
    "# 处理蛋白质数据\n",
    "data_list = process_proteins(csv_path, pdb_folder, all_assign_path, distance_threshold)\n",
    "print(f\"Processed {len(data_list)} proteins.\")"
   ]
  },
  {
   "cell_type": "code",
   "execution_count": null,
   "metadata": {},
   "outputs": [],
   "source": [
    "from GCN_model import GCN\n",
    "\n",
    "# 定义模型参数\n",
    "input_dim = 7  # 根据您的特征维度调整\n",
    "hidden_dim = 128\n",
    "output_dim = 128\n",
    "pooling_ratio = 0.5\n",
    "dropout_rate = 0.5\n",
    "\n",
    "# 初始化模型\n",
    "device = torch.device('cuda:0' if torch.cuda.is_available() else 'cpu')\n",
    "model = GCN(input_dim, hidden_dim, output_dim, pooling_ratio, dropout_rate).to(device)\n",
    "model.eval()"
   ]
  },
  {
   "cell_type": "code",
   "execution_count": null,
   "metadata": {},
   "outputs": [],
   "source": [
    "from protein_feature_extraction import extract_features\n",
    "\n",
    "# 提取特征\n",
    "extracted_features = extract_features(model, data_list, device, batch_size=32)\n",
    "\n",
    "# 保存特征\n",
    "np.save('features.npy', extracted_features)\n",
    "print(\"Saved extracted features to features.npy\")"
   ]
  },
  {
   "cell_type": "code",
   "execution_count": null,
   "metadata": {},
   "outputs": [],
   "source": [
    "from GCN_evaluation import visualize_features, plot_silhouette_score\n",
    "import numpy as np\n",
    "\n",
    "# 加载特征\n",
    "extracted_features = np.load('features.npy', allow_pickle=True)\n",
    "\n",
    "# 聚合特征（例如，取平均）\n",
    "protein_features = np.array([item['feature'] for item in extracted_features])\n",
    "\n",
    "# 可视化\n",
    "visualize_features(protein_features, method='pca')\n",
    "visualize_features(protein_features, method='tsne')\n",
    "\n",
    "# 计算轮廓系数\n",
    "sil_score = plot_silhouette_score(protein_features, n_clusters=10)"
   ]
  },
  {
   "cell_type": "code",
   "execution_count": null,
   "metadata": {},
   "outputs": [],
   "source": [
    "from hyperparameter_tuning import grid_search\n",
    "from model import GCN\n",
    "\n",
    "# 定义超参数网格\n",
    "param_grid = {\n",
    "    'hidden_dim': [64, 128, 256],\n",
    "    'dropout_rate': [0.3, 0.5, 0.7],\n",
    "    'pooling_ratio': [0.3, 0.5, 0.7]\n",
    "}\n",
    "\n",
    "# 进行网格搜索\n",
    "best_params, best_score = grid_search(\n",
    "    model_class=GCN,\n",
    "    data_list=data_list,\n",
    "    device=device,\n",
    "    param_grid=param_grid,\n",
    "    n_clusters=10,\n",
    "    batch_size=32\n",
    ")\n",
    "print(f\"Best Parameters: {best_params}, Best Silhouette Score: {best_score:.4f}\")"
   ]
  },
  {
   "cell_type": "code",
   "execution_count": null,
   "metadata": {},
   "outputs": [],
   "source": [
    "# 5. 应用最佳参数并重新提取特征\n",
    "if grid_search_enabled and best_params is not None:\n",
    "    print(\"Applying best parameters to GCN model...\")\n",
    "    optimized_gcn = ProteinGCNModel(\n",
    "        input_dim=7,  # 根据您的特征维度调整\n",
    "        hidden_dim=best_params['hidden_dim'],\n",
    "        output_dim=128,  # 可以根据需要调整\n",
    "        pooling_ratio=best_params['pooling_ratio'],\n",
    "        dropout_rate=best_params['dropout_rate']\n",
    "    ).to(device)\n",
    "    optimized_gcn.eval()\n",
    "    \n",
    "    print(\"Extracting features with optimized GCN...\")\n",
    "    optimized_features = extract_features(optimized_gcn, data_list, device, batch_size=batch_size)\n",
    "    \n",
    "    # 保存优化后的特征\n",
    "    optimized_output_features_path = 'optimized_features.npy'\n",
    "    np.save(optimized_output_features_path, optimized_features)\n",
    "    print(f\"Saved optimized features to {optimized_output_features_path}\")\n",
    "    \n",
    "    # 重新评估与可视化\n",
    "    optimized_protein_features = np.array([item['feature'] for item in optimized_features])\n",
    "    \n",
    "    print(\"Visualizing optimized features with PCA...\")\n",
    "    visualize_features(optimized_protein_features, method='pca')\n",
    "    \n",
    "    print(\"Visualizing optimized features with t-SNE...\")\n",
    "    visualize_features(optimized_protein_features, method='tsne')\n",
    "    \n",
    "    # 计算轮廓系数\n",
    "    optimized_sil_score = plot_silhouette_score(optimized_protein_features, n_clusters=10)\n",
    "    print(f\"Optimized Silhouette Score: {optimized_sil_score:.4f}\")"
   ]
  }
 ],
 "metadata": {
  "language_info": {
   "name": "python"
  }
 },
 "nbformat": 4,
 "nbformat_minor": 2
}
